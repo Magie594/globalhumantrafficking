{
 "cells": [
  {
   "cell_type": "code",
   "execution_count": 34,
   "id": "c35ecdba",
   "metadata": {},
   "outputs": [
    {
     "name": "stdout",
     "output_type": "stream",
     "text": [
      "Requirement already satisfied: openpyxl in c:\\users\\sanch\\anaconda3\\lib\\site-packages (3.0.10)\n",
      "Requirement already satisfied: et_xmlfile in c:\\users\\sanch\\anaconda3\\lib\\site-packages (from openpyxl) (1.1.0)\n",
      "Requirement already satisfied: xlrd in c:\\users\\sanch\\anaconda3\\lib\\site-packages (2.0.1)\n"
     ]
    }
   ],
   "source": [
    "from bs4 import BeautifulSoup\n",
    "import requests\n",
    "import pandas as pd\n",
    "import os\n",
    "!pip install openpyxl\n",
    "!pip install xlrd"
   ]
  },
  {
   "cell_type": "code",
   "execution_count": 35,
   "id": "d481362d",
   "metadata": {},
   "outputs": [],
   "source": [
    "url = \"https://www.ctdatacollaborative.org/page/global-dataset\""
   ]
  },
  {
   "cell_type": "code",
   "execution_count": 36,
   "id": "6881adf8",
   "metadata": {},
   "outputs": [
    {
     "data": {
      "text/plain": [
       "200"
      ]
     },
     "execution_count": 36,
     "metadata": {},
     "output_type": "execute_result"
    }
   ],
   "source": [
    "response = requests.get(url)\n",
    "response.status_code"
   ]
  },
  {
   "cell_type": "code",
   "execution_count": 37,
   "id": "9c3792a3",
   "metadata": {},
   "outputs": [],
   "source": [
    "soup = BeautifulSoup(response.content, \"html.parser\")"
   ]
  },
  {
   "cell_type": "code",
   "execution_count": 38,
   "id": "b4124675",
   "metadata": {},
   "outputs": [],
   "source": [
    "FILETYPE ='.xlsx'"
   ]
  },
  {
   "cell_type": "code",
   "execution_count": 6,
   "id": "f50d232c",
   "metadata": {},
   "outputs": [],
   "source": [
    "# soup"
   ]
  },
  {
   "cell_type": "code",
   "execution_count": 7,
   "id": "b79f6444",
   "metadata": {},
   "outputs": [
    {
     "data": {
      "text/plain": [
       "[<a class=\"format-label\" data-format=\"xlsx\" href=\"/sites/g/files/tmzbdl2011/files/CTDC%20Global%20Dataset%20DATA%20DICTIONARY%20version%2015082018.xlsx\" title=\"CTDC Global Dataset DATA DICTIONARY version 15082018.xlsx\" type=\"application/vnd.openxmlformats-officedocument.spreadsheetml.sheet; length=43682\">CTDC Global Dataset DATA DICTIONARY version 15082018.xlsx</a>]"
      ]
     },
     "execution_count": 7,
     "metadata": {},
     "output_type": "execute_result"
    }
   ],
   "source": [
    "soup.select(\"#block-ctdc-system-main > div > article > div > div:nth-child(1) > div > div:nth-child(4) > div > div:nth-child(1) > div > div > div > div > article > div > div.field.field-name-field-upload.field-type-recline-field.field-label-hidden > div > div > div.download > a\")"
   ]
  },
  {
   "cell_type": "code",
   "execution_count": 8,
   "id": "4de54468",
   "metadata": {},
   "outputs": [],
   "source": [
    "#block-ctdc-system-main > div > article > div > div:nth-child(1) > div > div:nth-child(4) > div > div:nth-child(1) > div > div > div > div > article > div > div.field.field-name-field-upload.field-type-recline-field.field-label-hidden > div > div > div.download"
   ]
  },
  {
   "cell_type": "code",
   "execution_count": 9,
   "id": "7c6da29e",
   "metadata": {},
   "outputs": [],
   "source": [
    "#block-ctdc-system-main > div > article > div > div > div > div.block.block-block-content.block-block-contentba5cb75c-b007-44c4-83c9-32d295822338 > div > div > div.field__items > div > article > div > div:nth-child(4) > div > div > ul > li:nth-child(3) > div > a > span"
   ]
  },
  {
   "cell_type": "code",
   "execution_count": 10,
   "id": "eab07828",
   "metadata": {},
   "outputs": [],
   "source": [
    "# divs = soup.find_all('div', class_='download')"
   ]
  },
  {
   "cell_type": "code",
   "execution_count": 11,
   "id": "16e1bb6a",
   "metadata": {},
   "outputs": [],
   "source": [
    "# soup.select(\"div a\")"
   ]
  },
  {
   "cell_type": "code",
   "execution_count": 47,
   "id": "204dd808",
   "metadata": {},
   "outputs": [],
   "source": [
    "# import os\n",
    "# import requests\n",
    "# from bs4 import BeautifulSoup\n",
    "\n",
    "\n",
    "# labs = os.path.expanduser(\"~\\labs\\Final Project\")\n",
    "\n",
    "# url = 'https://www.ctdatacollaborative.org/page/global-dataset'\n",
    "\n",
    "# response = requests.get(url)\n",
    "\n",
    "# soup = BeautifulSoup(response.text, 'html.parser')\n",
    "# excel_files = soup.select('a[href*=xls]')\n",
    "\n",
    "# for each in excel_files:\n",
    "#     if 'CTDC Global Dataset DATA DICTIONARY version 15082018.xlsx' in each.text:\n",
    "#         link = 'https://www.ctdatacollaborative.org' + each['href']\n",
    "\n",
    "#         filename = each['href'].split('/')[-1]\n",
    "\n",
    "#         if os.path.isfile(labs\\Final Project + '/' + 'CTDC Global Dataset DATA DICTIONARY version 15082018.xlsx'):\n",
    "#             print ('*** File already exists: %s ***' %'CTDC Global Dataset DATA DICTIONARY version 15082018.xlsx')\n",
    "#             continue\n",
    "\n",
    "#         resp = requests.get(link)\n",
    "#         output = open(labs\\Final Project + '/' + 'CTDC Global Dataset DATA DICTIONARY version 15082018.xlsx', 'wb')\n",
    "#         output.write(resp.content)\n",
    "#         output.close()\n",
    "#         print ('Saved: %s' %'CTDC Global Dataset DATA DICTIONARY version 15082018.xlsx')"
   ]
  },
  {
   "cell_type": "code",
   "execution_count": 61,
   "id": "a518540a",
   "metadata": {},
   "outputs": [
    {
     "name": "stdout",
     "output_type": "stream",
     "text": [
      "Saved: CTDC%20Global%20Dataset%20DATA%20DICTIONARY%20version%2015082018.xlsx\n"
     ]
    }
   ],
   "source": [
    "import os\n",
    "import requests\n",
    "from bs4 import BeautifulSoup\n",
    "\n",
    "\n",
    "labs = os.path.expanduser(\"~/labs/Final Project\")\n",
    "\n",
    "url = 'https://www.ctdatacollaborative.org/page/global-dataset'\n",
    "\n",
    "response = requests.get(url)\n",
    "\n",
    "soup = BeautifulSoup(response.text, 'html.parser')\n",
    "excel_files = soup.select('a[href*=xlsx]')\n",
    "\n",
    "for each in excel_files:\n",
    "    if 'CTDC Global Dataset DATA DICTIONARY version 15082018.xlsx' in each.text:\n",
    "        link = 'https://www.ctdatacollaborative.org/page/global-dataset' + each['href']\n",
    "\n",
    "        filename = each['href'].split('/')[-1]\n",
    "\n",
    "        if os.path.isfile(labs + '/' + filename):\n",
    "            print ('*** File already exists: %s ***' %filename)\n",
    "            continue\n",
    "\n",
    "        resp = requests.get(link, allow_redirects=True)\n",
    "        output = open(labs + '/' + filename, 'wb')\n",
    "        output.write(resp.content)\n",
    "        output.close()\n",
    "        print ('Saved: %s' %filename)\n",
    "#         print(resp.content)\n",
    "#         print(each['href'])"
   ]
  },
  {
   "cell_type": "code",
   "execution_count": null,
   "id": "6b513b40",
   "metadata": {},
   "outputs": [],
   "source": [
    "https://stackoverflow.com/questions/56459371/download-xls-file-from-a-webpage-web-scraper"
   ]
  }
 ],
 "metadata": {
  "kernelspec": {
   "display_name": "Python 3 (ipykernel)",
   "language": "python",
   "name": "python3"
  },
  "language_info": {
   "codemirror_mode": {
    "name": "ipython",
    "version": 3
   },
   "file_extension": ".py",
   "mimetype": "text/x-python",
   "name": "python",
   "nbconvert_exporter": "python",
   "pygments_lexer": "ipython3",
   "version": "3.10.9"
  }
 },
 "nbformat": 4,
 "nbformat_minor": 5
}
