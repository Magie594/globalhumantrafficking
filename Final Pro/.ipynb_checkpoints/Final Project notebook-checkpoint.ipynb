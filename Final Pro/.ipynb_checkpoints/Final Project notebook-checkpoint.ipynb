{
 "cells": [
  {
   "cell_type": "code",
   "execution_count": 6,
   "id": "63c450f8",
   "metadata": {},
   "outputs": [],
   "source": [
    "# import numpy and pandas\n",
    "import numpy as np\n",
    "import pandas\n",
    "import pandas as pd\n",
    "\n",
    "\n",
    "import matplotlib.pyplot as plt\n",
    "get_ipython().run_line_magic('matplotlib', 'inline')\n",
    "import seaborn as sns\n",
    "%matplotlib inline\n",
    "from sklearn.preprocessing import OneHotEncoder\n",
    "from sklearn.model_selection import train_test_split\n",
    "from sklearn.preprocessing import StandardScaler\n",
    "from sklearn import model_selection\n",
    "from sklearn.metrics import mean_squared_error, r2_score\n",
    "from pandas import DataFrame\n",
    "from sklearn.model_selection import cross_val_score\n",
    "from sklearn.ensemble import RandomForestRegressor\n",
    "from sklearn.metrics import accuracy_score, classification_report\n",
    "import math\n"
   ]
  },
  {
   "cell_type": "code",
   "execution_count": 7,
   "id": "21bb4ed5",
   "metadata": {},
   "outputs": [
    {
     "name": "stderr",
     "output_type": "stream",
     "text": [
      "C:\\Users\\sanch\\AppData\\Local\\Temp\\ipykernel_21608\\1119502492.py:1: DtypeWarning: Columns (54) have mixed types. Specify dtype option on import or set low_memory=False.\n",
      "  data = pd.read_csv('human_trafficking.csv')\n"
     ]
    },
    {
     "data": {
      "text/html": [
       "<div>\n",
       "<style scoped>\n",
       "    .dataframe tbody tr th:only-of-type {\n",
       "        vertical-align: middle;\n",
       "    }\n",
       "\n",
       "    .dataframe tbody tr th {\n",
       "        vertical-align: top;\n",
       "    }\n",
       "\n",
       "    .dataframe thead th {\n",
       "        text-align: right;\n",
       "    }\n",
       "</style>\n",
       "<table border=\"1\" class=\"dataframe\">\n",
       "  <thead>\n",
       "    <tr style=\"text-align: right;\">\n",
       "      <th></th>\n",
       "      <th>yearOfRegistration</th>\n",
       "      <th>Datasource</th>\n",
       "      <th>gender</th>\n",
       "      <th>ageBroad</th>\n",
       "      <th>majorityStatus</th>\n",
       "      <th>majorityStatusAtExploit</th>\n",
       "      <th>majorityEntry</th>\n",
       "      <th>citizenship</th>\n",
       "      <th>meansOfControlDebtBondage</th>\n",
       "      <th>meansOfControlTakesEarnings</th>\n",
       "      <th>...</th>\n",
       "      <th>typeOfSexPrivateSexualServices</th>\n",
       "      <th>typeOfSexConcatenated</th>\n",
       "      <th>isAbduction</th>\n",
       "      <th>RecruiterRelationship</th>\n",
       "      <th>CountryOfExploitation</th>\n",
       "      <th>recruiterRelationIntimatePartner</th>\n",
       "      <th>recruiterRelationFriend</th>\n",
       "      <th>recruiterRelationFamily</th>\n",
       "      <th>recruiterRelationOther</th>\n",
       "      <th>recruiterRelationUnknown</th>\n",
       "    </tr>\n",
       "  </thead>\n",
       "  <tbody>\n",
       "    <tr>\n",
       "      <th>0</th>\n",
       "      <td>2002</td>\n",
       "      <td>Case Management</td>\n",
       "      <td>Female</td>\n",
       "      <td>18--20</td>\n",
       "      <td>Adult</td>\n",
       "      <td>-99</td>\n",
       "      <td>-99</td>\n",
       "      <td>CO</td>\n",
       "      <td>-99</td>\n",
       "      <td>-99</td>\n",
       "      <td>...</td>\n",
       "      <td>-99</td>\n",
       "      <td>-99</td>\n",
       "      <td>-99</td>\n",
       "      <td>-99</td>\n",
       "      <td>-99</td>\n",
       "      <td>0</td>\n",
       "      <td>0</td>\n",
       "      <td>0</td>\n",
       "      <td>0</td>\n",
       "      <td>1</td>\n",
       "    </tr>\n",
       "    <tr>\n",
       "      <th>1</th>\n",
       "      <td>2002</td>\n",
       "      <td>Case Management</td>\n",
       "      <td>Female</td>\n",
       "      <td>18--20</td>\n",
       "      <td>Adult</td>\n",
       "      <td>-99</td>\n",
       "      <td>-99</td>\n",
       "      <td>CO</td>\n",
       "      <td>-99</td>\n",
       "      <td>-99</td>\n",
       "      <td>...</td>\n",
       "      <td>-99</td>\n",
       "      <td>-99</td>\n",
       "      <td>-99</td>\n",
       "      <td>-99</td>\n",
       "      <td>-99</td>\n",
       "      <td>0</td>\n",
       "      <td>0</td>\n",
       "      <td>0</td>\n",
       "      <td>0</td>\n",
       "      <td>1</td>\n",
       "    </tr>\n",
       "    <tr>\n",
       "      <th>2</th>\n",
       "      <td>2002</td>\n",
       "      <td>Case Management</td>\n",
       "      <td>Female</td>\n",
       "      <td>18--20</td>\n",
       "      <td>Adult</td>\n",
       "      <td>-99</td>\n",
       "      <td>-99</td>\n",
       "      <td>CO</td>\n",
       "      <td>-99</td>\n",
       "      <td>-99</td>\n",
       "      <td>...</td>\n",
       "      <td>-99</td>\n",
       "      <td>-99</td>\n",
       "      <td>-99</td>\n",
       "      <td>-99</td>\n",
       "      <td>-99</td>\n",
       "      <td>0</td>\n",
       "      <td>0</td>\n",
       "      <td>0</td>\n",
       "      <td>0</td>\n",
       "      <td>1</td>\n",
       "    </tr>\n",
       "    <tr>\n",
       "      <th>3</th>\n",
       "      <td>2002</td>\n",
       "      <td>Case Management</td>\n",
       "      <td>Female</td>\n",
       "      <td>18--20</td>\n",
       "      <td>Adult</td>\n",
       "      <td>-99</td>\n",
       "      <td>-99</td>\n",
       "      <td>CO</td>\n",
       "      <td>-99</td>\n",
       "      <td>-99</td>\n",
       "      <td>...</td>\n",
       "      <td>-99</td>\n",
       "      <td>-99</td>\n",
       "      <td>-99</td>\n",
       "      <td>-99</td>\n",
       "      <td>-99</td>\n",
       "      <td>0</td>\n",
       "      <td>0</td>\n",
       "      <td>0</td>\n",
       "      <td>0</td>\n",
       "      <td>1</td>\n",
       "    </tr>\n",
       "    <tr>\n",
       "      <th>4</th>\n",
       "      <td>2002</td>\n",
       "      <td>Case Management</td>\n",
       "      <td>Female</td>\n",
       "      <td>18--20</td>\n",
       "      <td>Adult</td>\n",
       "      <td>-99</td>\n",
       "      <td>-99</td>\n",
       "      <td>CO</td>\n",
       "      <td>-99</td>\n",
       "      <td>-99</td>\n",
       "      <td>...</td>\n",
       "      <td>-99</td>\n",
       "      <td>-99</td>\n",
       "      <td>-99</td>\n",
       "      <td>-99</td>\n",
       "      <td>-99</td>\n",
       "      <td>0</td>\n",
       "      <td>0</td>\n",
       "      <td>0</td>\n",
       "      <td>0</td>\n",
       "      <td>1</td>\n",
       "    </tr>\n",
       "    <tr>\n",
       "      <th>...</th>\n",
       "      <td>...</td>\n",
       "      <td>...</td>\n",
       "      <td>...</td>\n",
       "      <td>...</td>\n",
       "      <td>...</td>\n",
       "      <td>...</td>\n",
       "      <td>...</td>\n",
       "      <td>...</td>\n",
       "      <td>...</td>\n",
       "      <td>...</td>\n",
       "      <td>...</td>\n",
       "      <td>...</td>\n",
       "      <td>...</td>\n",
       "      <td>...</td>\n",
       "      <td>...</td>\n",
       "      <td>...</td>\n",
       "      <td>...</td>\n",
       "      <td>...</td>\n",
       "      <td>...</td>\n",
       "      <td>...</td>\n",
       "      <td>...</td>\n",
       "    </tr>\n",
       "    <tr>\n",
       "      <th>48796</th>\n",
       "      <td>2019</td>\n",
       "      <td>Case Management</td>\n",
       "      <td>Female</td>\n",
       "      <td>-99</td>\n",
       "      <td>-99</td>\n",
       "      <td>Adult</td>\n",
       "      <td>-99</td>\n",
       "      <td>UG</td>\n",
       "      <td>0</td>\n",
       "      <td>0</td>\n",
       "      <td>...</td>\n",
       "      <td>-99</td>\n",
       "      <td>-99</td>\n",
       "      <td>0</td>\n",
       "      <td>-99</td>\n",
       "      <td>UG</td>\n",
       "      <td>-99</td>\n",
       "      <td>-99</td>\n",
       "      <td>-99</td>\n",
       "      <td>-99</td>\n",
       "      <td>-99</td>\n",
       "    </tr>\n",
       "    <tr>\n",
       "      <th>48797</th>\n",
       "      <td>2019</td>\n",
       "      <td>Case Management</td>\n",
       "      <td>Female</td>\n",
       "      <td>-99</td>\n",
       "      <td>-99</td>\n",
       "      <td>Adult</td>\n",
       "      <td>-99</td>\n",
       "      <td>UG</td>\n",
       "      <td>0</td>\n",
       "      <td>0</td>\n",
       "      <td>...</td>\n",
       "      <td>-99</td>\n",
       "      <td>-99</td>\n",
       "      <td>0</td>\n",
       "      <td>-99</td>\n",
       "      <td>UG</td>\n",
       "      <td>-99</td>\n",
       "      <td>-99</td>\n",
       "      <td>-99</td>\n",
       "      <td>-99</td>\n",
       "      <td>-99</td>\n",
       "    </tr>\n",
       "    <tr>\n",
       "      <th>48798</th>\n",
       "      <td>2019</td>\n",
       "      <td>Case Management</td>\n",
       "      <td>Female</td>\n",
       "      <td>-99</td>\n",
       "      <td>-99</td>\n",
       "      <td>Adult</td>\n",
       "      <td>-99</td>\n",
       "      <td>UG</td>\n",
       "      <td>0</td>\n",
       "      <td>0</td>\n",
       "      <td>...</td>\n",
       "      <td>-99</td>\n",
       "      <td>-99</td>\n",
       "      <td>0</td>\n",
       "      <td>-99</td>\n",
       "      <td>UG</td>\n",
       "      <td>-99</td>\n",
       "      <td>-99</td>\n",
       "      <td>-99</td>\n",
       "      <td>-99</td>\n",
       "      <td>-99</td>\n",
       "    </tr>\n",
       "    <tr>\n",
       "      <th>48799</th>\n",
       "      <td>2019</td>\n",
       "      <td>Case Management</td>\n",
       "      <td>Female</td>\n",
       "      <td>-99</td>\n",
       "      <td>-99</td>\n",
       "      <td>Minor</td>\n",
       "      <td>-99</td>\n",
       "      <td>UG</td>\n",
       "      <td>0</td>\n",
       "      <td>0</td>\n",
       "      <td>...</td>\n",
       "      <td>-99</td>\n",
       "      <td>-99</td>\n",
       "      <td>0</td>\n",
       "      <td>-99</td>\n",
       "      <td>UG</td>\n",
       "      <td>-99</td>\n",
       "      <td>-99</td>\n",
       "      <td>-99</td>\n",
       "      <td>-99</td>\n",
       "      <td>-99</td>\n",
       "    </tr>\n",
       "    <tr>\n",
       "      <th>48800</th>\n",
       "      <td>2019</td>\n",
       "      <td>Case Management</td>\n",
       "      <td>Female</td>\n",
       "      <td>-99</td>\n",
       "      <td>-99</td>\n",
       "      <td>Adult</td>\n",
       "      <td>-99</td>\n",
       "      <td>UG</td>\n",
       "      <td>0</td>\n",
       "      <td>0</td>\n",
       "      <td>...</td>\n",
       "      <td>-99</td>\n",
       "      <td>-99</td>\n",
       "      <td>0</td>\n",
       "      <td>-99</td>\n",
       "      <td>UG</td>\n",
       "      <td>-99</td>\n",
       "      <td>-99</td>\n",
       "      <td>-99</td>\n",
       "      <td>-99</td>\n",
       "      <td>-99</td>\n",
       "    </tr>\n",
       "  </tbody>\n",
       "</table>\n",
       "<p>48801 rows × 63 columns</p>\n",
       "</div>"
      ],
      "text/plain": [
       "       yearOfRegistration       Datasource  gender ageBroad majorityStatus  \\\n",
       "0                    2002  Case Management  Female   18--20          Adult   \n",
       "1                    2002  Case Management  Female   18--20          Adult   \n",
       "2                    2002  Case Management  Female   18--20          Adult   \n",
       "3                    2002  Case Management  Female   18--20          Adult   \n",
       "4                    2002  Case Management  Female   18--20          Adult   \n",
       "...                   ...              ...     ...      ...            ...   \n",
       "48796                2019  Case Management  Female      -99            -99   \n",
       "48797                2019  Case Management  Female      -99            -99   \n",
       "48798                2019  Case Management  Female      -99            -99   \n",
       "48799                2019  Case Management  Female      -99            -99   \n",
       "48800                2019  Case Management  Female      -99            -99   \n",
       "\n",
       "      majorityStatusAtExploit majorityEntry citizenship  \\\n",
       "0                         -99           -99          CO   \n",
       "1                         -99           -99          CO   \n",
       "2                         -99           -99          CO   \n",
       "3                         -99           -99          CO   \n",
       "4                         -99           -99          CO   \n",
       "...                       ...           ...         ...   \n",
       "48796                   Adult           -99          UG   \n",
       "48797                   Adult           -99          UG   \n",
       "48798                   Adult           -99          UG   \n",
       "48799                   Minor           -99          UG   \n",
       "48800                   Adult           -99          UG   \n",
       "\n",
       "       meansOfControlDebtBondage  meansOfControlTakesEarnings  ...  \\\n",
       "0                            -99                          -99  ...   \n",
       "1                            -99                          -99  ...   \n",
       "2                            -99                          -99  ...   \n",
       "3                            -99                          -99  ...   \n",
       "4                            -99                          -99  ...   \n",
       "...                          ...                          ...  ...   \n",
       "48796                          0                            0  ...   \n",
       "48797                          0                            0  ...   \n",
       "48798                          0                            0  ...   \n",
       "48799                          0                            0  ...   \n",
       "48800                          0                            0  ...   \n",
       "\n",
       "       typeOfSexPrivateSexualServices  typeOfSexConcatenated  isAbduction  \\\n",
       "0                                 -99                    -99          -99   \n",
       "1                                 -99                    -99          -99   \n",
       "2                                 -99                    -99          -99   \n",
       "3                                 -99                    -99          -99   \n",
       "4                                 -99                    -99          -99   \n",
       "...                               ...                    ...          ...   \n",
       "48796                             -99                    -99            0   \n",
       "48797                             -99                    -99            0   \n",
       "48798                             -99                    -99            0   \n",
       "48799                             -99                    -99            0   \n",
       "48800                             -99                    -99            0   \n",
       "\n",
       "       RecruiterRelationship  CountryOfExploitation  \\\n",
       "0                        -99                    -99   \n",
       "1                        -99                    -99   \n",
       "2                        -99                    -99   \n",
       "3                        -99                    -99   \n",
       "4                        -99                    -99   \n",
       "...                      ...                    ...   \n",
       "48796                    -99                     UG   \n",
       "48797                    -99                     UG   \n",
       "48798                    -99                     UG   \n",
       "48799                    -99                     UG   \n",
       "48800                    -99                     UG   \n",
       "\n",
       "       recruiterRelationIntimatePartner  recruiterRelationFriend  \\\n",
       "0                                     0                        0   \n",
       "1                                     0                        0   \n",
       "2                                     0                        0   \n",
       "3                                     0                        0   \n",
       "4                                     0                        0   \n",
       "...                                 ...                      ...   \n",
       "48796                               -99                      -99   \n",
       "48797                               -99                      -99   \n",
       "48798                               -99                      -99   \n",
       "48799                               -99                      -99   \n",
       "48800                               -99                      -99   \n",
       "\n",
       "       recruiterRelationFamily  recruiterRelationOther  \\\n",
       "0                            0                       0   \n",
       "1                            0                       0   \n",
       "2                            0                       0   \n",
       "3                            0                       0   \n",
       "4                            0                       0   \n",
       "...                        ...                     ...   \n",
       "48796                      -99                     -99   \n",
       "48797                      -99                     -99   \n",
       "48798                      -99                     -99   \n",
       "48799                      -99                     -99   \n",
       "48800                      -99                     -99   \n",
       "\n",
       "       recruiterRelationUnknown  \n",
       "0                             1  \n",
       "1                             1  \n",
       "2                             1  \n",
       "3                             1  \n",
       "4                             1  \n",
       "...                         ...  \n",
       "48796                       -99  \n",
       "48797                       -99  \n",
       "48798                       -99  \n",
       "48799                       -99  \n",
       "48800                       -99  \n",
       "\n",
       "[48801 rows x 63 columns]"
      ]
     },
     "execution_count": 7,
     "metadata": {},
     "output_type": "execute_result"
    }
   ],
   "source": [
    "data = pd.read_csv('human_trafficking.csv')\n",
    "data"
   ]
  },
  {
   "cell_type": "code",
   "execution_count": 8,
   "id": "f65a3c18",
   "metadata": {},
   "outputs": [
    {
     "data": {
      "text/plain": [
       "(48801, 63)"
      ]
     },
     "execution_count": 8,
     "metadata": {},
     "output_type": "execute_result"
    }
   ],
   "source": [
    "data.shape"
   ]
  },
  {
   "cell_type": "code",
   "execution_count": 9,
   "id": "1d479289",
   "metadata": {},
   "outputs": [
    {
     "data": {
      "text/plain": [
       "yearOfRegistration                   int64\n",
       "Datasource                          object\n",
       "gender                              object\n",
       "ageBroad                            object\n",
       "majorityStatus                      object\n",
       "                                     ...  \n",
       "recruiterRelationIntimatePartner     int64\n",
       "recruiterRelationFriend              int64\n",
       "recruiterRelationFamily              int64\n",
       "recruiterRelationOther               int64\n",
       "recruiterRelationUnknown             int64\n",
       "Length: 63, dtype: object"
      ]
     },
     "execution_count": 9,
     "metadata": {},
     "output_type": "execute_result"
    }
   ],
   "source": [
    "data.dtypes"
   ]
  },
  {
   "cell_type": "code",
   "execution_count": 10,
   "id": "c187f0d6",
   "metadata": {},
   "outputs": [
    {
     "data": {
      "text/plain": [
       "yearOfRegistration                  0\n",
       "Datasource                          0\n",
       "gender                              0\n",
       "ageBroad                            0\n",
       "majorityStatus                      0\n",
       "                                   ..\n",
       "recruiterRelationIntimatePartner    0\n",
       "recruiterRelationFriend             0\n",
       "recruiterRelationFamily             0\n",
       "recruiterRelationOther              0\n",
       "recruiterRelationUnknown            0\n",
       "Length: 63, dtype: int64"
      ]
     },
     "execution_count": 10,
     "metadata": {},
     "output_type": "execute_result"
    }
   ],
   "source": [
    "data.isna().sum()"
   ]
  },
  {
   "cell_type": "code",
   "execution_count": 11,
   "id": "f955156c",
   "metadata": {},
   "outputs": [
    {
     "data": {
      "text/plain": [
       "yearOfRegistration                  0\n",
       "Datasource                          0\n",
       "gender                              0\n",
       "ageBroad                            0\n",
       "majorityStatus                      0\n",
       "                                   ..\n",
       "recruiterRelationIntimatePartner    0\n",
       "recruiterRelationFriend             0\n",
       "recruiterRelationFamily             0\n",
       "recruiterRelationOther              0\n",
       "recruiterRelationUnknown            0\n",
       "Length: 63, dtype: int64"
      ]
     },
     "execution_count": 11,
     "metadata": {},
     "output_type": "execute_result"
    }
   ],
   "source": [
    "data.isnull().sum()"
   ]
  },
  {
   "cell_type": "code",
   "execution_count": 12,
   "id": "4d14e7e6",
   "metadata": {},
   "outputs": [
    {
     "data": {
      "text/plain": [
       "Index(['yearOfRegistration', 'Datasource', 'gender', 'ageBroad',\n",
       "       'majorityStatus', 'majorityStatusAtExploit', 'majorityEntry',\n",
       "       'citizenship', 'meansOfControlDebtBondage',\n",
       "       'meansOfControlTakesEarnings', 'meansOfControlRestrictsFinancialAccess',\n",
       "       'meansOfControlThreats', 'meansOfControlPsychologicalAbuse',\n",
       "       'meansOfControlPhysicalAbuse', 'meansOfControlSexualAbuse',\n",
       "       'meansOfControlFalsePromises', 'meansOfControlPsychoactiveSubstances',\n",
       "       'meansOfControlRestrictsMovement', 'meansOfControlRestrictsMedicalCare',\n",
       "       'meansOfControlExcessiveWorkingHours', 'meansOfControlUsesChildren',\n",
       "       'meansOfControlThreatOfLawEnforcement',\n",
       "       'meansOfControlWithholdsNecessities',\n",
       "       'meansOfControlWithholdsDocuments', 'meansOfControlOther',\n",
       "       'meansOfControlNotSpecified', 'meansOfControlConcatenated',\n",
       "       'isForcedLabour', 'isSexualExploit', 'isOtherExploit', 'isSexAndLabour',\n",
       "       'isForcedMarriage', 'isForcedMilitary', 'isOrganRemoval',\n",
       "       'isSlaveryAndPractices', 'typeOfExploitConcatenated',\n",
       "       'typeOfLabourAgriculture', 'typeOfLabourAquafarming',\n",
       "       'typeOfLabourBegging', 'typeOfLabourConstruction',\n",
       "       'typeOfLabourDomesticWork', 'typeOfLabourHospitality',\n",
       "       'typeOfLabourIllicitActivities', 'typeOfLabourManufacturing',\n",
       "       'typeOfLabourMiningOrDrilling', 'typeOfLabourPeddling',\n",
       "       'typeOfLabourTransportation', 'typeOfLabourOther',\n",
       "       'typeOfLabourNotSpecified', 'typeOfLabourConcatenated',\n",
       "       'typeOfSexProstitution', 'typeOfSexPornography',\n",
       "       'typeOfSexRemoteInteractiveServices', 'typeOfSexPrivateSexualServices',\n",
       "       'typeOfSexConcatenated', 'isAbduction', 'RecruiterRelationship',\n",
       "       'CountryOfExploitation', 'recruiterRelationIntimatePartner',\n",
       "       'recruiterRelationFriend', 'recruiterRelationFamily',\n",
       "       'recruiterRelationOther', 'recruiterRelationUnknown'],\n",
       "      dtype='object')"
      ]
     },
     "execution_count": 12,
     "metadata": {},
     "output_type": "execute_result"
    }
   ],
   "source": [
    "data.columns"
   ]
  },
  {
   "cell_type": "code",
   "execution_count": 13,
   "id": "0fe67867",
   "metadata": {},
   "outputs": [
    {
     "data": {
      "text/html": [
       "<div>\n",
       "<style scoped>\n",
       "    .dataframe tbody tr th:only-of-type {\n",
       "        vertical-align: middle;\n",
       "    }\n",
       "\n",
       "    .dataframe tbody tr th {\n",
       "        vertical-align: top;\n",
       "    }\n",
       "\n",
       "    .dataframe thead th {\n",
       "        text-align: right;\n",
       "    }\n",
       "</style>\n",
       "<table border=\"1\" class=\"dataframe\">\n",
       "  <thead>\n",
       "    <tr style=\"text-align: right;\">\n",
       "      <th></th>\n",
       "      <th>yearofregistration</th>\n",
       "      <th>datasource</th>\n",
       "      <th>gender</th>\n",
       "      <th>agebroad</th>\n",
       "      <th>majoritystatus</th>\n",
       "      <th>majoritystatusatexploit</th>\n",
       "      <th>majorityentry</th>\n",
       "      <th>citizenship</th>\n",
       "      <th>meansofcontroldebtbondage</th>\n",
       "      <th>meansofcontroltakesearnings</th>\n",
       "      <th>...</th>\n",
       "      <th>typeofsexprivatesexualservices</th>\n",
       "      <th>typeofsexconcatenated</th>\n",
       "      <th>isabduction</th>\n",
       "      <th>recruiterrelationship</th>\n",
       "      <th>countryofexploitation</th>\n",
       "      <th>recruiterrelationintimatepartner</th>\n",
       "      <th>recruiterrelationfriend</th>\n",
       "      <th>recruiterrelationfamily</th>\n",
       "      <th>recruiterrelationother</th>\n",
       "      <th>recruiterrelationunknown</th>\n",
       "    </tr>\n",
       "  </thead>\n",
       "  <tbody>\n",
       "    <tr>\n",
       "      <th>0</th>\n",
       "      <td>2002</td>\n",
       "      <td>Case Management</td>\n",
       "      <td>Female</td>\n",
       "      <td>18--20</td>\n",
       "      <td>Adult</td>\n",
       "      <td>-99</td>\n",
       "      <td>-99</td>\n",
       "      <td>CO</td>\n",
       "      <td>-99</td>\n",
       "      <td>-99</td>\n",
       "      <td>...</td>\n",
       "      <td>-99</td>\n",
       "      <td>-99</td>\n",
       "      <td>-99</td>\n",
       "      <td>-99</td>\n",
       "      <td>-99</td>\n",
       "      <td>0</td>\n",
       "      <td>0</td>\n",
       "      <td>0</td>\n",
       "      <td>0</td>\n",
       "      <td>1</td>\n",
       "    </tr>\n",
       "    <tr>\n",
       "      <th>1</th>\n",
       "      <td>2002</td>\n",
       "      <td>Case Management</td>\n",
       "      <td>Female</td>\n",
       "      <td>18--20</td>\n",
       "      <td>Adult</td>\n",
       "      <td>-99</td>\n",
       "      <td>-99</td>\n",
       "      <td>CO</td>\n",
       "      <td>-99</td>\n",
       "      <td>-99</td>\n",
       "      <td>...</td>\n",
       "      <td>-99</td>\n",
       "      <td>-99</td>\n",
       "      <td>-99</td>\n",
       "      <td>-99</td>\n",
       "      <td>-99</td>\n",
       "      <td>0</td>\n",
       "      <td>0</td>\n",
       "      <td>0</td>\n",
       "      <td>0</td>\n",
       "      <td>1</td>\n",
       "    </tr>\n",
       "    <tr>\n",
       "      <th>2</th>\n",
       "      <td>2002</td>\n",
       "      <td>Case Management</td>\n",
       "      <td>Female</td>\n",
       "      <td>18--20</td>\n",
       "      <td>Adult</td>\n",
       "      <td>-99</td>\n",
       "      <td>-99</td>\n",
       "      <td>CO</td>\n",
       "      <td>-99</td>\n",
       "      <td>-99</td>\n",
       "      <td>...</td>\n",
       "      <td>-99</td>\n",
       "      <td>-99</td>\n",
       "      <td>-99</td>\n",
       "      <td>-99</td>\n",
       "      <td>-99</td>\n",
       "      <td>0</td>\n",
       "      <td>0</td>\n",
       "      <td>0</td>\n",
       "      <td>0</td>\n",
       "      <td>1</td>\n",
       "    </tr>\n",
       "    <tr>\n",
       "      <th>3</th>\n",
       "      <td>2002</td>\n",
       "      <td>Case Management</td>\n",
       "      <td>Female</td>\n",
       "      <td>18--20</td>\n",
       "      <td>Adult</td>\n",
       "      <td>-99</td>\n",
       "      <td>-99</td>\n",
       "      <td>CO</td>\n",
       "      <td>-99</td>\n",
       "      <td>-99</td>\n",
       "      <td>...</td>\n",
       "      <td>-99</td>\n",
       "      <td>-99</td>\n",
       "      <td>-99</td>\n",
       "      <td>-99</td>\n",
       "      <td>-99</td>\n",
       "      <td>0</td>\n",
       "      <td>0</td>\n",
       "      <td>0</td>\n",
       "      <td>0</td>\n",
       "      <td>1</td>\n",
       "    </tr>\n",
       "    <tr>\n",
       "      <th>4</th>\n",
       "      <td>2002</td>\n",
       "      <td>Case Management</td>\n",
       "      <td>Female</td>\n",
       "      <td>18--20</td>\n",
       "      <td>Adult</td>\n",
       "      <td>-99</td>\n",
       "      <td>-99</td>\n",
       "      <td>CO</td>\n",
       "      <td>-99</td>\n",
       "      <td>-99</td>\n",
       "      <td>...</td>\n",
       "      <td>-99</td>\n",
       "      <td>-99</td>\n",
       "      <td>-99</td>\n",
       "      <td>-99</td>\n",
       "      <td>-99</td>\n",
       "      <td>0</td>\n",
       "      <td>0</td>\n",
       "      <td>0</td>\n",
       "      <td>0</td>\n",
       "      <td>1</td>\n",
       "    </tr>\n",
       "    <tr>\n",
       "      <th>...</th>\n",
       "      <td>...</td>\n",
       "      <td>...</td>\n",
       "      <td>...</td>\n",
       "      <td>...</td>\n",
       "      <td>...</td>\n",
       "      <td>...</td>\n",
       "      <td>...</td>\n",
       "      <td>...</td>\n",
       "      <td>...</td>\n",
       "      <td>...</td>\n",
       "      <td>...</td>\n",
       "      <td>...</td>\n",
       "      <td>...</td>\n",
       "      <td>...</td>\n",
       "      <td>...</td>\n",
       "      <td>...</td>\n",
       "      <td>...</td>\n",
       "      <td>...</td>\n",
       "      <td>...</td>\n",
       "      <td>...</td>\n",
       "      <td>...</td>\n",
       "    </tr>\n",
       "    <tr>\n",
       "      <th>48796</th>\n",
       "      <td>2019</td>\n",
       "      <td>Case Management</td>\n",
       "      <td>Female</td>\n",
       "      <td>-99</td>\n",
       "      <td>-99</td>\n",
       "      <td>Adult</td>\n",
       "      <td>-99</td>\n",
       "      <td>UG</td>\n",
       "      <td>0</td>\n",
       "      <td>0</td>\n",
       "      <td>...</td>\n",
       "      <td>-99</td>\n",
       "      <td>-99</td>\n",
       "      <td>0</td>\n",
       "      <td>-99</td>\n",
       "      <td>UG</td>\n",
       "      <td>-99</td>\n",
       "      <td>-99</td>\n",
       "      <td>-99</td>\n",
       "      <td>-99</td>\n",
       "      <td>-99</td>\n",
       "    </tr>\n",
       "    <tr>\n",
       "      <th>48797</th>\n",
       "      <td>2019</td>\n",
       "      <td>Case Management</td>\n",
       "      <td>Female</td>\n",
       "      <td>-99</td>\n",
       "      <td>-99</td>\n",
       "      <td>Adult</td>\n",
       "      <td>-99</td>\n",
       "      <td>UG</td>\n",
       "      <td>0</td>\n",
       "      <td>0</td>\n",
       "      <td>...</td>\n",
       "      <td>-99</td>\n",
       "      <td>-99</td>\n",
       "      <td>0</td>\n",
       "      <td>-99</td>\n",
       "      <td>UG</td>\n",
       "      <td>-99</td>\n",
       "      <td>-99</td>\n",
       "      <td>-99</td>\n",
       "      <td>-99</td>\n",
       "      <td>-99</td>\n",
       "    </tr>\n",
       "    <tr>\n",
       "      <th>48798</th>\n",
       "      <td>2019</td>\n",
       "      <td>Case Management</td>\n",
       "      <td>Female</td>\n",
       "      <td>-99</td>\n",
       "      <td>-99</td>\n",
       "      <td>Adult</td>\n",
       "      <td>-99</td>\n",
       "      <td>UG</td>\n",
       "      <td>0</td>\n",
       "      <td>0</td>\n",
       "      <td>...</td>\n",
       "      <td>-99</td>\n",
       "      <td>-99</td>\n",
       "      <td>0</td>\n",
       "      <td>-99</td>\n",
       "      <td>UG</td>\n",
       "      <td>-99</td>\n",
       "      <td>-99</td>\n",
       "      <td>-99</td>\n",
       "      <td>-99</td>\n",
       "      <td>-99</td>\n",
       "    </tr>\n",
       "    <tr>\n",
       "      <th>48799</th>\n",
       "      <td>2019</td>\n",
       "      <td>Case Management</td>\n",
       "      <td>Female</td>\n",
       "      <td>-99</td>\n",
       "      <td>-99</td>\n",
       "      <td>Minor</td>\n",
       "      <td>-99</td>\n",
       "      <td>UG</td>\n",
       "      <td>0</td>\n",
       "      <td>0</td>\n",
       "      <td>...</td>\n",
       "      <td>-99</td>\n",
       "      <td>-99</td>\n",
       "      <td>0</td>\n",
       "      <td>-99</td>\n",
       "      <td>UG</td>\n",
       "      <td>-99</td>\n",
       "      <td>-99</td>\n",
       "      <td>-99</td>\n",
       "      <td>-99</td>\n",
       "      <td>-99</td>\n",
       "    </tr>\n",
       "    <tr>\n",
       "      <th>48800</th>\n",
       "      <td>2019</td>\n",
       "      <td>Case Management</td>\n",
       "      <td>Female</td>\n",
       "      <td>-99</td>\n",
       "      <td>-99</td>\n",
       "      <td>Adult</td>\n",
       "      <td>-99</td>\n",
       "      <td>UG</td>\n",
       "      <td>0</td>\n",
       "      <td>0</td>\n",
       "      <td>...</td>\n",
       "      <td>-99</td>\n",
       "      <td>-99</td>\n",
       "      <td>0</td>\n",
       "      <td>-99</td>\n",
       "      <td>UG</td>\n",
       "      <td>-99</td>\n",
       "      <td>-99</td>\n",
       "      <td>-99</td>\n",
       "      <td>-99</td>\n",
       "      <td>-99</td>\n",
       "    </tr>\n",
       "  </tbody>\n",
       "</table>\n",
       "<p>48801 rows × 63 columns</p>\n",
       "</div>"
      ],
      "text/plain": [
       "       yearofregistration       datasource  gender agebroad majoritystatus  \\\n",
       "0                    2002  Case Management  Female   18--20          Adult   \n",
       "1                    2002  Case Management  Female   18--20          Adult   \n",
       "2                    2002  Case Management  Female   18--20          Adult   \n",
       "3                    2002  Case Management  Female   18--20          Adult   \n",
       "4                    2002  Case Management  Female   18--20          Adult   \n",
       "...                   ...              ...     ...      ...            ...   \n",
       "48796                2019  Case Management  Female      -99            -99   \n",
       "48797                2019  Case Management  Female      -99            -99   \n",
       "48798                2019  Case Management  Female      -99            -99   \n",
       "48799                2019  Case Management  Female      -99            -99   \n",
       "48800                2019  Case Management  Female      -99            -99   \n",
       "\n",
       "      majoritystatusatexploit majorityentry citizenship  \\\n",
       "0                         -99           -99          CO   \n",
       "1                         -99           -99          CO   \n",
       "2                         -99           -99          CO   \n",
       "3                         -99           -99          CO   \n",
       "4                         -99           -99          CO   \n",
       "...                       ...           ...         ...   \n",
       "48796                   Adult           -99          UG   \n",
       "48797                   Adult           -99          UG   \n",
       "48798                   Adult           -99          UG   \n",
       "48799                   Minor           -99          UG   \n",
       "48800                   Adult           -99          UG   \n",
       "\n",
       "       meansofcontroldebtbondage  meansofcontroltakesearnings  ...  \\\n",
       "0                            -99                          -99  ...   \n",
       "1                            -99                          -99  ...   \n",
       "2                            -99                          -99  ...   \n",
       "3                            -99                          -99  ...   \n",
       "4                            -99                          -99  ...   \n",
       "...                          ...                          ...  ...   \n",
       "48796                          0                            0  ...   \n",
       "48797                          0                            0  ...   \n",
       "48798                          0                            0  ...   \n",
       "48799                          0                            0  ...   \n",
       "48800                          0                            0  ...   \n",
       "\n",
       "       typeofsexprivatesexualservices  typeofsexconcatenated  isabduction  \\\n",
       "0                                 -99                    -99          -99   \n",
       "1                                 -99                    -99          -99   \n",
       "2                                 -99                    -99          -99   \n",
       "3                                 -99                    -99          -99   \n",
       "4                                 -99                    -99          -99   \n",
       "...                               ...                    ...          ...   \n",
       "48796                             -99                    -99            0   \n",
       "48797                             -99                    -99            0   \n",
       "48798                             -99                    -99            0   \n",
       "48799                             -99                    -99            0   \n",
       "48800                             -99                    -99            0   \n",
       "\n",
       "       recruiterrelationship  countryofexploitation  \\\n",
       "0                        -99                    -99   \n",
       "1                        -99                    -99   \n",
       "2                        -99                    -99   \n",
       "3                        -99                    -99   \n",
       "4                        -99                    -99   \n",
       "...                      ...                    ...   \n",
       "48796                    -99                     UG   \n",
       "48797                    -99                     UG   \n",
       "48798                    -99                     UG   \n",
       "48799                    -99                     UG   \n",
       "48800                    -99                     UG   \n",
       "\n",
       "       recruiterrelationintimatepartner  recruiterrelationfriend  \\\n",
       "0                                     0                        0   \n",
       "1                                     0                        0   \n",
       "2                                     0                        0   \n",
       "3                                     0                        0   \n",
       "4                                     0                        0   \n",
       "...                                 ...                      ...   \n",
       "48796                               -99                      -99   \n",
       "48797                               -99                      -99   \n",
       "48798                               -99                      -99   \n",
       "48799                               -99                      -99   \n",
       "48800                               -99                      -99   \n",
       "\n",
       "       recruiterrelationfamily  recruiterrelationother  \\\n",
       "0                            0                       0   \n",
       "1                            0                       0   \n",
       "2                            0                       0   \n",
       "3                            0                       0   \n",
       "4                            0                       0   \n",
       "...                        ...                     ...   \n",
       "48796                      -99                     -99   \n",
       "48797                      -99                     -99   \n",
       "48798                      -99                     -99   \n",
       "48799                      -99                     -99   \n",
       "48800                      -99                     -99   \n",
       "\n",
       "       recruiterrelationunknown  \n",
       "0                             1  \n",
       "1                             1  \n",
       "2                             1  \n",
       "3                             1  \n",
       "4                             1  \n",
       "...                         ...  \n",
       "48796                       -99  \n",
       "48797                       -99  \n",
       "48798                       -99  \n",
       "48799                       -99  \n",
       "48800                       -99  \n",
       "\n",
       "[48801 rows x 63 columns]"
      ]
     },
     "execution_count": 13,
     "metadata": {},
     "output_type": "execute_result"
    }
   ],
   "source": [
    "cols = []\n",
    "for i in range(len(data.columns)):\n",
    "    cols.append(data.columns[i].lower().replace(' ', '_'))\n",
    "data.columns = cols\n",
    "\n",
    "data"
   ]
  },
  {
   "cell_type": "code",
   "execution_count": 14,
   "id": "1fc0c200",
   "metadata": {},
   "outputs": [
    {
     "name": "stdout",
     "output_type": "stream",
     "text": [
      "<class 'pandas.core.frame.DataFrame'>\n",
      "RangeIndex: 48801 entries, 0 to 48800\n",
      "Data columns (total 63 columns):\n",
      " #   Column                                  Non-Null Count  Dtype \n",
      "---  ------                                  --------------  ----- \n",
      " 0   yearofregistration                      48801 non-null  int64 \n",
      " 1   datasource                              48801 non-null  object\n",
      " 2   gender                                  48801 non-null  object\n",
      " 3   agebroad                                48801 non-null  object\n",
      " 4   majoritystatus                          48801 non-null  object\n",
      " 5   majoritystatusatexploit                 48801 non-null  object\n",
      " 6   majorityentry                           48801 non-null  object\n",
      " 7   citizenship                             48801 non-null  object\n",
      " 8   meansofcontroldebtbondage               48801 non-null  int64 \n",
      " 9   meansofcontroltakesearnings             48801 non-null  int64 \n",
      " 10  meansofcontrolrestrictsfinancialaccess  48801 non-null  int64 \n",
      " 11  meansofcontrolthreats                   48801 non-null  int64 \n",
      " 12  meansofcontrolpsychologicalabuse        48801 non-null  int64 \n",
      " 13  meansofcontrolphysicalabuse             48801 non-null  int64 \n",
      " 14  meansofcontrolsexualabuse               48801 non-null  int64 \n",
      " 15  meansofcontrolfalsepromises             48801 non-null  int64 \n",
      " 16  meansofcontrolpsychoactivesubstances    48801 non-null  int64 \n",
      " 17  meansofcontrolrestrictsmovement         48801 non-null  int64 \n",
      " 18  meansofcontrolrestrictsmedicalcare      48801 non-null  int64 \n",
      " 19  meansofcontrolexcessiveworkinghours     48801 non-null  int64 \n",
      " 20  meansofcontroluseschildren              48801 non-null  int64 \n",
      " 21  meansofcontrolthreatoflawenforcement    48801 non-null  int64 \n",
      " 22  meansofcontrolwithholdsnecessities      48801 non-null  int64 \n",
      " 23  meansofcontrolwithholdsdocuments        48801 non-null  int64 \n",
      " 24  meansofcontrolother                     48801 non-null  int64 \n",
      " 25  meansofcontrolnotspecified              48801 non-null  int64 \n",
      " 26  meansofcontrolconcatenated              48801 non-null  object\n",
      " 27  isforcedlabour                          48801 non-null  int64 \n",
      " 28  issexualexploit                         48801 non-null  int64 \n",
      " 29  isotherexploit                          48801 non-null  int64 \n",
      " 30  issexandlabour                          48801 non-null  int64 \n",
      " 31  isforcedmarriage                        48801 non-null  int64 \n",
      " 32  isforcedmilitary                        48801 non-null  int64 \n",
      " 33  isorganremoval                          48801 non-null  int64 \n",
      " 34  isslaveryandpractices                   48801 non-null  int64 \n",
      " 35  typeofexploitconcatenated               48801 non-null  object\n",
      " 36  typeoflabouragriculture                 48801 non-null  int64 \n",
      " 37  typeoflabouraquafarming                 48801 non-null  int64 \n",
      " 38  typeoflabourbegging                     48801 non-null  int64 \n",
      " 39  typeoflabourconstruction                48801 non-null  int64 \n",
      " 40  typeoflabourdomesticwork                48801 non-null  int64 \n",
      " 41  typeoflabourhospitality                 48801 non-null  int64 \n",
      " 42  typeoflabourillicitactivities           48801 non-null  int64 \n",
      " 43  typeoflabourmanufacturing               48801 non-null  int64 \n",
      " 44  typeoflabourminingordrilling            48801 non-null  int64 \n",
      " 45  typeoflabourpeddling                    48801 non-null  int64 \n",
      " 46  typeoflabourtransportation              48801 non-null  int64 \n",
      " 47  typeoflabourother                       48801 non-null  int64 \n",
      " 48  typeoflabournotspecified                48801 non-null  int64 \n",
      " 49  typeoflabourconcatenated                48801 non-null  object\n",
      " 50  typeofsexprostitution                   48801 non-null  int64 \n",
      " 51  typeofsexpornography                    48801 non-null  int64 \n",
      " 52  typeofsexremoteinteractiveservices      48801 non-null  int64 \n",
      " 53  typeofsexprivatesexualservices          48801 non-null  int64 \n",
      " 54  typeofsexconcatenated                   48801 non-null  object\n",
      " 55  isabduction                             48801 non-null  int64 \n",
      " 56  recruiterrelationship                   48801 non-null  object\n",
      " 57  countryofexploitation                   48801 non-null  object\n",
      " 58  recruiterrelationintimatepartner        48801 non-null  int64 \n",
      " 59  recruiterrelationfriend                 48801 non-null  int64 \n",
      " 60  recruiterrelationfamily                 48801 non-null  int64 \n",
      " 61  recruiterrelationother                  48801 non-null  int64 \n",
      " 62  recruiterrelationunknown                48801 non-null  int64 \n",
      "dtypes: int64(50), object(13)\n",
      "memory usage: 23.5+ MB\n"
     ]
    }
   ],
   "source": [
    "data.info()"
   ]
  },
  {
   "cell_type": "code",
   "execution_count": 15,
   "id": "222633e1",
   "metadata": {},
   "outputs": [
    {
     "data": {
      "text/plain": [
       "2016    16399\n",
       "2017     6508\n",
       "2018     5818\n",
       "2015     4276\n",
       "2014     3000\n",
       "2013     1832\n",
       "2005     1455\n",
       "2006     1423\n",
       "2007     1417\n",
       "2012     1367\n",
       "2011     1340\n",
       "2002     1026\n",
       "2010      943\n",
       "2008      802\n",
       "2009      587\n",
       "2003      357\n",
       "2004      223\n",
       "2019       28\n",
       "Name: yearofregistration, dtype: int64"
      ]
     },
     "execution_count": 15,
     "metadata": {},
     "output_type": "execute_result"
    }
   ],
   "source": [
    "data['yearofregistration'].value_counts() "
   ]
  },
  {
   "cell_type": "code",
   "execution_count": 16,
   "id": "399adacf",
   "metadata": {},
   "outputs": [
    {
     "data": {
      "text/plain": [
       "Female    35534\n",
       "Male      13267\n",
       "Name: gender, dtype: int64"
      ]
     },
     "execution_count": 16,
     "metadata": {},
     "output_type": "execute_result"
    }
   ],
   "source": [
    "data['gender'].value_counts()"
   ]
  },
  {
   "cell_type": "code",
   "execution_count": 17,
   "id": "248d98a4",
   "metadata": {},
   "outputs": [
    {
     "data": {
      "text/plain": [
       "-99       12362\n",
       "9--17      8645\n",
       "30--38     7091\n",
       "18--20     4448\n",
       "21--23     4213\n",
       "24--26     3464\n",
       "39--47     2821\n",
       "27--29     2641\n",
       "48+        1560\n",
       "0--8       1556\n",
       "Name: agebroad, dtype: int64"
      ]
     },
     "execution_count": 17,
     "metadata": {},
     "output_type": "execute_result"
    }
   ],
   "source": [
    "data['agebroad'].value_counts() "
   ]
  },
  {
   "cell_type": "code",
   "execution_count": 18,
   "id": "c838961f",
   "metadata": {},
   "outputs": [
    {
     "data": {
      "text/plain": [
       "Adult    26238\n",
       "-99      12362\n",
       "Minor    10201\n",
       "Name: majoritystatus, dtype: int64"
      ]
     },
     "execution_count": 18,
     "metadata": {},
     "output_type": "execute_result"
    }
   ],
   "source": [
    "data['majoritystatus'].value_counts()"
   ]
  },
  {
   "cell_type": "code",
   "execution_count": 19,
   "id": "3ac46c49",
   "metadata": {},
   "outputs": [
    {
     "data": {
      "text/plain": [
       "-99      42310\n",
       "Adult     5438\n",
       "Minor     1053\n",
       "Name: majorityentry, dtype: int64"
      ]
     },
     "execution_count": 19,
     "metadata": {},
     "output_type": "execute_result"
    }
   ],
   "source": [
    "data['majorityentry'].value_counts()"
   ]
  },
  {
   "cell_type": "code",
   "execution_count": 20,
   "id": "35558d2e",
   "metadata": {},
   "outputs": [
    {
     "data": {
      "text/plain": [
       "-99    44804\n",
       " 1      2776\n",
       " 0      1221\n",
       "Name: meansofcontroltakesearnings, dtype: int64"
      ]
     },
     "execution_count": 20,
     "metadata": {},
     "output_type": "execute_result"
    }
   ],
   "source": [
    "data['meansofcontroltakesearnings'].value_counts() "
   ]
  },
  {
   "cell_type": "code",
   "execution_count": 21,
   "id": "b1ba7929",
   "metadata": {},
   "outputs": [
    {
     "data": {
      "text/plain": [
       "-99      39511\n",
       "Minor     7044\n",
       "Adult     2246\n",
       "Name: majoritystatusatexploit, dtype: int64"
      ]
     },
     "execution_count": 21,
     "metadata": {},
     "output_type": "execute_result"
    }
   ],
   "source": [
    "data['majoritystatusatexploit'].value_counts()"
   ]
  },
  {
   "cell_type": "code",
   "execution_count": 22,
   "id": "055e38d3",
   "metadata": {},
   "outputs": [
    {
     "data": {
      "text/plain": [
       "-99    46305\n",
       " 1      1281\n",
       " 0      1215\n",
       "Name: meansofcontroldebtbondage, dtype: int64"
      ]
     },
     "execution_count": 22,
     "metadata": {},
     "output_type": "execute_result"
    }
   ],
   "source": [
    "data['meansofcontroldebtbondage'].value_counts()"
   ]
  },
  {
   "cell_type": "code",
   "execution_count": 23,
   "id": "a266ad00",
   "metadata": {},
   "outputs": [
    {
     "data": {
      "text/plain": [
       "PH     11365\n",
       "00      8858\n",
       "UA      7761\n",
       "MD      5901\n",
       "US      3636\n",
       "KH      1979\n",
       "ID      1971\n",
       "BY      1463\n",
       "MM      1250\n",
       "RO       655\n",
       "GH       544\n",
       "KG       437\n",
       "BG       342\n",
       "HT       339\n",
       "-99      278\n",
       "UZ       261\n",
       "VN       170\n",
       "GW       145\n",
       "LA       126\n",
       "CO       124\n",
       "NG       108\n",
       "UG        98\n",
       "AF        97\n",
       "MG        94\n",
       "LK        85\n",
       "SL        81\n",
       "SN        70\n",
       "TH        55\n",
       "KZ        54\n",
       "CD        53\n",
       "ML        45\n",
       "TJ        43\n",
       "BF        33\n",
       "KE        32\n",
       "NE        31\n",
       "CI        31\n",
       "NP        27\n",
       "TM        26\n",
       "CN        23\n",
       "AL        22\n",
       "MX        19\n",
       "BO        18\n",
       "GN        15\n",
       "ER        13\n",
       "KR        12\n",
       "BD        11\n",
       "Name: citizenship, dtype: int64"
      ]
     },
     "execution_count": 23,
     "metadata": {},
     "output_type": "execute_result"
    }
   ],
   "source": [
    "data['citizenship'].value_counts()"
   ]
  },
  {
   "cell_type": "code",
   "execution_count": 24,
   "id": "7e10f125",
   "metadata": {},
   "outputs": [
    {
     "data": {
      "text/plain": [
       "-99    48548\n",
       " 0       137\n",
       " 1       116\n",
       "Name: meansofcontrolrestrictsfinancialaccess, dtype: int64"
      ]
     },
     "execution_count": 24,
     "metadata": {},
     "output_type": "execute_result"
    }
   ],
   "source": [
    "data['meansofcontrolrestrictsfinancialaccess'].value_counts()"
   ]
  },
  {
   "cell_type": "code",
   "execution_count": 25,
   "id": "a99d8d98",
   "metadata": {},
   "outputs": [
    {
     "data": {
      "text/plain": [
       "-99    43637\n",
       " 1      3972\n",
       " 0      1192\n",
       "Name: meansofcontrolthreats, dtype: int64"
      ]
     },
     "execution_count": 25,
     "metadata": {},
     "output_type": "execute_result"
    }
   ],
   "source": [
    "data['meansofcontrolthreats'].value_counts() "
   ]
  },
  {
   "cell_type": "code",
   "execution_count": 26,
   "id": "9943375d",
   "metadata": {},
   "outputs": [
    {
     "data": {
      "text/plain": [
       "-99    42745\n",
       " 1      4845\n",
       " 0      1211\n",
       "Name: meansofcontrolpsychologicalabuse, dtype: int64"
      ]
     },
     "execution_count": 26,
     "metadata": {},
     "output_type": "execute_result"
    }
   ],
   "source": [
    "data['meansofcontrolpsychologicalabuse'].value_counts() "
   ]
  },
  {
   "cell_type": "code",
   "execution_count": 27,
   "id": "6036962d",
   "metadata": {},
   "outputs": [
    {
     "data": {
      "text/plain": [
       "-99    44961\n",
       " 1      2756\n",
       " 0      1084\n",
       "Name: meansofcontrolfalsepromises, dtype: int64"
      ]
     },
     "execution_count": 27,
     "metadata": {},
     "output_type": "execute_result"
    }
   ],
   "source": [
    "data['meansofcontrolfalsepromises'].value_counts() "
   ]
  },
  {
   "cell_type": "code",
   "execution_count": 28,
   "id": "c0929561",
   "metadata": {},
   "outputs": [
    {
     "data": {
      "text/plain": [
       "-99    43952\n",
       " 1      3632\n",
       " 0      1217\n",
       "Name: meansofcontrolphysicalabuse, dtype: int64"
      ]
     },
     "execution_count": 28,
     "metadata": {},
     "output_type": "execute_result"
    }
   ],
   "source": [
    "data['meansofcontrolphysicalabuse'].value_counts() "
   ]
  },
  {
   "cell_type": "code",
   "execution_count": 29,
   "id": "6f899846",
   "metadata": {},
   "outputs": [
    {
     "data": {
      "text/plain": [
       "-99    45980\n",
       " 1      1594\n",
       " 0      1227\n",
       "Name: meansofcontrolsexualabuse, dtype: int64"
      ]
     },
     "execution_count": 29,
     "metadata": {},
     "output_type": "execute_result"
    }
   ],
   "source": [
    "data['meansofcontrolsexualabuse'].value_counts() "
   ]
  },
  {
   "cell_type": "code",
   "execution_count": 30,
   "id": "5f03df61",
   "metadata": {},
   "outputs": [
    {
     "data": {
      "text/plain": [
       "-99    45292\n",
       " 1      2282\n",
       " 0      1227\n",
       "Name: meansofcontrolpsychoactivesubstances, dtype: int64"
      ]
     },
     "execution_count": 30,
     "metadata": {},
     "output_type": "execute_result"
    }
   ],
   "source": [
    "data['meansofcontrolpsychoactivesubstances'].value_counts() "
   ]
  },
  {
   "cell_type": "code",
   "execution_count": 31,
   "id": "b26a84e1",
   "metadata": {},
   "outputs": [
    {
     "data": {
      "text/plain": [
       "-99    43181\n",
       " 1      4415\n",
       " 0      1205\n",
       "Name: meansofcontrolrestrictsmovement, dtype: int64"
      ]
     },
     "execution_count": 31,
     "metadata": {},
     "output_type": "execute_result"
    }
   ],
   "source": [
    "data['meansofcontrolrestrictsmovement'].value_counts() "
   ]
  },
  {
   "cell_type": "code",
   "execution_count": 32,
   "id": "7a76de61",
   "metadata": {},
   "outputs": [
    {
     "data": {
      "text/plain": [
       "-99    46302\n",
       " 1      1283\n",
       " 0      1216\n",
       "Name: meansofcontrolrestrictsmedicalcare, dtype: int64"
      ]
     },
     "execution_count": 32,
     "metadata": {},
     "output_type": "execute_result"
    }
   ],
   "source": [
    "data['meansofcontrolrestrictsmedicalcare'].value_counts() "
   ]
  },
  {
   "cell_type": "code",
   "execution_count": 33,
   "id": "929f769d",
   "metadata": {},
   "outputs": [
    {
     "data": {
      "text/plain": [
       "-99    45484\n",
       " 1      2157\n",
       " 0      1160\n",
       "Name: meansofcontrolexcessiveworkinghours, dtype: int64"
      ]
     },
     "execution_count": 33,
     "metadata": {},
     "output_type": "execute_result"
    }
   ],
   "source": [
    "data['meansofcontrolexcessiveworkinghours'].value_counts() "
   ]
  },
  {
   "cell_type": "code",
   "execution_count": 34,
   "id": "c5c924dd",
   "metadata": {},
   "outputs": [
    {
     "data": {
      "text/plain": [
       "-99    48650\n",
       " 1       120\n",
       " 0        31\n",
       "Name: meansofcontroluseschildren, dtype: int64"
      ]
     },
     "execution_count": 34,
     "metadata": {},
     "output_type": "execute_result"
    }
   ],
   "source": [
    "data['meansofcontroluseschildren'].value_counts()"
   ]
  },
  {
   "cell_type": "code",
   "execution_count": 35,
   "id": "79443490",
   "metadata": {},
   "outputs": [
    {
     "data": {
      "text/plain": [
       "-99    46793\n",
       " 0      1229\n",
       " 1       779\n",
       "Name: meansofcontrolthreatoflawenforcement, dtype: int64"
      ]
     },
     "execution_count": 35,
     "metadata": {},
     "output_type": "execute_result"
    }
   ],
   "source": [
    "data['meansofcontrolthreatoflawenforcement'].value_counts() "
   ]
  },
  {
   "cell_type": "code",
   "execution_count": 36,
   "id": "46416900",
   "metadata": {},
   "outputs": [
    {
     "data": {
      "text/plain": [
       "-99    46217\n",
       " 1      1369\n",
       " 0      1215\n",
       "Name: meansofcontrolwithholdsnecessities, dtype: int64"
      ]
     },
     "execution_count": 36,
     "metadata": {},
     "output_type": "execute_result"
    }
   ],
   "source": [
    "data['meansofcontrolwithholdsnecessities'].value_counts() "
   ]
  },
  {
   "cell_type": "code",
   "execution_count": 37,
   "id": "13117e5b",
   "metadata": {},
   "outputs": [
    {
     "data": {
      "text/plain": [
       "-99    45527\n",
       " 1      2076\n",
       " 0      1198\n",
       "Name: meansofcontrolwithholdsdocuments, dtype: int64"
      ]
     },
     "execution_count": 37,
     "metadata": {},
     "output_type": "execute_result"
    }
   ],
   "source": [
    "data['meansofcontrolwithholdsdocuments'].value_counts()"
   ]
  },
  {
   "cell_type": "code",
   "execution_count": 38,
   "id": "2bc6a742",
   "metadata": {},
   "outputs": [
    {
     "data": {
      "text/plain": [
       "-99    45701\n",
       " 1      1873\n",
       " 0      1227\n",
       "Name: meansofcontrolother, dtype: int64"
      ]
     },
     "execution_count": 38,
     "metadata": {},
     "output_type": "execute_result"
    }
   ],
   "source": [
    "data['meansofcontrolother'].value_counts() "
   ]
  },
  {
   "cell_type": "code",
   "execution_count": 39,
   "id": "1a2c947a",
   "metadata": {},
   "outputs": [
    {
     "data": {
      "text/plain": [
       "-99    45701\n",
       " 1      1873\n",
       " 0      1227\n",
       "Name: meansofcontrolother, dtype: int64"
      ]
     },
     "execution_count": 39,
     "metadata": {},
     "output_type": "execute_result"
    }
   ],
   "source": [
    "data['meansofcontrolother'].value_counts()"
   ]
  },
  {
   "cell_type": "code",
   "execution_count": 40,
   "id": "ffdc4c51",
   "metadata": {},
   "outputs": [
    {
     "data": {
      "text/plain": [
       " 1     26620\n",
       "-99    11944\n",
       " 0     10237\n",
       "Name: meansofcontrolnotspecified, dtype: int64"
      ]
     },
     "execution_count": 40,
     "metadata": {},
     "output_type": "execute_result"
    }
   ],
   "source": [
    "data['meansofcontrolnotspecified'].value_counts() "
   ]
  },
  {
   "cell_type": "code",
   "execution_count": 41,
   "id": "d7e25312",
   "metadata": {},
   "outputs": [
    {
     "data": {
      "text/plain": [
       "-99                                                                                                     32281\n",
       "Not specified                                                                                            6128\n",
       "Psychological abuse                                                                                       762\n",
       "Restricts movement                                                                                        504\n",
       "Psychoactive substances                                                                                   455\n",
       "                                                                                                        ...  \n",
       "Takes earnings;Threats;Restricts movement;Excessive working hours                                           1\n",
       "Threats;Psychological abuse;Physical abuse;Sexual abuse;Restricts medical care;Withholds necessities        1\n",
       "Takes earnings;False promises;Withholds necessities                                                         1\n",
       "Debt bondage;Psychological abuse;Physical abuse;False promises                                              1\n",
       "Threats;Psychological abuse;Physical abuse;Sexual abuse;False promises;Restricts movement                   1\n",
       "Name: meansofcontrolconcatenated, Length: 1862, dtype: int64"
      ]
     },
     "execution_count": 41,
     "metadata": {},
     "output_type": "execute_result"
    }
   ],
   "source": [
    "data['meansofcontrolconcatenated'].value_counts()"
   ]
  },
  {
   "cell_type": "code",
   "execution_count": 42,
   "id": "27a85685",
   "metadata": {},
   "outputs": [
    {
     "data": {
      "text/plain": [
       "-99    22699\n",
       " 0     16330\n",
       " 1      9772\n",
       "Name: isforcedlabour, dtype: int64"
      ]
     },
     "execution_count": 42,
     "metadata": {},
     "output_type": "execute_result"
    }
   ],
   "source": [
    "data['isforcedlabour'].value_counts() "
   ]
  },
  {
   "cell_type": "code",
   "execution_count": 43,
   "id": "8716d2dd",
   "metadata": {},
   "outputs": [
    {
     "data": {
      "text/plain": [
       "-99    24940\n",
       " 1     16067\n",
       " 0      7794\n",
       "Name: issexualexploit, dtype: int64"
      ]
     },
     "execution_count": 43,
     "metadata": {},
     "output_type": "execute_result"
    }
   ],
   "source": [
    "data['issexualexploit'].value_counts()  "
   ]
  },
  {
   "cell_type": "code",
   "execution_count": 44,
   "id": "5972768c",
   "metadata": {},
   "outputs": [
    {
     "data": {
      "text/plain": [
       " 0     23874\n",
       "-99    17863\n",
       " 1      7064\n",
       "Name: isotherexploit, dtype: int64"
      ]
     },
     "execution_count": 44,
     "metadata": {},
     "output_type": "execute_result"
    }
   ],
   "source": [
    "data['isotherexploit'].value_counts() "
   ]
  },
  {
   "cell_type": "code",
   "execution_count": 45,
   "id": "5786d6f6",
   "metadata": {},
   "outputs": [
    {
     "data": {
      "text/plain": [
       "-99    25345\n",
       " 0     23378\n",
       " 1        78\n",
       "Name: issexandlabour, dtype: int64"
      ]
     },
     "execution_count": 45,
     "metadata": {},
     "output_type": "execute_result"
    }
   ],
   "source": [
    "data['issexandlabour'].value_counts() "
   ]
  },
  {
   "cell_type": "code",
   "execution_count": 46,
   "id": "09b51be4",
   "metadata": {},
   "outputs": [
    {
     "data": {
      "text/plain": [
       "-99    37775\n",
       " 0     10858\n",
       " 1       168\n",
       "Name: isforcedmarriage, dtype: int64"
      ]
     },
     "execution_count": 46,
     "metadata": {},
     "output_type": "execute_result"
    }
   ],
   "source": [
    "data['isforcedmarriage'].value_counts() "
   ]
  },
  {
   "cell_type": "code",
   "execution_count": 47,
   "id": "7b7dc9d9",
   "metadata": {},
   "outputs": [
    {
     "data": {
      "text/plain": [
       "-99    37351\n",
       " 0     11450\n",
       "Name: isforcedmilitary, dtype: int64"
      ]
     },
     "execution_count": 47,
     "metadata": {},
     "output_type": "execute_result"
    }
   ],
   "source": [
    "data['isforcedmilitary'].value_counts()"
   ]
  },
  {
   "cell_type": "code",
   "execution_count": 48,
   "id": "c3c7c883",
   "metadata": {},
   "outputs": [
    {
     "data": {
      "text/plain": [
       "-99    37351\n",
       " 0     11450\n",
       "Name: isorganremoval, dtype: int64"
      ]
     },
     "execution_count": 48,
     "metadata": {},
     "output_type": "execute_result"
    }
   ],
   "source": [
    "data['isorganremoval'].value_counts()"
   ]
  },
  {
   "cell_type": "code",
   "execution_count": 49,
   "id": "49bad611",
   "metadata": {},
   "outputs": [
    {
     "data": {
      "text/plain": [
       "-99    47213\n",
       " 0      1229\n",
       " 1       359\n",
       "Name: isslaveryandpractices, dtype: int64"
      ]
     },
     "execution_count": 49,
     "metadata": {},
     "output_type": "execute_result"
    }
   ],
   "source": [
    "data['isslaveryandpractices'].value_counts()"
   ]
  },
  {
   "cell_type": "code",
   "execution_count": 50,
   "id": "434a7d3d",
   "metadata": {},
   "outputs": [
    {
     "data": {
      "text/plain": [
       "-99                                                                          16174\n",
       "Sexual exploitation                                                          15989\n",
       "Forced labour                                                                 8969\n",
       "Other                                                                         7063\n",
       "Slavery and similar practices                                                  359\n",
       "Forced marriage                                                                168\n",
       "Forced labour;Sexual exploitation;Combined sexual and labour exploitation       78\n",
       "Forced labour;Other                                                              1\n",
       "Name: typeofexploitconcatenated, dtype: int64"
      ]
     },
     "execution_count": 50,
     "metadata": {},
     "output_type": "execute_result"
    }
   ],
   "source": [
    "data['typeofexploitconcatenated'].value_counts()"
   ]
  },
  {
   "cell_type": "code",
   "execution_count": 51,
   "id": "c40fdd54",
   "metadata": {},
   "outputs": [
    {
     "data": {
      "text/plain": [
       "-99    28329\n",
       " 0     20320\n",
       " 1       152\n",
       "Name: typeoflabouragriculture, dtype: int64"
      ]
     },
     "execution_count": 51,
     "metadata": {},
     "output_type": "execute_result"
    }
   ],
   "source": [
    "data['typeoflabouragriculture'].value_counts() "
   ]
  },
  {
   "cell_type": "code",
   "execution_count": 52,
   "id": "5bafc1e4",
   "metadata": {},
   "outputs": [
    {
     "data": {
      "text/plain": [
       "-99    28368\n",
       " 0     20326\n",
       " 1       107\n",
       "Name: typeoflabouraquafarming, dtype: int64"
      ]
     },
     "execution_count": 52,
     "metadata": {},
     "output_type": "execute_result"
    }
   ],
   "source": [
    "data['typeoflabouraquafarming'].value_counts() "
   ]
  },
  {
   "cell_type": "code",
   "execution_count": 53,
   "id": "f389313c",
   "metadata": {},
   "outputs": [
    {
     "data": {
      "text/plain": [
       "-99    28381\n",
       " 0     20271\n",
       " 1       149\n",
       "Name: typeoflabourbegging, dtype: int64"
      ]
     },
     "execution_count": 53,
     "metadata": {},
     "output_type": "execute_result"
    }
   ],
   "source": [
    "data['typeoflabourbegging'].value_counts() "
   ]
  },
  {
   "cell_type": "code",
   "execution_count": 54,
   "id": "20b1964b",
   "metadata": {},
   "outputs": [
    {
     "data": {
      "text/plain": [
       "-99    28001\n",
       " 0     19546\n",
       " 1      1254\n",
       "Name: typeoflabourconstruction, dtype: int64"
      ]
     },
     "execution_count": 54,
     "metadata": {},
     "output_type": "execute_result"
    }
   ],
   "source": [
    "data['typeoflabourconstruction'].value_counts() "
   ]
  },
  {
   "cell_type": "code",
   "execution_count": 55,
   "id": "81dd5830",
   "metadata": {},
   "outputs": [
    {
     "data": {
      "text/plain": [
       "-99    26250\n",
       " 0     19807\n",
       " 1      2744\n",
       "Name: typeoflabourdomesticwork, dtype: int64"
      ]
     },
     "execution_count": 55,
     "metadata": {},
     "output_type": "execute_result"
    }
   ],
   "source": [
    "data['typeoflabourdomesticwork'].value_counts() "
   ]
  },
  {
   "cell_type": "code",
   "execution_count": 56,
   "id": "a4f94f42",
   "metadata": {},
   "outputs": [
    {
     "data": {
      "text/plain": [
       "-99    27120\n",
       " 0     21599\n",
       " 1        82\n",
       "Name: typeoflabourhospitality, dtype: int64"
      ]
     },
     "execution_count": 56,
     "metadata": {},
     "output_type": "execute_result"
    }
   ],
   "source": [
    "data['typeoflabourhospitality'].value_counts()"
   ]
  },
  {
   "cell_type": "code",
   "execution_count": 57,
   "id": "245df924",
   "metadata": {},
   "outputs": [
    {
     "data": {
      "text/plain": [
       "-99    28459\n",
       " 0     20342\n",
       "Name: typeoflabourillicitactivities, dtype: int64"
      ]
     },
     "execution_count": 57,
     "metadata": {},
     "output_type": "execute_result"
    }
   ],
   "source": [
    "data['typeoflabourillicitactivities'].value_counts()"
   ]
  },
  {
   "cell_type": "code",
   "execution_count": 58,
   "id": "cfb54158",
   "metadata": {},
   "outputs": [
    {
     "data": {
      "text/plain": [
       "-99    28256\n",
       " 0     20092\n",
       " 1       453\n",
       "Name: typeoflabourmanufacturing, dtype: int64"
      ]
     },
     "execution_count": 58,
     "metadata": {},
     "output_type": "execute_result"
    }
   ],
   "source": [
    "data['typeoflabourmanufacturing'].value_counts() "
   ]
  },
  {
   "cell_type": "code",
   "execution_count": 59,
   "id": "042431a3",
   "metadata": {},
   "outputs": [
    {
     "data": {
      "text/plain": [
       "-99    28381\n",
       " 0     20420\n",
       "Name: typeoflabourminingordrilling, dtype: int64"
      ]
     },
     "execution_count": 59,
     "metadata": {},
     "output_type": "execute_result"
    }
   ],
   "source": [
    "data['typeoflabourminingordrilling'].value_counts()"
   ]
  },
  {
   "cell_type": "code",
   "execution_count": 60,
   "id": "f5299f67",
   "metadata": {},
   "outputs": [
    {
     "data": {
      "text/plain": [
       "-99    28459\n",
       " 0     20270\n",
       " 1        72\n",
       "Name: typeoflabourpeddling, dtype: int64"
      ]
     },
     "execution_count": 60,
     "metadata": {},
     "output_type": "execute_result"
    }
   ],
   "source": [
    "data['typeoflabourpeddling'].value_counts() "
   ]
  },
  {
   "cell_type": "code",
   "execution_count": 61,
   "id": "7ee687cb",
   "metadata": {},
   "outputs": [
    {
     "data": {
      "text/plain": [
       "-99    28381\n",
       " 0     20420\n",
       "Name: typeoflabourtransportation, dtype: int64"
      ]
     },
     "execution_count": 61,
     "metadata": {},
     "output_type": "execute_result"
    }
   ],
   "source": [
    "data['typeoflabourtransportation'].value_counts()"
   ]
  },
  {
   "cell_type": "code",
   "execution_count": 62,
   "id": "746fd249",
   "metadata": {},
   "outputs": [
    {
     "data": {
      "text/plain": [
       "-99    27117\n",
       " 0     21523\n",
       " 1       161\n",
       "Name: typeoflabourother, dtype: int64"
      ]
     },
     "execution_count": 62,
     "metadata": {},
     "output_type": "execute_result"
    }
   ],
   "source": [
    "data['typeoflabourother'].value_counts() "
   ]
  },
  {
   "cell_type": "code",
   "execution_count": 63,
   "id": "bd902ff8",
   "metadata": {},
   "outputs": [
    {
     "data": {
      "text/plain": [
       "-99    27179\n",
       " 0     20451\n",
       " 1      1171\n",
       "Name: typeoflabournotspecified, dtype: int64"
      ]
     },
     "execution_count": 63,
     "metadata": {},
     "output_type": "execute_result"
    }
   ],
   "source": [
    "data['typeoflabournotspecified'].value_counts() "
   ]
  },
  {
   "cell_type": "code",
   "execution_count": 64,
   "id": "05380ab5",
   "metadata": {},
   "outputs": [
    {
     "data": {
      "text/plain": [
       "-99                            42552\n",
       "Domestic work                   2721\n",
       "Construction                    1251\n",
       "Not specified                   1097\n",
       "Manufacturing                    453\n",
       "Begging                          149\n",
       "Agriculture                      149\n",
       "Aquafarming                      107\n",
       "Hospitality                       82\n",
       "Other                             77\n",
       "Peddling                          72\n",
       "Other;Not specified               62\n",
       "Domestic work;Other               22\n",
       "Construction;Not specified         3\n",
       "Agriculture;Not specified          3\n",
       "Domestic work;Not specified        1\n",
       "Name: typeoflabourconcatenated, dtype: int64"
      ]
     },
     "execution_count": 64,
     "metadata": {},
     "output_type": "execute_result"
    }
   ],
   "source": [
    "data['typeoflabourconcatenated'].value_counts()"
   ]
  },
  {
   "cell_type": "code",
   "execution_count": 65,
   "id": "d4a52f49",
   "metadata": {},
   "outputs": [
    {
     "data": {
      "text/plain": [
       "-99    30343\n",
       " 0     14072\n",
       " 1      4386\n",
       "Name: typeofsexprostitution, dtype: int64"
      ]
     },
     "execution_count": 65,
     "metadata": {},
     "output_type": "execute_result"
    }
   ],
   "source": [
    "data['typeofsexprostitution'].value_counts() "
   ]
  },
  {
   "cell_type": "code",
   "execution_count": 66,
   "id": "f7b67fd1",
   "metadata": {},
   "outputs": [
    {
     "data": {
      "text/plain": [
       "-99    42357\n",
       " 0      6284\n",
       " 1       160\n",
       "Name: typeofsexpornography, dtype: int64"
      ]
     },
     "execution_count": 66,
     "metadata": {},
     "output_type": "execute_result"
    }
   ],
   "source": [
    "data['typeofsexpornography'].value_counts() "
   ]
  },
  {
   "cell_type": "code",
   "execution_count": 67,
   "id": "5f235e26",
   "metadata": {},
   "outputs": [
    {
     "data": {
      "text/plain": [
       "-99    42357\n",
       " 0      6444\n",
       "Name: typeofsexremoteinteractiveservices, dtype: int64"
      ]
     },
     "execution_count": 67,
     "metadata": {},
     "output_type": "execute_result"
    }
   ],
   "source": [
    "data['typeofsexremoteinteractiveservices'].value_counts() "
   ]
  },
  {
   "cell_type": "code",
   "execution_count": 68,
   "id": "095808ba",
   "metadata": {},
   "outputs": [
    {
     "data": {
      "text/plain": [
       "-99    43586\n",
       " 0      5172\n",
       " 1        43\n",
       "Name: typeofsexprivatesexualservices, dtype: int64"
      ]
     },
     "execution_count": 68,
     "metadata": {},
     "output_type": "execute_result"
    }
   ],
   "source": [
    "data['typeofsexprivatesexualservices'].value_counts()"
   ]
  },
  {
   "cell_type": "code",
   "execution_count": 69,
   "id": "1f2028cd",
   "metadata": {},
   "outputs": [
    {
     "data": {
      "text/plain": [
       "-99                        27828\n",
       "-99                        16384\n",
       "Prostitution                4386\n",
       "Pornography                  160\n",
       "Private sexual services       43\n",
       "Name: typeofsexconcatenated, dtype: int64"
      ]
     },
     "execution_count": 69,
     "metadata": {},
     "output_type": "execute_result"
    }
   ],
   "source": [
    "data['typeofsexconcatenated'].value_counts()"
   ]
  },
  {
   "cell_type": "code",
   "execution_count": 70,
   "id": "ce031832",
   "metadata": {},
   "outputs": [
    {
     "data": {
      "text/plain": [
       "-99    32430\n",
       " 0     16332\n",
       " 1        39\n",
       "Name: isabduction, dtype: int64"
      ]
     },
     "execution_count": 70,
     "metadata": {},
     "output_type": "execute_result"
    }
   ],
   "source": [
    "data['isabduction'].value_counts()"
   ]
  },
  {
   "cell_type": "code",
   "execution_count": 71,
   "id": "09a3a8ea",
   "metadata": {},
   "outputs": [
    {
     "data": {
      "text/plain": [
       "-99                                                     30681\n",
       "Not Specified                                            8730\n",
       "Other                                                    3859\n",
       "Friend/Acquaintance                                      1992\n",
       "Family/Relative                                          1793\n",
       "Intimate Partner                                         1505\n",
       "Friend/Acquaintance; Other                                 51\n",
       "Family/Relative; Intimate Partner                          41\n",
       "Intimate Partner; Other                                    39\n",
       "Friend/Acquaintance; Intimate Partner                      28\n",
       "Not Specified; Other                                       24\n",
       "Family/Relative; Other                                     18\n",
       "Family/Relative; Friend/Acquaintance                       16\n",
       "Family/Relative; Not Specified                              8\n",
       "Intimate Partner; Not Specified                             6\n",
       "Friend/Acquaintance; Intimate Partner; Other                4\n",
       "Family/Relative; Friend/Acquaintance; Other                 2\n",
       "Friend/Acquaintance; Not Specified; Other                   1\n",
       "Friend/Acquaintance; Not Specified                          1\n",
       "Friend/Acquaintance; Intimate Partner; Not Specified        1\n",
       "Family/Relative; Intimate Partner; Other                    1\n",
       "Name: recruiterrelationship, dtype: int64"
      ]
     },
     "execution_count": 71,
     "metadata": {},
     "output_type": "execute_result"
    }
   ],
   "source": [
    "data['recruiterrelationship'].value_counts()"
   ]
  },
  {
   "cell_type": "code",
   "execution_count": 72,
   "id": "0acf2526",
   "metadata": {},
   "outputs": [
    {
     "data": {
      "text/plain": [
       "US     12512\n",
       "-99    10175\n",
       "UA      5399\n",
       "MD      4504\n",
       "RU      2738\n",
       "PH      1988\n",
       "ID      1777\n",
       "KH      1000\n",
       "MY       930\n",
       "00       844\n",
       "GH       544\n",
       "AE       504\n",
       "BY       400\n",
       "TH       391\n",
       "SN       370\n",
       "BG       356\n",
       "HT       339\n",
       "PL       326\n",
       "SA       278\n",
       "RO       259\n",
       "RS       248\n",
       "QA       239\n",
       "KZ       222\n",
       "KW       209\n",
       "TR       197\n",
       "MK       194\n",
       "UZ       193\n",
       "UG       151\n",
       "BA       127\n",
       "JP       111\n",
       "JO       108\n",
       "OM        94\n",
       "MG        94\n",
       "TT        85\n",
       "AF        83\n",
       "SL        81\n",
       "CN        79\n",
       "LB        73\n",
       "TJ        54\n",
       "IN        46\n",
       "SY        41\n",
       "CZ        38\n",
       "SG        37\n",
       "ZA        36\n",
       "TW        33\n",
       "HK        31\n",
       "TM        26\n",
       "BD        26\n",
       "IT        24\n",
       "AT        24\n",
       "AL        22\n",
       "BH        22\n",
       "MU        20\n",
       "AR        18\n",
       "DK        17\n",
       "VN        16\n",
       "EG        13\n",
       "EC        13\n",
       "CY        11\n",
       "LY        11\n",
       "Name: countryofexploitation, dtype: int64"
      ]
     },
     "execution_count": 72,
     "metadata": {},
     "output_type": "execute_result"
    }
   ],
   "source": [
    "data['countryofexploitation'].value_counts()"
   ]
  },
  {
   "cell_type": "code",
   "execution_count": 73,
   "id": "09487b32",
   "metadata": {},
   "outputs": [
    {
     "data": {
      "text/plain": [
       " 0     38369\n",
       "-99     8807\n",
       " 1      1625\n",
       "Name: recruiterrelationintimatepartner, dtype: int64"
      ]
     },
     "execution_count": 73,
     "metadata": {},
     "output_type": "execute_result"
    }
   ],
   "source": [
    "data['recruiterrelationintimatepartner'].value_counts()  "
   ]
  },
  {
   "cell_type": "code",
   "execution_count": 74,
   "id": "cfeda8b0",
   "metadata": {},
   "outputs": [
    {
     "data": {
      "text/plain": [
       " 0     37898\n",
       "-99     8807\n",
       " 1      2096\n",
       "Name: recruiterrelationfriend, dtype: int64"
      ]
     },
     "execution_count": 74,
     "metadata": {},
     "output_type": "execute_result"
    }
   ],
   "source": [
    "data['recruiterrelationfriend'].value_counts() "
   ]
  },
  {
   "cell_type": "code",
   "execution_count": 75,
   "id": "4b493221",
   "metadata": {},
   "outputs": [
    {
     "data": {
      "text/plain": [
       " 0     38115\n",
       "-99     8807\n",
       " 1      1879\n",
       "Name: recruiterrelationfamily, dtype: int64"
      ]
     },
     "execution_count": 75,
     "metadata": {},
     "output_type": "execute_result"
    }
   ],
   "source": [
    "data['recruiterrelationfamily'].value_counts() "
   ]
  },
  {
   "cell_type": "code",
   "execution_count": 76,
   "id": "62c5aeb4",
   "metadata": {},
   "outputs": [
    {
     "data": {
      "text/plain": [
       " 0     35514\n",
       "-99     8807\n",
       " 1      4480\n",
       "Name: recruiterrelationother, dtype: int64"
      ]
     },
     "execution_count": 76,
     "metadata": {},
     "output_type": "execute_result"
    }
   ],
   "source": [
    "data['recruiterrelationother'].value_counts() "
   ]
  },
  {
   "cell_type": "code",
   "execution_count": 77,
   "id": "eddde6cb",
   "metadata": {},
   "outputs": [
    {
     "data": {
      "text/plain": [
       " 1     39207\n",
       " 0      9517\n",
       "-99       77\n",
       "Name: recruiterrelationunknown, dtype: int64"
      ]
     },
     "execution_count": 77,
     "metadata": {},
     "output_type": "execute_result"
    }
   ],
   "source": [
    "data['recruiterrelationunknown'].value_counts() "
   ]
  },
  {
   "cell_type": "code",
   "execution_count": 78,
   "id": "ecd70b4c",
   "metadata": {},
   "outputs": [],
   "source": [
    "columns_to_drop = [\n",
    "    'isforcedlabour', 'isslaveryandpractices', 'majoritystatusatexploit',\n",
    "    'isforcedmilitary', 'issexualexploit', 'isotherexploit', 'issexandlabour',\n",
    "    'isforcedmarriage', 'typeoflabournotspecified', 'typeoflabourother',\n",
    "    'typeoflabourpeddling', 'typeoflabourmanufacturing', 'typeoflabourhospitality',\n",
    "    'typeoflabourdomesticwork', 'typeoflabourconstruction', 'typeoflabourbegging',\n",
    "    'typeoflabouraquafarming', 'typeoflabourillicitactivities', 'typeoflabourminingordrilling',\n",
    "    'typeoflabouragriculture', 'recruiterrelationintimatepartner', 'recruiterrelationfriend',\n",
    "    'recruiterrelationfamily', 'recruiterrelationother', 'typeofsexprivatesexualservices',\n",
    "    'typeofsexremoteinteractiveservices', 'typeoflabourtransportation', 'typeofsexpornography',\n",
    "    'typeofsexprostitution','datasource'\n",
    "]\n",
    "\n",
    "data = data.drop(columns=columns_to_drop)\n"
   ]
  },
  {
   "cell_type": "code",
   "execution_count": 79,
   "id": "85524fad",
   "metadata": {},
   "outputs": [],
   "source": [
    "data.replace('-99','unknown', inplace=True)\n",
    "data.replace(-99, 'unknown', inplace=True)"
   ]
  },
  {
   "cell_type": "code",
   "execution_count": 80,
   "id": "0a1725d6",
   "metadata": {},
   "outputs": [
    {
     "data": {
      "text/html": [
       "<div>\n",
       "<style scoped>\n",
       "    .dataframe tbody tr th:only-of-type {\n",
       "        vertical-align: middle;\n",
       "    }\n",
       "\n",
       "    .dataframe tbody tr th {\n",
       "        vertical-align: top;\n",
       "    }\n",
       "\n",
       "    .dataframe thead th {\n",
       "        text-align: right;\n",
       "    }\n",
       "</style>\n",
       "<table border=\"1\" class=\"dataframe\">\n",
       "  <thead>\n",
       "    <tr style=\"text-align: right;\">\n",
       "      <th></th>\n",
       "      <th>yearofregistration</th>\n",
       "      <th>gender</th>\n",
       "      <th>agebroad</th>\n",
       "      <th>majoritystatus</th>\n",
       "      <th>majorityentry</th>\n",
       "      <th>citizenship</th>\n",
       "      <th>meansofcontroldebtbondage</th>\n",
       "      <th>meansofcontroltakesearnings</th>\n",
       "      <th>meansofcontrolrestrictsfinancialaccess</th>\n",
       "      <th>meansofcontrolthreats</th>\n",
       "      <th>...</th>\n",
       "      <th>meansofcontrolnotspecified</th>\n",
       "      <th>meansofcontrolconcatenated</th>\n",
       "      <th>isorganremoval</th>\n",
       "      <th>typeofexploitconcatenated</th>\n",
       "      <th>typeoflabourconcatenated</th>\n",
       "      <th>typeofsexconcatenated</th>\n",
       "      <th>isabduction</th>\n",
       "      <th>recruiterrelationship</th>\n",
       "      <th>countryofexploitation</th>\n",
       "      <th>recruiterrelationunknown</th>\n",
       "    </tr>\n",
       "  </thead>\n",
       "  <tbody>\n",
       "    <tr>\n",
       "      <th>0</th>\n",
       "      <td>2002</td>\n",
       "      <td>Female</td>\n",
       "      <td>18--20</td>\n",
       "      <td>Adult</td>\n",
       "      <td>unknown</td>\n",
       "      <td>CO</td>\n",
       "      <td>unknown</td>\n",
       "      <td>unknown</td>\n",
       "      <td>unknown</td>\n",
       "      <td>unknown</td>\n",
       "      <td>...</td>\n",
       "      <td>1</td>\n",
       "      <td>unknown</td>\n",
       "      <td>0</td>\n",
       "      <td>Sexual exploitation</td>\n",
       "      <td>unknown</td>\n",
       "      <td>unknown</td>\n",
       "      <td>unknown</td>\n",
       "      <td>unknown</td>\n",
       "      <td>unknown</td>\n",
       "      <td>1</td>\n",
       "    </tr>\n",
       "    <tr>\n",
       "      <th>1</th>\n",
       "      <td>2002</td>\n",
       "      <td>Female</td>\n",
       "      <td>18--20</td>\n",
       "      <td>Adult</td>\n",
       "      <td>unknown</td>\n",
       "      <td>CO</td>\n",
       "      <td>unknown</td>\n",
       "      <td>unknown</td>\n",
       "      <td>unknown</td>\n",
       "      <td>unknown</td>\n",
       "      <td>...</td>\n",
       "      <td>1</td>\n",
       "      <td>unknown</td>\n",
       "      <td>0</td>\n",
       "      <td>Sexual exploitation</td>\n",
       "      <td>unknown</td>\n",
       "      <td>unknown</td>\n",
       "      <td>unknown</td>\n",
       "      <td>unknown</td>\n",
       "      <td>unknown</td>\n",
       "      <td>1</td>\n",
       "    </tr>\n",
       "    <tr>\n",
       "      <th>2</th>\n",
       "      <td>2002</td>\n",
       "      <td>Female</td>\n",
       "      <td>18--20</td>\n",
       "      <td>Adult</td>\n",
       "      <td>unknown</td>\n",
       "      <td>CO</td>\n",
       "      <td>unknown</td>\n",
       "      <td>unknown</td>\n",
       "      <td>unknown</td>\n",
       "      <td>unknown</td>\n",
       "      <td>...</td>\n",
       "      <td>1</td>\n",
       "      <td>unknown</td>\n",
       "      <td>0</td>\n",
       "      <td>Sexual exploitation</td>\n",
       "      <td>unknown</td>\n",
       "      <td>unknown</td>\n",
       "      <td>unknown</td>\n",
       "      <td>unknown</td>\n",
       "      <td>unknown</td>\n",
       "      <td>1</td>\n",
       "    </tr>\n",
       "    <tr>\n",
       "      <th>3</th>\n",
       "      <td>2002</td>\n",
       "      <td>Female</td>\n",
       "      <td>18--20</td>\n",
       "      <td>Adult</td>\n",
       "      <td>unknown</td>\n",
       "      <td>CO</td>\n",
       "      <td>unknown</td>\n",
       "      <td>unknown</td>\n",
       "      <td>unknown</td>\n",
       "      <td>unknown</td>\n",
       "      <td>...</td>\n",
       "      <td>1</td>\n",
       "      <td>unknown</td>\n",
       "      <td>0</td>\n",
       "      <td>Sexual exploitation</td>\n",
       "      <td>unknown</td>\n",
       "      <td>unknown</td>\n",
       "      <td>unknown</td>\n",
       "      <td>unknown</td>\n",
       "      <td>unknown</td>\n",
       "      <td>1</td>\n",
       "    </tr>\n",
       "    <tr>\n",
       "      <th>4</th>\n",
       "      <td>2002</td>\n",
       "      <td>Female</td>\n",
       "      <td>18--20</td>\n",
       "      <td>Adult</td>\n",
       "      <td>unknown</td>\n",
       "      <td>CO</td>\n",
       "      <td>unknown</td>\n",
       "      <td>unknown</td>\n",
       "      <td>unknown</td>\n",
       "      <td>unknown</td>\n",
       "      <td>...</td>\n",
       "      <td>1</td>\n",
       "      <td>unknown</td>\n",
       "      <td>0</td>\n",
       "      <td>Sexual exploitation</td>\n",
       "      <td>unknown</td>\n",
       "      <td>unknown</td>\n",
       "      <td>unknown</td>\n",
       "      <td>unknown</td>\n",
       "      <td>unknown</td>\n",
       "      <td>1</td>\n",
       "    </tr>\n",
       "    <tr>\n",
       "      <th>...</th>\n",
       "      <td>...</td>\n",
       "      <td>...</td>\n",
       "      <td>...</td>\n",
       "      <td>...</td>\n",
       "      <td>...</td>\n",
       "      <td>...</td>\n",
       "      <td>...</td>\n",
       "      <td>...</td>\n",
       "      <td>...</td>\n",
       "      <td>...</td>\n",
       "      <td>...</td>\n",
       "      <td>...</td>\n",
       "      <td>...</td>\n",
       "      <td>...</td>\n",
       "      <td>...</td>\n",
       "      <td>...</td>\n",
       "      <td>...</td>\n",
       "      <td>...</td>\n",
       "      <td>...</td>\n",
       "      <td>...</td>\n",
       "      <td>...</td>\n",
       "    </tr>\n",
       "    <tr>\n",
       "      <th>48796</th>\n",
       "      <td>2019</td>\n",
       "      <td>Female</td>\n",
       "      <td>unknown</td>\n",
       "      <td>unknown</td>\n",
       "      <td>unknown</td>\n",
       "      <td>UG</td>\n",
       "      <td>0</td>\n",
       "      <td>0</td>\n",
       "      <td>0</td>\n",
       "      <td>0</td>\n",
       "      <td>...</td>\n",
       "      <td>1</td>\n",
       "      <td>Not specified</td>\n",
       "      <td>0</td>\n",
       "      <td>Sexual exploitation</td>\n",
       "      <td>unknown</td>\n",
       "      <td>unknown</td>\n",
       "      <td>0</td>\n",
       "      <td>unknown</td>\n",
       "      <td>UG</td>\n",
       "      <td>unknown</td>\n",
       "    </tr>\n",
       "    <tr>\n",
       "      <th>48797</th>\n",
       "      <td>2019</td>\n",
       "      <td>Female</td>\n",
       "      <td>unknown</td>\n",
       "      <td>unknown</td>\n",
       "      <td>unknown</td>\n",
       "      <td>UG</td>\n",
       "      <td>0</td>\n",
       "      <td>0</td>\n",
       "      <td>0</td>\n",
       "      <td>0</td>\n",
       "      <td>...</td>\n",
       "      <td>1</td>\n",
       "      <td>Not specified</td>\n",
       "      <td>0</td>\n",
       "      <td>Sexual exploitation</td>\n",
       "      <td>unknown</td>\n",
       "      <td>unknown</td>\n",
       "      <td>0</td>\n",
       "      <td>unknown</td>\n",
       "      <td>UG</td>\n",
       "      <td>unknown</td>\n",
       "    </tr>\n",
       "    <tr>\n",
       "      <th>48798</th>\n",
       "      <td>2019</td>\n",
       "      <td>Female</td>\n",
       "      <td>unknown</td>\n",
       "      <td>unknown</td>\n",
       "      <td>unknown</td>\n",
       "      <td>UG</td>\n",
       "      <td>0</td>\n",
       "      <td>0</td>\n",
       "      <td>0</td>\n",
       "      <td>0</td>\n",
       "      <td>...</td>\n",
       "      <td>1</td>\n",
       "      <td>Not specified</td>\n",
       "      <td>0</td>\n",
       "      <td>Sexual exploitation</td>\n",
       "      <td>unknown</td>\n",
       "      <td>unknown</td>\n",
       "      <td>0</td>\n",
       "      <td>unknown</td>\n",
       "      <td>UG</td>\n",
       "      <td>unknown</td>\n",
       "    </tr>\n",
       "    <tr>\n",
       "      <th>48799</th>\n",
       "      <td>2019</td>\n",
       "      <td>Female</td>\n",
       "      <td>unknown</td>\n",
       "      <td>unknown</td>\n",
       "      <td>unknown</td>\n",
       "      <td>UG</td>\n",
       "      <td>0</td>\n",
       "      <td>0</td>\n",
       "      <td>0</td>\n",
       "      <td>0</td>\n",
       "      <td>...</td>\n",
       "      <td>1</td>\n",
       "      <td>Not specified</td>\n",
       "      <td>0</td>\n",
       "      <td>Sexual exploitation</td>\n",
       "      <td>unknown</td>\n",
       "      <td>unknown</td>\n",
       "      <td>0</td>\n",
       "      <td>unknown</td>\n",
       "      <td>UG</td>\n",
       "      <td>unknown</td>\n",
       "    </tr>\n",
       "    <tr>\n",
       "      <th>48800</th>\n",
       "      <td>2019</td>\n",
       "      <td>Female</td>\n",
       "      <td>unknown</td>\n",
       "      <td>unknown</td>\n",
       "      <td>unknown</td>\n",
       "      <td>UG</td>\n",
       "      <td>0</td>\n",
       "      <td>0</td>\n",
       "      <td>0</td>\n",
       "      <td>0</td>\n",
       "      <td>...</td>\n",
       "      <td>1</td>\n",
       "      <td>Not specified</td>\n",
       "      <td>0</td>\n",
       "      <td>Sexual exploitation</td>\n",
       "      <td>unknown</td>\n",
       "      <td>unknown</td>\n",
       "      <td>0</td>\n",
       "      <td>unknown</td>\n",
       "      <td>UG</td>\n",
       "      <td>unknown</td>\n",
       "    </tr>\n",
       "  </tbody>\n",
       "</table>\n",
       "<p>48801 rows × 33 columns</p>\n",
       "</div>"
      ],
      "text/plain": [
       "       yearofregistration  gender agebroad majoritystatus majorityentry  \\\n",
       "0                    2002  Female   18--20          Adult       unknown   \n",
       "1                    2002  Female   18--20          Adult       unknown   \n",
       "2                    2002  Female   18--20          Adult       unknown   \n",
       "3                    2002  Female   18--20          Adult       unknown   \n",
       "4                    2002  Female   18--20          Adult       unknown   \n",
       "...                   ...     ...      ...            ...           ...   \n",
       "48796                2019  Female  unknown        unknown       unknown   \n",
       "48797                2019  Female  unknown        unknown       unknown   \n",
       "48798                2019  Female  unknown        unknown       unknown   \n",
       "48799                2019  Female  unknown        unknown       unknown   \n",
       "48800                2019  Female  unknown        unknown       unknown   \n",
       "\n",
       "      citizenship meansofcontroldebtbondage meansofcontroltakesearnings  \\\n",
       "0              CO                   unknown                     unknown   \n",
       "1              CO                   unknown                     unknown   \n",
       "2              CO                   unknown                     unknown   \n",
       "3              CO                   unknown                     unknown   \n",
       "4              CO                   unknown                     unknown   \n",
       "...           ...                       ...                         ...   \n",
       "48796          UG                         0                           0   \n",
       "48797          UG                         0                           0   \n",
       "48798          UG                         0                           0   \n",
       "48799          UG                         0                           0   \n",
       "48800          UG                         0                           0   \n",
       "\n",
       "      meansofcontrolrestrictsfinancialaccess meansofcontrolthreats  ...  \\\n",
       "0                                    unknown               unknown  ...   \n",
       "1                                    unknown               unknown  ...   \n",
       "2                                    unknown               unknown  ...   \n",
       "3                                    unknown               unknown  ...   \n",
       "4                                    unknown               unknown  ...   \n",
       "...                                      ...                   ...  ...   \n",
       "48796                                      0                     0  ...   \n",
       "48797                                      0                     0  ...   \n",
       "48798                                      0                     0  ...   \n",
       "48799                                      0                     0  ...   \n",
       "48800                                      0                     0  ...   \n",
       "\n",
       "      meansofcontrolnotspecified meansofcontrolconcatenated isorganremoval  \\\n",
       "0                              1                    unknown              0   \n",
       "1                              1                    unknown              0   \n",
       "2                              1                    unknown              0   \n",
       "3                              1                    unknown              0   \n",
       "4                              1                    unknown              0   \n",
       "...                          ...                        ...            ...   \n",
       "48796                          1              Not specified              0   \n",
       "48797                          1              Not specified              0   \n",
       "48798                          1              Not specified              0   \n",
       "48799                          1              Not specified              0   \n",
       "48800                          1              Not specified              0   \n",
       "\n",
       "      typeofexploitconcatenated typeoflabourconcatenated  \\\n",
       "0           Sexual exploitation                  unknown   \n",
       "1           Sexual exploitation                  unknown   \n",
       "2           Sexual exploitation                  unknown   \n",
       "3           Sexual exploitation                  unknown   \n",
       "4           Sexual exploitation                  unknown   \n",
       "...                         ...                      ...   \n",
       "48796       Sexual exploitation                  unknown   \n",
       "48797       Sexual exploitation                  unknown   \n",
       "48798       Sexual exploitation                  unknown   \n",
       "48799       Sexual exploitation                  unknown   \n",
       "48800       Sexual exploitation                  unknown   \n",
       "\n",
       "      typeofsexconcatenated isabduction recruiterrelationship  \\\n",
       "0                   unknown     unknown               unknown   \n",
       "1                   unknown     unknown               unknown   \n",
       "2                   unknown     unknown               unknown   \n",
       "3                   unknown     unknown               unknown   \n",
       "4                   unknown     unknown               unknown   \n",
       "...                     ...         ...                   ...   \n",
       "48796               unknown           0               unknown   \n",
       "48797               unknown           0               unknown   \n",
       "48798               unknown           0               unknown   \n",
       "48799               unknown           0               unknown   \n",
       "48800               unknown           0               unknown   \n",
       "\n",
       "      countryofexploitation recruiterrelationunknown  \n",
       "0                   unknown                        1  \n",
       "1                   unknown                        1  \n",
       "2                   unknown                        1  \n",
       "3                   unknown                        1  \n",
       "4                   unknown                        1  \n",
       "...                     ...                      ...  \n",
       "48796                    UG                  unknown  \n",
       "48797                    UG                  unknown  \n",
       "48798                    UG                  unknown  \n",
       "48799                    UG                  unknown  \n",
       "48800                    UG                  unknown  \n",
       "\n",
       "[48801 rows x 33 columns]"
      ]
     },
     "execution_count": 80,
     "metadata": {},
     "output_type": "execute_result"
    }
   ],
   "source": [
    "data"
   ]
  },
  {
   "cell_type": "code",
   "execution_count": 81,
   "id": "1fdd05dc",
   "metadata": {},
   "outputs": [],
   "source": [
    "data['yearofregistration']=data['yearofregistration'].astype(object)"
   ]
  },
  {
   "cell_type": "code",
   "execution_count": 82,
   "id": "27500633",
   "metadata": {},
   "outputs": [
    {
     "name": "stdout",
     "output_type": "stream",
     "text": [
      "<class 'pandas.core.frame.DataFrame'>\n",
      "RangeIndex: 48801 entries, 0 to 48800\n",
      "Data columns (total 33 columns):\n",
      " #   Column                                  Non-Null Count  Dtype \n",
      "---  ------                                  --------------  ----- \n",
      " 0   yearofregistration                      48801 non-null  object\n",
      " 1   gender                                  48801 non-null  object\n",
      " 2   agebroad                                48801 non-null  object\n",
      " 3   majoritystatus                          48801 non-null  object\n",
      " 4   majorityentry                           48801 non-null  object\n",
      " 5   citizenship                             48801 non-null  object\n",
      " 6   meansofcontroldebtbondage               48801 non-null  object\n",
      " 7   meansofcontroltakesearnings             48801 non-null  object\n",
      " 8   meansofcontrolrestrictsfinancialaccess  48801 non-null  object\n",
      " 9   meansofcontrolthreats                   48801 non-null  object\n",
      " 10  meansofcontrolpsychologicalabuse        48801 non-null  object\n",
      " 11  meansofcontrolphysicalabuse             48801 non-null  object\n",
      " 12  meansofcontrolsexualabuse               48801 non-null  object\n",
      " 13  meansofcontrolfalsepromises             48801 non-null  object\n",
      " 14  meansofcontrolpsychoactivesubstances    48801 non-null  object\n",
      " 15  meansofcontrolrestrictsmovement         48801 non-null  object\n",
      " 16  meansofcontrolrestrictsmedicalcare      48801 non-null  object\n",
      " 17  meansofcontrolexcessiveworkinghours     48801 non-null  object\n",
      " 18  meansofcontroluseschildren              48801 non-null  object\n",
      " 19  meansofcontrolthreatoflawenforcement    48801 non-null  object\n",
      " 20  meansofcontrolwithholdsnecessities      48801 non-null  object\n",
      " 21  meansofcontrolwithholdsdocuments        48801 non-null  object\n",
      " 22  meansofcontrolother                     48801 non-null  object\n",
      " 23  meansofcontrolnotspecified              48801 non-null  object\n",
      " 24  meansofcontrolconcatenated              48801 non-null  object\n",
      " 25  isorganremoval                          48801 non-null  object\n",
      " 26  typeofexploitconcatenated               48801 non-null  object\n",
      " 27  typeoflabourconcatenated                48801 non-null  object\n",
      " 28  typeofsexconcatenated                   48801 non-null  object\n",
      " 29  isabduction                             48801 non-null  object\n",
      " 30  recruiterrelationship                   48801 non-null  object\n",
      " 31  countryofexploitation                   48801 non-null  object\n",
      " 32  recruiterrelationunknown                48801 non-null  object\n",
      "dtypes: object(33)\n",
      "memory usage: 12.3+ MB\n"
     ]
    }
   ],
   "source": [
    "data.info()"
   ]
  },
  {
   "cell_type": "code",
   "execution_count": 83,
   "id": "ce9d53a5",
   "metadata": {},
   "outputs": [],
   "source": [
    "data=data.astype(str)"
   ]
  },
  {
   "cell_type": "code",
   "execution_count": 84,
   "id": "c2036abd",
   "metadata": {},
   "outputs": [
    {
     "data": {
      "text/plain": [
       "0"
      ]
     },
     "execution_count": 84,
     "metadata": {},
     "output_type": "execute_result"
    }
   ],
   "source": [
    "data.isna().sum().sum()"
   ]
  },
  {
   "cell_type": "code",
   "execution_count": 85,
   "id": "e9a9b579",
   "metadata": {},
   "outputs": [
    {
     "name": "stdout",
     "output_type": "stream",
     "text": [
      "{'agebroad': 10,\n",
      " 'citizenship': 46,\n",
      " 'countryofexploitation': 60,\n",
      " 'gender': 2,\n",
      " 'isabduction': 3,\n",
      " 'isorganremoval': 2,\n",
      " 'majorityentry': 3,\n",
      " 'majoritystatus': 3,\n",
      " 'meansofcontrolconcatenated': 1862,\n",
      " 'meansofcontroldebtbondage': 3,\n",
      " 'meansofcontrolexcessiveworkinghours': 3,\n",
      " 'meansofcontrolfalsepromises': 3,\n",
      " 'meansofcontrolnotspecified': 3,\n",
      " 'meansofcontrolother': 3,\n",
      " 'meansofcontrolphysicalabuse': 3,\n",
      " 'meansofcontrolpsychoactivesubstances': 3,\n",
      " 'meansofcontrolpsychologicalabuse': 3,\n",
      " 'meansofcontrolrestrictsfinancialaccess': 3,\n",
      " 'meansofcontrolrestrictsmedicalcare': 3,\n",
      " 'meansofcontrolrestrictsmovement': 3,\n",
      " 'meansofcontrolsexualabuse': 3,\n",
      " 'meansofcontroltakesearnings': 3,\n",
      " 'meansofcontrolthreatoflawenforcement': 3,\n",
      " 'meansofcontrolthreats': 3,\n",
      " 'meansofcontroluseschildren': 3,\n",
      " 'meansofcontrolwithholdsdocuments': 3,\n",
      " 'meansofcontrolwithholdsnecessities': 3,\n",
      " 'recruiterrelationship': 21,\n",
      " 'recruiterrelationunknown': 3,\n",
      " 'typeofexploitconcatenated': 8,\n",
      " 'typeoflabourconcatenated': 16,\n",
      " 'typeofsexconcatenated': 4,\n",
      " 'yearofregistration': 18}\n"
     ]
    }
   ],
   "source": [
    "col_uni_val={}\n",
    "for i in data.columns:\n",
    "    col_uni_val[i] = len(data[i].unique())\n",
    "\n",
    "#Import pprint to display dic nicely:\n",
    "import pprint\n",
    "pprint.pprint(col_uni_val)"
   ]
  },
  {
   "cell_type": "code",
   "execution_count": 86,
   "id": "9b7f0d36",
   "metadata": {},
   "outputs": [
    {
     "data": {
      "text/plain": [
       "unknown    12362\n",
       "9--17       8645\n",
       "30--38      7091\n",
       "18--20      4448\n",
       "21--23      4213\n",
       "24--26      3464\n",
       "39--47      2821\n",
       "27--29      2641\n",
       "48+         1560\n",
       "0--8        1556\n",
       "Name: agebroad, dtype: int64"
      ]
     },
     "execution_count": 86,
     "metadata": {},
     "output_type": "execute_result"
    }
   ],
   "source": [
    "unique_counts = data['agebroad'].value_counts()\n",
    "unique_counts"
   ]
  },
  {
   "cell_type": "code",
   "execution_count": 87,
   "id": "103a68b4",
   "metadata": {},
   "outputs": [
    {
     "data": {
      "text/plain": [
       "PH         11365\n",
       "00          8858\n",
       "UA          7761\n",
       "MD          5901\n",
       "US          3636\n",
       "KH          1979\n",
       "ID          1971\n",
       "BY          1463\n",
       "MM          1250\n",
       "RO           655\n",
       "GH           544\n",
       "KG           437\n",
       "BG           342\n",
       "HT           339\n",
       "unknown      278\n",
       "UZ           261\n",
       "VN           170\n",
       "GW           145\n",
       "LA           126\n",
       "CO           124\n",
       "NG           108\n",
       "UG            98\n",
       "AF            97\n",
       "MG            94\n",
       "LK            85\n",
       "SL            81\n",
       "SN            70\n",
       "TH            55\n",
       "KZ            54\n",
       "CD            53\n",
       "ML            45\n",
       "TJ            43\n",
       "BF            33\n",
       "KE            32\n",
       "NE            31\n",
       "CI            31\n",
       "NP            27\n",
       "TM            26\n",
       "CN            23\n",
       "AL            22\n",
       "MX            19\n",
       "BO            18\n",
       "GN            15\n",
       "ER            13\n",
       "KR            12\n",
       "BD            11\n",
       "Name: citizenship, dtype: int64"
      ]
     },
     "execution_count": 87,
     "metadata": {},
     "output_type": "execute_result"
    }
   ],
   "source": [
    "unique_counts = data['citizenship'].value_counts()\n",
    "unique_counts"
   ]
  },
  {
   "cell_type": "code",
   "execution_count": 88,
   "id": "849f4e23",
   "metadata": {},
   "outputs": [
    {
     "data": {
      "text/plain": [
       "US         12512\n",
       "unknown    10175\n",
       "UA          5399\n",
       "MD          4504\n",
       "RU          2738\n",
       "PH          1988\n",
       "ID          1777\n",
       "KH          1000\n",
       "MY           930\n",
       "00           844\n",
       "GH           544\n",
       "AE           504\n",
       "BY           400\n",
       "TH           391\n",
       "SN           370\n",
       "BG           356\n",
       "HT           339\n",
       "PL           326\n",
       "SA           278\n",
       "RO           259\n",
       "RS           248\n",
       "QA           239\n",
       "KZ           222\n",
       "KW           209\n",
       "TR           197\n",
       "MK           194\n",
       "UZ           193\n",
       "UG           151\n",
       "BA           127\n",
       "JP           111\n",
       "JO           108\n",
       "OM            94\n",
       "MG            94\n",
       "TT            85\n",
       "AF            83\n",
       "SL            81\n",
       "CN            79\n",
       "LB            73\n",
       "TJ            54\n",
       "IN            46\n",
       "SY            41\n",
       "CZ            38\n",
       "SG            37\n",
       "ZA            36\n",
       "TW            33\n",
       "HK            31\n",
       "TM            26\n",
       "BD            26\n",
       "IT            24\n",
       "AT            24\n",
       "AL            22\n",
       "BH            22\n",
       "MU            20\n",
       "AR            18\n",
       "DK            17\n",
       "VN            16\n",
       "EG            13\n",
       "EC            13\n",
       "CY            11\n",
       "LY            11\n",
       "Name: countryofexploitation, dtype: int64"
      ]
     },
     "execution_count": 88,
     "metadata": {},
     "output_type": "execute_result"
    }
   ],
   "source": [
    "unique_counts = data['countryofexploitation'].value_counts()\n",
    "unique_counts"
   ]
  },
  {
   "cell_type": "code",
   "execution_count": 89,
   "id": "fd0e3709",
   "metadata": {},
   "outputs": [
    {
     "data": {
      "text/plain": [
       "Female    35534\n",
       "Male      13267\n",
       "Name: gender, dtype: int64"
      ]
     },
     "execution_count": 89,
     "metadata": {},
     "output_type": "execute_result"
    }
   ],
   "source": [
    "unique_counts = data['gender'].value_counts()\n",
    "unique_counts"
   ]
  },
  {
   "cell_type": "code",
   "execution_count": 90,
   "id": "4db49d0c",
   "metadata": {},
   "outputs": [
    {
     "data": {
      "text/plain": [
       "unknown    32430\n",
       "0          16332\n",
       "1             39\n",
       "Name: isabduction, dtype: int64"
      ]
     },
     "execution_count": 90,
     "metadata": {},
     "output_type": "execute_result"
    }
   ],
   "source": [
    "unique_counts = data['isabduction'].value_counts()\n",
    "unique_counts"
   ]
  },
  {
   "cell_type": "code",
   "execution_count": 91,
   "id": "7310f1c4",
   "metadata": {},
   "outputs": [
    {
     "data": {
      "text/plain": [
       "unknown    37351\n",
       "0          11450\n",
       "Name: isorganremoval, dtype: int64"
      ]
     },
     "execution_count": 91,
     "metadata": {},
     "output_type": "execute_result"
    }
   ],
   "source": [
    "unique_counts = data['isorganremoval'].value_counts()\n",
    "unique_counts"
   ]
  },
  {
   "cell_type": "code",
   "execution_count": 92,
   "id": "36ea7786",
   "metadata": {},
   "outputs": [
    {
     "data": {
      "text/plain": [
       "unknown    42310\n",
       "Adult       5438\n",
       "Minor       1053\n",
       "Name: majorityentry, dtype: int64"
      ]
     },
     "execution_count": 92,
     "metadata": {},
     "output_type": "execute_result"
    }
   ],
   "source": [
    "unique_counts = data['majorityentry'].value_counts()\n",
    "unique_counts"
   ]
  },
  {
   "cell_type": "code",
   "execution_count": 93,
   "id": "0fce213a",
   "metadata": {},
   "outputs": [
    {
     "data": {
      "text/plain": [
       "Adult      26238\n",
       "unknown    12362\n",
       "Minor      10201\n",
       "Name: majoritystatus, dtype: int64"
      ]
     },
     "execution_count": 93,
     "metadata": {},
     "output_type": "execute_result"
    }
   ],
   "source": [
    "unique_counts = data['majoritystatus'].value_counts()\n",
    "unique_counts"
   ]
  },
  {
   "cell_type": "code",
   "execution_count": 94,
   "id": "447483b6",
   "metadata": {},
   "outputs": [
    {
     "data": {
      "text/plain": [
       "unknown    46305\n",
       "1           1281\n",
       "0           1215\n",
       "Name: meansofcontroldebtbondage, dtype: int64"
      ]
     },
     "execution_count": 94,
     "metadata": {},
     "output_type": "execute_result"
    }
   ],
   "source": [
    "unique_counts = data['meansofcontroldebtbondage'].value_counts()\n",
    "unique_counts"
   ]
  },
  {
   "cell_type": "code",
   "execution_count": 95,
   "id": "da0b963b",
   "metadata": {},
   "outputs": [
    {
     "data": {
      "text/plain": [
       "unknown    45484\n",
       "1           2157\n",
       "0           1160\n",
       "Name: meansofcontrolexcessiveworkinghours, dtype: int64"
      ]
     },
     "execution_count": 95,
     "metadata": {},
     "output_type": "execute_result"
    }
   ],
   "source": [
    "unique_counts = data['meansofcontrolexcessiveworkinghours'].value_counts()\n",
    "unique_counts"
   ]
  },
  {
   "cell_type": "code",
   "execution_count": 96,
   "id": "1713b640",
   "metadata": {},
   "outputs": [
    {
     "data": {
      "text/plain": [
       "unknown    45484\n",
       "1           2157\n",
       "0           1160\n",
       "Name: meansofcontrolexcessiveworkinghours, dtype: int64"
      ]
     },
     "execution_count": 96,
     "metadata": {},
     "output_type": "execute_result"
    }
   ],
   "source": [
    "unique_counts = data['meansofcontrolexcessiveworkinghours'].value_counts()\n",
    "unique_counts"
   ]
  },
  {
   "cell_type": "code",
   "execution_count": 97,
   "id": "50116494",
   "metadata": {},
   "outputs": [
    {
     "data": {
      "text/plain": [
       "unknown    44961\n",
       "1           2756\n",
       "0           1084\n",
       "Name: meansofcontrolfalsepromises, dtype: int64"
      ]
     },
     "execution_count": 97,
     "metadata": {},
     "output_type": "execute_result"
    }
   ],
   "source": [
    "unique_counts = data['meansofcontrolfalsepromises'].value_counts()\n",
    "unique_counts"
   ]
  },
  {
   "cell_type": "code",
   "execution_count": 98,
   "id": "79ca5fac",
   "metadata": {},
   "outputs": [
    {
     "data": {
      "text/plain": [
       "1          26620\n",
       "unknown    11944\n",
       "0          10237\n",
       "Name: meansofcontrolnotspecified, dtype: int64"
      ]
     },
     "execution_count": 98,
     "metadata": {},
     "output_type": "execute_result"
    }
   ],
   "source": [
    "unique_counts = data['meansofcontrolnotspecified'].value_counts()\n",
    "unique_counts"
   ]
  },
  {
   "cell_type": "code",
   "execution_count": 99,
   "id": "5b5a9c1a",
   "metadata": {},
   "outputs": [
    {
     "data": {
      "text/plain": [
       "unknown    45701\n",
       "1           1873\n",
       "0           1227\n",
       "Name: meansofcontrolother, dtype: int64"
      ]
     },
     "execution_count": 99,
     "metadata": {},
     "output_type": "execute_result"
    }
   ],
   "source": [
    "unique_counts = data['meansofcontrolother'].value_counts()\n",
    "unique_counts"
   ]
  },
  {
   "cell_type": "code",
   "execution_count": 100,
   "id": "7d137f3f",
   "metadata": {},
   "outputs": [
    {
     "data": {
      "text/plain": [
       "unknown    43952\n",
       "1           3632\n",
       "0           1217\n",
       "Name: meansofcontrolphysicalabuse, dtype: int64"
      ]
     },
     "execution_count": 100,
     "metadata": {},
     "output_type": "execute_result"
    }
   ],
   "source": [
    "unique_counts = data['meansofcontrolphysicalabuse'].value_counts()\n",
    "unique_counts"
   ]
  },
  {
   "cell_type": "code",
   "execution_count": 101,
   "id": "3bd9a9a2",
   "metadata": {},
   "outputs": [
    {
     "data": {
      "text/plain": [
       "unknown    45292\n",
       "1           2282\n",
       "0           1227\n",
       "Name: meansofcontrolpsychoactivesubstances, dtype: int64"
      ]
     },
     "execution_count": 101,
     "metadata": {},
     "output_type": "execute_result"
    }
   ],
   "source": [
    "unique_counts = data['meansofcontrolpsychoactivesubstances'].value_counts()\n",
    "unique_counts"
   ]
  },
  {
   "cell_type": "code",
   "execution_count": 102,
   "id": "da2f1a97",
   "metadata": {},
   "outputs": [
    {
     "data": {
      "text/plain": [
       "unknown    42745\n",
       "1           4845\n",
       "0           1211\n",
       "Name: meansofcontrolpsychologicalabuse, dtype: int64"
      ]
     },
     "execution_count": 102,
     "metadata": {},
     "output_type": "execute_result"
    }
   ],
   "source": [
    "unique_counts = data['meansofcontrolpsychologicalabuse'].value_counts()\n",
    "unique_counts"
   ]
  },
  {
   "cell_type": "code",
   "execution_count": 103,
   "id": "9b415b04",
   "metadata": {},
   "outputs": [
    {
     "data": {
      "text/plain": [
       "unknown    48548\n",
       "0            137\n",
       "1            116\n",
       "Name: meansofcontrolrestrictsfinancialaccess, dtype: int64"
      ]
     },
     "execution_count": 103,
     "metadata": {},
     "output_type": "execute_result"
    }
   ],
   "source": [
    "unique_counts = data['meansofcontrolrestrictsfinancialaccess'].value_counts()\n",
    "unique_counts"
   ]
  },
  {
   "cell_type": "code",
   "execution_count": 104,
   "id": "a99fcf70",
   "metadata": {},
   "outputs": [
    {
     "data": {
      "text/plain": [
       "unknown    46302\n",
       "1           1283\n",
       "0           1216\n",
       "Name: meansofcontrolrestrictsmedicalcare, dtype: int64"
      ]
     },
     "execution_count": 104,
     "metadata": {},
     "output_type": "execute_result"
    }
   ],
   "source": [
    "unique_counts = data['meansofcontrolrestrictsmedicalcare'].value_counts()\n",
    "unique_counts"
   ]
  },
  {
   "cell_type": "code",
   "execution_count": 105,
   "id": "ae640dcb",
   "metadata": {},
   "outputs": [
    {
     "data": {
      "text/plain": [
       "unknown    43181\n",
       "1           4415\n",
       "0           1205\n",
       "Name: meansofcontrolrestrictsmovement, dtype: int64"
      ]
     },
     "execution_count": 105,
     "metadata": {},
     "output_type": "execute_result"
    }
   ],
   "source": [
    "unique_counts = data['meansofcontrolrestrictsmovement'].value_counts()\n",
    "unique_counts"
   ]
  },
  {
   "cell_type": "code",
   "execution_count": 106,
   "id": "7eee0225",
   "metadata": {},
   "outputs": [
    {
     "data": {
      "text/plain": [
       "unknown    45980\n",
       "1           1594\n",
       "0           1227\n",
       "Name: meansofcontrolsexualabuse, dtype: int64"
      ]
     },
     "execution_count": 106,
     "metadata": {},
     "output_type": "execute_result"
    }
   ],
   "source": [
    "unique_counts = data['meansofcontrolsexualabuse'].value_counts()\n",
    "unique_counts"
   ]
  },
  {
   "cell_type": "code",
   "execution_count": 107,
   "id": "8831e5c3",
   "metadata": {},
   "outputs": [
    {
     "data": {
      "text/plain": [
       "unknown    44804\n",
       "1           2776\n",
       "0           1221\n",
       "Name: meansofcontroltakesearnings, dtype: int64"
      ]
     },
     "execution_count": 107,
     "metadata": {},
     "output_type": "execute_result"
    }
   ],
   "source": [
    "unique_counts = data['meansofcontroltakesearnings'].value_counts()\n",
    "unique_counts"
   ]
  },
  {
   "cell_type": "code",
   "execution_count": 108,
   "id": "f597282e",
   "metadata": {},
   "outputs": [
    {
     "data": {
      "text/plain": [
       "unknown    46793\n",
       "0           1229\n",
       "1            779\n",
       "Name: meansofcontrolthreatoflawenforcement, dtype: int64"
      ]
     },
     "execution_count": 108,
     "metadata": {},
     "output_type": "execute_result"
    }
   ],
   "source": [
    "unique_counts = data['meansofcontrolthreatoflawenforcement'].value_counts()\n",
    "unique_counts"
   ]
  },
  {
   "cell_type": "code",
   "execution_count": 109,
   "id": "01216039",
   "metadata": {},
   "outputs": [
    {
     "data": {
      "text/plain": [
       "unknown    43637\n",
       "1           3972\n",
       "0           1192\n",
       "Name: meansofcontrolthreats, dtype: int64"
      ]
     },
     "execution_count": 109,
     "metadata": {},
     "output_type": "execute_result"
    }
   ],
   "source": [
    "unique_counts = data['meansofcontrolthreats'].value_counts()\n",
    "unique_counts"
   ]
  },
  {
   "cell_type": "code",
   "execution_count": 110,
   "id": "5f51fb52",
   "metadata": {},
   "outputs": [
    {
     "data": {
      "text/plain": [
       "unknown    48650\n",
       "1            120\n",
       "0             31\n",
       "Name: meansofcontroluseschildren, dtype: int64"
      ]
     },
     "execution_count": 110,
     "metadata": {},
     "output_type": "execute_result"
    }
   ],
   "source": [
    "unique_counts = data['meansofcontroluseschildren'].value_counts()\n",
    "unique_counts"
   ]
  },
  {
   "cell_type": "code",
   "execution_count": 111,
   "id": "32564283",
   "metadata": {},
   "outputs": [
    {
     "data": {
      "text/plain": [
       "unknown    45527\n",
       "1           2076\n",
       "0           1198\n",
       "Name: meansofcontrolwithholdsdocuments, dtype: int64"
      ]
     },
     "execution_count": 111,
     "metadata": {},
     "output_type": "execute_result"
    }
   ],
   "source": [
    "unique_counts = data['meansofcontrolwithholdsdocuments'].value_counts()\n",
    "unique_counts"
   ]
  },
  {
   "cell_type": "code",
   "execution_count": 112,
   "id": "3b6fd12f",
   "metadata": {},
   "outputs": [
    {
     "data": {
      "text/plain": [
       "unknown    46217\n",
       "1           1369\n",
       "0           1215\n",
       "Name: meansofcontrolwithholdsnecessities, dtype: int64"
      ]
     },
     "execution_count": 112,
     "metadata": {},
     "output_type": "execute_result"
    }
   ],
   "source": [
    "unique_counts = data['meansofcontrolwithholdsnecessities'].value_counts()\n",
    "unique_counts"
   ]
  },
  {
   "cell_type": "code",
   "execution_count": 113,
   "id": "3da9ec6a",
   "metadata": {},
   "outputs": [
    {
     "data": {
      "text/plain": [
       "unknown                                                 30681\n",
       "Not Specified                                            8730\n",
       "Other                                                    3859\n",
       "Friend/Acquaintance                                      1992\n",
       "Family/Relative                                          1793\n",
       "Intimate Partner                                         1505\n",
       "Friend/Acquaintance; Other                                 51\n",
       "Family/Relative; Intimate Partner                          41\n",
       "Intimate Partner; Other                                    39\n",
       "Friend/Acquaintance; Intimate Partner                      28\n",
       "Not Specified; Other                                       24\n",
       "Family/Relative; Other                                     18\n",
       "Family/Relative; Friend/Acquaintance                       16\n",
       "Family/Relative; Not Specified                              8\n",
       "Intimate Partner; Not Specified                             6\n",
       "Friend/Acquaintance; Intimate Partner; Other                4\n",
       "Family/Relative; Friend/Acquaintance; Other                 2\n",
       "Friend/Acquaintance; Not Specified; Other                   1\n",
       "Friend/Acquaintance; Not Specified                          1\n",
       "Friend/Acquaintance; Intimate Partner; Not Specified        1\n",
       "Family/Relative; Intimate Partner; Other                    1\n",
       "Name: recruiterrelationship, dtype: int64"
      ]
     },
     "execution_count": 113,
     "metadata": {},
     "output_type": "execute_result"
    }
   ],
   "source": [
    "unique_counts = data['recruiterrelationship'].value_counts()\n",
    "unique_counts"
   ]
  },
  {
   "cell_type": "code",
   "execution_count": 114,
   "id": "c63080c8",
   "metadata": {},
   "outputs": [],
   "source": [
    "split=lambda x: x.split(\";\")[0]\n",
    "data['recruiterrelationship']=data['recruiterrelationship'].apply(split)"
   ]
  },
  {
   "cell_type": "code",
   "execution_count": 115,
   "id": "84327232",
   "metadata": {},
   "outputs": [
    {
     "data": {
      "text/plain": [
       "unknown                30681\n",
       "Not Specified           8754\n",
       "Other                   3859\n",
       "Friend/Acquaintance     2078\n",
       "Family/Relative         1879\n",
       "Intimate Partner        1550\n",
       "Name: recruiterrelationship, dtype: int64"
      ]
     },
     "execution_count": 115,
     "metadata": {},
     "output_type": "execute_result"
    }
   ],
   "source": [
    "unique_counts = data['recruiterrelationship'].value_counts()\n",
    "unique_counts"
   ]
  },
  {
   "cell_type": "code",
   "execution_count": 116,
   "id": "2b7ec4a6",
   "metadata": {},
   "outputs": [
    {
     "data": {
      "text/plain": [
       "1          39207\n",
       "0           9517\n",
       "unknown       77\n",
       "Name: recruiterrelationunknown, dtype: int64"
      ]
     },
     "execution_count": 116,
     "metadata": {},
     "output_type": "execute_result"
    }
   ],
   "source": [
    "unique_counts = data['recruiterrelationunknown'].value_counts()\n",
    "unique_counts"
   ]
  },
  {
   "cell_type": "code",
   "execution_count": 117,
   "id": "390449f0",
   "metadata": {},
   "outputs": [
    {
     "data": {
      "text/plain": [
       "unknown                                                                      16174\n",
       "Sexual exploitation                                                          15989\n",
       "Forced labour                                                                 8969\n",
       "Other                                                                         7063\n",
       "Slavery and similar practices                                                  359\n",
       "Forced marriage                                                                168\n",
       "Forced labour;Sexual exploitation;Combined sexual and labour exploitation       78\n",
       "Forced labour;Other                                                              1\n",
       "Name: typeofexploitconcatenated, dtype: int64"
      ]
     },
     "execution_count": 117,
     "metadata": {},
     "output_type": "execute_result"
    }
   ],
   "source": [
    "unique_counts = data['typeofexploitconcatenated'].value_counts()\n",
    "unique_counts"
   ]
  },
  {
   "cell_type": "code",
   "execution_count": 118,
   "id": "d6ab7ebb",
   "metadata": {},
   "outputs": [],
   "source": [
    "split=lambda x: x.split(\";\")[0]\n",
    "data['typeofexploitconcatenated']=data['typeofexploitconcatenated'].apply(split)"
   ]
  },
  {
   "cell_type": "code",
   "execution_count": 119,
   "id": "aca0ea89",
   "metadata": {},
   "outputs": [
    {
     "data": {
      "text/plain": [
       "unknown                          16174\n",
       "Sexual exploitation              15989\n",
       "Forced labour                     9048\n",
       "Other                             7063\n",
       "Slavery and similar practices      359\n",
       "Forced marriage                    168\n",
       "Name: typeofexploitconcatenated, dtype: int64"
      ]
     },
     "execution_count": 119,
     "metadata": {},
     "output_type": "execute_result"
    }
   ],
   "source": [
    "unique_counts = data['typeofexploitconcatenated'].value_counts()\n",
    "unique_counts"
   ]
  },
  {
   "cell_type": "code",
   "execution_count": 120,
   "id": "f412a04b",
   "metadata": {},
   "outputs": [
    {
     "data": {
      "text/plain": [
       "unknown                    44212\n",
       "Prostitution                4386\n",
       "Pornography                  160\n",
       "Private sexual services       43\n",
       "Name: typeofsexconcatenated, dtype: int64"
      ]
     },
     "execution_count": 120,
     "metadata": {},
     "output_type": "execute_result"
    }
   ],
   "source": [
    "unique_counts = data['typeofsexconcatenated'].value_counts()\n",
    "unique_counts"
   ]
  },
  {
   "cell_type": "code",
   "execution_count": 121,
   "id": "28681baa",
   "metadata": {},
   "outputs": [
    {
     "data": {
      "text/plain": [
       "unknown                        42552\n",
       "Domestic work                   2721\n",
       "Construction                    1251\n",
       "Not specified                   1097\n",
       "Manufacturing                    453\n",
       "Begging                          149\n",
       "Agriculture                      149\n",
       "Aquafarming                      107\n",
       "Hospitality                       82\n",
       "Other                             77\n",
       "Peddling                          72\n",
       "Other;Not specified               62\n",
       "Domestic work;Other               22\n",
       "Construction;Not specified         3\n",
       "Agriculture;Not specified          3\n",
       "Domestic work;Not specified        1\n",
       "Name: typeoflabourconcatenated, dtype: int64"
      ]
     },
     "execution_count": 121,
     "metadata": {},
     "output_type": "execute_result"
    }
   ],
   "source": [
    "unique_counts = data['typeoflabourconcatenated'].value_counts()\n",
    "unique_counts"
   ]
  },
  {
   "cell_type": "code",
   "execution_count": 122,
   "id": "7f305ec5",
   "metadata": {},
   "outputs": [
    {
     "data": {
      "text/plain": [
       "'Other'"
      ]
     },
     "execution_count": 122,
     "metadata": {},
     "output_type": "execute_result"
    }
   ],
   "source": [
    "\"Other;Not specified\".split(\";\")[0]"
   ]
  },
  {
   "cell_type": "code",
   "execution_count": 123,
   "id": "f7571777",
   "metadata": {},
   "outputs": [],
   "source": [
    "split=lambda x: x.split(\";\")[0]\n",
    "data['typeoflabourconcatenated']=data['typeoflabourconcatenated'].apply(split)"
   ]
  },
  {
   "cell_type": "code",
   "execution_count": 124,
   "id": "1567e88e",
   "metadata": {},
   "outputs": [
    {
     "data": {
      "text/plain": [
       "unknown          42552\n",
       "Domestic work     2744\n",
       "Construction      1254\n",
       "Not specified     1097\n",
       "Manufacturing      453\n",
       "Agriculture        152\n",
       "Begging            149\n",
       "Other              139\n",
       "Aquafarming        107\n",
       "Hospitality         82\n",
       "Peddling            72\n",
       "Name: typeoflabourconcatenated, dtype: int64"
      ]
     },
     "execution_count": 124,
     "metadata": {},
     "output_type": "execute_result"
    }
   ],
   "source": [
    "data['typeoflabourconcatenated'].value_counts()"
   ]
  },
  {
   "cell_type": "code",
   "execution_count": 125,
   "id": "f367bbf5",
   "metadata": {},
   "outputs": [
    {
     "data": {
      "text/plain": [
       "unknown                                                                                                 32281\n",
       "Not specified                                                                                            6128\n",
       "Psychological abuse                                                                                       762\n",
       "Restricts movement                                                                                        504\n",
       "Psychoactive substances                                                                                   455\n",
       "                                                                                                        ...  \n",
       "Takes earnings;Threats;Restricts movement;Excessive working hours                                           1\n",
       "Threats;Psychological abuse;Physical abuse;Sexual abuse;Restricts medical care;Withholds necessities        1\n",
       "Takes earnings;False promises;Withholds necessities                                                         1\n",
       "Debt bondage;Psychological abuse;Physical abuse;False promises                                              1\n",
       "Threats;Psychological abuse;Physical abuse;Sexual abuse;False promises;Restricts movement                   1\n",
       "Name: meansofcontrolconcatenated, Length: 1862, dtype: int64"
      ]
     },
     "execution_count": 125,
     "metadata": {},
     "output_type": "execute_result"
    }
   ],
   "source": [
    "unique_counts = data['meansofcontrolconcatenated'].value_counts()\n",
    "unique_counts"
   ]
  },
  {
   "cell_type": "code",
   "execution_count": 126,
   "id": "f9e3a265",
   "metadata": {},
   "outputs": [],
   "source": [
    "split=lambda x: x.split(\";\")[0]\n",
    "data['meansofcontrolconcatenated']=data['meansofcontrolconcatenated'].apply(split)"
   ]
  },
  {
   "cell_type": "code",
   "execution_count": 127,
   "id": "9c717a55",
   "metadata": {},
   "outputs": [
    {
     "data": {
      "text/plain": [
       "unknown                       32281\n",
       "Not specified                  6128\n",
       "Threats                        1841\n",
       "Psychological abuse            1773\n",
       "Excessive working hours        1343\n",
       "Debt bondage                   1299\n",
       "Takes earnings                  711\n",
       "Physical abuse                  673\n",
       "Psychoactive substances         665\n",
       "Restricts movement              651\n",
       "False promises                  549\n",
       "Sexual abuse                    354\n",
       "Other                           263\n",
       "Physical Abuse                  130\n",
       "Restricts financial access       60\n",
       "Withholds necessities            40\n",
       "Withholds documents              25\n",
       "Uses children                     8\n",
       "Threat of law enforcement         4\n",
       "Restricts medical care            3\n",
       "Name: meansofcontrolconcatenated, dtype: int64"
      ]
     },
     "execution_count": 127,
     "metadata": {},
     "output_type": "execute_result"
    }
   ],
   "source": [
    "data['meansofcontrolconcatenated'].value_counts()"
   ]
  },
  {
   "cell_type": "code",
   "execution_count": 128,
   "id": "1d12c726",
   "metadata": {},
   "outputs": [
    {
     "data": {
      "text/plain": [
       "2016    16399\n",
       "2017     6508\n",
       "2018     5818\n",
       "2015     4276\n",
       "2014     3000\n",
       "2013     1832\n",
       "2005     1455\n",
       "2006     1423\n",
       "2007     1417\n",
       "2012     1367\n",
       "2011     1340\n",
       "2002     1026\n",
       "2010      943\n",
       "2008      802\n",
       "2009      587\n",
       "2003      357\n",
       "2004      223\n",
       "2019       28\n",
       "Name: yearofregistration, dtype: int64"
      ]
     },
     "execution_count": 128,
     "metadata": {},
     "output_type": "execute_result"
    }
   ],
   "source": [
    "unique_counts = data['yearofregistration'].value_counts()\n",
    "unique_counts"
   ]
  },
  {
   "cell_type": "code",
   "execution_count": 129,
   "id": "d909ae03",
   "metadata": {},
   "outputs": [
    {
     "data": {
      "text/html": [
       "<div>\n",
       "<style scoped>\n",
       "    .dataframe tbody tr th:only-of-type {\n",
       "        vertical-align: middle;\n",
       "    }\n",
       "\n",
       "    .dataframe tbody tr th {\n",
       "        vertical-align: top;\n",
       "    }\n",
       "\n",
       "    .dataframe thead th {\n",
       "        text-align: right;\n",
       "    }\n",
       "</style>\n",
       "<table border=\"1\" class=\"dataframe\">\n",
       "  <thead>\n",
       "    <tr style=\"text-align: right;\">\n",
       "      <th></th>\n",
       "      <th>yearofregistration</th>\n",
       "      <th>gender</th>\n",
       "      <th>agebroad</th>\n",
       "      <th>majoritystatus</th>\n",
       "      <th>majorityentry</th>\n",
       "      <th>citizenship</th>\n",
       "      <th>meansofcontroldebtbondage</th>\n",
       "      <th>meansofcontroltakesearnings</th>\n",
       "      <th>meansofcontrolrestrictsfinancialaccess</th>\n",
       "      <th>meansofcontrolthreats</th>\n",
       "      <th>...</th>\n",
       "      <th>meansofcontrolnotspecified</th>\n",
       "      <th>meansofcontrolconcatenated</th>\n",
       "      <th>isorganremoval</th>\n",
       "      <th>typeofexploitconcatenated</th>\n",
       "      <th>typeoflabourconcatenated</th>\n",
       "      <th>typeofsexconcatenated</th>\n",
       "      <th>isabduction</th>\n",
       "      <th>recruiterrelationship</th>\n",
       "      <th>countryofexploitation</th>\n",
       "      <th>recruiterrelationunknown</th>\n",
       "    </tr>\n",
       "  </thead>\n",
       "  <tbody>\n",
       "    <tr>\n",
       "      <th>0</th>\n",
       "      <td>2002</td>\n",
       "      <td>Female</td>\n",
       "      <td>18--20</td>\n",
       "      <td>Adult</td>\n",
       "      <td>unknown</td>\n",
       "      <td>CO</td>\n",
       "      <td>unknown</td>\n",
       "      <td>unknown</td>\n",
       "      <td>unknown</td>\n",
       "      <td>unknown</td>\n",
       "      <td>...</td>\n",
       "      <td>1</td>\n",
       "      <td>unknown</td>\n",
       "      <td>0</td>\n",
       "      <td>Sexual exploitation</td>\n",
       "      <td>unknown</td>\n",
       "      <td>unknown</td>\n",
       "      <td>unknown</td>\n",
       "      <td>unknown</td>\n",
       "      <td>unknown</td>\n",
       "      <td>1</td>\n",
       "    </tr>\n",
       "    <tr>\n",
       "      <th>1</th>\n",
       "      <td>2002</td>\n",
       "      <td>Female</td>\n",
       "      <td>18--20</td>\n",
       "      <td>Adult</td>\n",
       "      <td>unknown</td>\n",
       "      <td>CO</td>\n",
       "      <td>unknown</td>\n",
       "      <td>unknown</td>\n",
       "      <td>unknown</td>\n",
       "      <td>unknown</td>\n",
       "      <td>...</td>\n",
       "      <td>1</td>\n",
       "      <td>unknown</td>\n",
       "      <td>0</td>\n",
       "      <td>Sexual exploitation</td>\n",
       "      <td>unknown</td>\n",
       "      <td>unknown</td>\n",
       "      <td>unknown</td>\n",
       "      <td>unknown</td>\n",
       "      <td>unknown</td>\n",
       "      <td>1</td>\n",
       "    </tr>\n",
       "    <tr>\n",
       "      <th>2</th>\n",
       "      <td>2002</td>\n",
       "      <td>Female</td>\n",
       "      <td>18--20</td>\n",
       "      <td>Adult</td>\n",
       "      <td>unknown</td>\n",
       "      <td>CO</td>\n",
       "      <td>unknown</td>\n",
       "      <td>unknown</td>\n",
       "      <td>unknown</td>\n",
       "      <td>unknown</td>\n",
       "      <td>...</td>\n",
       "      <td>1</td>\n",
       "      <td>unknown</td>\n",
       "      <td>0</td>\n",
       "      <td>Sexual exploitation</td>\n",
       "      <td>unknown</td>\n",
       "      <td>unknown</td>\n",
       "      <td>unknown</td>\n",
       "      <td>unknown</td>\n",
       "      <td>unknown</td>\n",
       "      <td>1</td>\n",
       "    </tr>\n",
       "    <tr>\n",
       "      <th>3</th>\n",
       "      <td>2002</td>\n",
       "      <td>Female</td>\n",
       "      <td>18--20</td>\n",
       "      <td>Adult</td>\n",
       "      <td>unknown</td>\n",
       "      <td>CO</td>\n",
       "      <td>unknown</td>\n",
       "      <td>unknown</td>\n",
       "      <td>unknown</td>\n",
       "      <td>unknown</td>\n",
       "      <td>...</td>\n",
       "      <td>1</td>\n",
       "      <td>unknown</td>\n",
       "      <td>0</td>\n",
       "      <td>Sexual exploitation</td>\n",
       "      <td>unknown</td>\n",
       "      <td>unknown</td>\n",
       "      <td>unknown</td>\n",
       "      <td>unknown</td>\n",
       "      <td>unknown</td>\n",
       "      <td>1</td>\n",
       "    </tr>\n",
       "    <tr>\n",
       "      <th>4</th>\n",
       "      <td>2002</td>\n",
       "      <td>Female</td>\n",
       "      <td>18--20</td>\n",
       "      <td>Adult</td>\n",
       "      <td>unknown</td>\n",
       "      <td>CO</td>\n",
       "      <td>unknown</td>\n",
       "      <td>unknown</td>\n",
       "      <td>unknown</td>\n",
       "      <td>unknown</td>\n",
       "      <td>...</td>\n",
       "      <td>1</td>\n",
       "      <td>unknown</td>\n",
       "      <td>0</td>\n",
       "      <td>Sexual exploitation</td>\n",
       "      <td>unknown</td>\n",
       "      <td>unknown</td>\n",
       "      <td>unknown</td>\n",
       "      <td>unknown</td>\n",
       "      <td>unknown</td>\n",
       "      <td>1</td>\n",
       "    </tr>\n",
       "    <tr>\n",
       "      <th>...</th>\n",
       "      <td>...</td>\n",
       "      <td>...</td>\n",
       "      <td>...</td>\n",
       "      <td>...</td>\n",
       "      <td>...</td>\n",
       "      <td>...</td>\n",
       "      <td>...</td>\n",
       "      <td>...</td>\n",
       "      <td>...</td>\n",
       "      <td>...</td>\n",
       "      <td>...</td>\n",
       "      <td>...</td>\n",
       "      <td>...</td>\n",
       "      <td>...</td>\n",
       "      <td>...</td>\n",
       "      <td>...</td>\n",
       "      <td>...</td>\n",
       "      <td>...</td>\n",
       "      <td>...</td>\n",
       "      <td>...</td>\n",
       "      <td>...</td>\n",
       "    </tr>\n",
       "    <tr>\n",
       "      <th>48796</th>\n",
       "      <td>2019</td>\n",
       "      <td>Female</td>\n",
       "      <td>unknown</td>\n",
       "      <td>unknown</td>\n",
       "      <td>unknown</td>\n",
       "      <td>UG</td>\n",
       "      <td>0</td>\n",
       "      <td>0</td>\n",
       "      <td>0</td>\n",
       "      <td>0</td>\n",
       "      <td>...</td>\n",
       "      <td>1</td>\n",
       "      <td>Not specified</td>\n",
       "      <td>0</td>\n",
       "      <td>Sexual exploitation</td>\n",
       "      <td>unknown</td>\n",
       "      <td>unknown</td>\n",
       "      <td>0</td>\n",
       "      <td>unknown</td>\n",
       "      <td>UG</td>\n",
       "      <td>unknown</td>\n",
       "    </tr>\n",
       "    <tr>\n",
       "      <th>48797</th>\n",
       "      <td>2019</td>\n",
       "      <td>Female</td>\n",
       "      <td>unknown</td>\n",
       "      <td>unknown</td>\n",
       "      <td>unknown</td>\n",
       "      <td>UG</td>\n",
       "      <td>0</td>\n",
       "      <td>0</td>\n",
       "      <td>0</td>\n",
       "      <td>0</td>\n",
       "      <td>...</td>\n",
       "      <td>1</td>\n",
       "      <td>Not specified</td>\n",
       "      <td>0</td>\n",
       "      <td>Sexual exploitation</td>\n",
       "      <td>unknown</td>\n",
       "      <td>unknown</td>\n",
       "      <td>0</td>\n",
       "      <td>unknown</td>\n",
       "      <td>UG</td>\n",
       "      <td>unknown</td>\n",
       "    </tr>\n",
       "    <tr>\n",
       "      <th>48798</th>\n",
       "      <td>2019</td>\n",
       "      <td>Female</td>\n",
       "      <td>unknown</td>\n",
       "      <td>unknown</td>\n",
       "      <td>unknown</td>\n",
       "      <td>UG</td>\n",
       "      <td>0</td>\n",
       "      <td>0</td>\n",
       "      <td>0</td>\n",
       "      <td>0</td>\n",
       "      <td>...</td>\n",
       "      <td>1</td>\n",
       "      <td>Not specified</td>\n",
       "      <td>0</td>\n",
       "      <td>Sexual exploitation</td>\n",
       "      <td>unknown</td>\n",
       "      <td>unknown</td>\n",
       "      <td>0</td>\n",
       "      <td>unknown</td>\n",
       "      <td>UG</td>\n",
       "      <td>unknown</td>\n",
       "    </tr>\n",
       "    <tr>\n",
       "      <th>48799</th>\n",
       "      <td>2019</td>\n",
       "      <td>Female</td>\n",
       "      <td>unknown</td>\n",
       "      <td>unknown</td>\n",
       "      <td>unknown</td>\n",
       "      <td>UG</td>\n",
       "      <td>0</td>\n",
       "      <td>0</td>\n",
       "      <td>0</td>\n",
       "      <td>0</td>\n",
       "      <td>...</td>\n",
       "      <td>1</td>\n",
       "      <td>Not specified</td>\n",
       "      <td>0</td>\n",
       "      <td>Sexual exploitation</td>\n",
       "      <td>unknown</td>\n",
       "      <td>unknown</td>\n",
       "      <td>0</td>\n",
       "      <td>unknown</td>\n",
       "      <td>UG</td>\n",
       "      <td>unknown</td>\n",
       "    </tr>\n",
       "    <tr>\n",
       "      <th>48800</th>\n",
       "      <td>2019</td>\n",
       "      <td>Female</td>\n",
       "      <td>unknown</td>\n",
       "      <td>unknown</td>\n",
       "      <td>unknown</td>\n",
       "      <td>UG</td>\n",
       "      <td>0</td>\n",
       "      <td>0</td>\n",
       "      <td>0</td>\n",
       "      <td>0</td>\n",
       "      <td>...</td>\n",
       "      <td>1</td>\n",
       "      <td>Not specified</td>\n",
       "      <td>0</td>\n",
       "      <td>Sexual exploitation</td>\n",
       "      <td>unknown</td>\n",
       "      <td>unknown</td>\n",
       "      <td>0</td>\n",
       "      <td>unknown</td>\n",
       "      <td>UG</td>\n",
       "      <td>unknown</td>\n",
       "    </tr>\n",
       "  </tbody>\n",
       "</table>\n",
       "<p>48801 rows × 33 columns</p>\n",
       "</div>"
      ],
      "text/plain": [
       "      yearofregistration  gender agebroad majoritystatus majorityentry  \\\n",
       "0                   2002  Female   18--20          Adult       unknown   \n",
       "1                   2002  Female   18--20          Adult       unknown   \n",
       "2                   2002  Female   18--20          Adult       unknown   \n",
       "3                   2002  Female   18--20          Adult       unknown   \n",
       "4                   2002  Female   18--20          Adult       unknown   \n",
       "...                  ...     ...      ...            ...           ...   \n",
       "48796               2019  Female  unknown        unknown       unknown   \n",
       "48797               2019  Female  unknown        unknown       unknown   \n",
       "48798               2019  Female  unknown        unknown       unknown   \n",
       "48799               2019  Female  unknown        unknown       unknown   \n",
       "48800               2019  Female  unknown        unknown       unknown   \n",
       "\n",
       "      citizenship meansofcontroldebtbondage meansofcontroltakesearnings  \\\n",
       "0              CO                   unknown                     unknown   \n",
       "1              CO                   unknown                     unknown   \n",
       "2              CO                   unknown                     unknown   \n",
       "3              CO                   unknown                     unknown   \n",
       "4              CO                   unknown                     unknown   \n",
       "...           ...                       ...                         ...   \n",
       "48796          UG                         0                           0   \n",
       "48797          UG                         0                           0   \n",
       "48798          UG                         0                           0   \n",
       "48799          UG                         0                           0   \n",
       "48800          UG                         0                           0   \n",
       "\n",
       "      meansofcontrolrestrictsfinancialaccess meansofcontrolthreats  ...  \\\n",
       "0                                    unknown               unknown  ...   \n",
       "1                                    unknown               unknown  ...   \n",
       "2                                    unknown               unknown  ...   \n",
       "3                                    unknown               unknown  ...   \n",
       "4                                    unknown               unknown  ...   \n",
       "...                                      ...                   ...  ...   \n",
       "48796                                      0                     0  ...   \n",
       "48797                                      0                     0  ...   \n",
       "48798                                      0                     0  ...   \n",
       "48799                                      0                     0  ...   \n",
       "48800                                      0                     0  ...   \n",
       "\n",
       "      meansofcontrolnotspecified meansofcontrolconcatenated isorganremoval  \\\n",
       "0                              1                    unknown              0   \n",
       "1                              1                    unknown              0   \n",
       "2                              1                    unknown              0   \n",
       "3                              1                    unknown              0   \n",
       "4                              1                    unknown              0   \n",
       "...                          ...                        ...            ...   \n",
       "48796                          1              Not specified              0   \n",
       "48797                          1              Not specified              0   \n",
       "48798                          1              Not specified              0   \n",
       "48799                          1              Not specified              0   \n",
       "48800                          1              Not specified              0   \n",
       "\n",
       "      typeofexploitconcatenated typeoflabourconcatenated  \\\n",
       "0           Sexual exploitation                  unknown   \n",
       "1           Sexual exploitation                  unknown   \n",
       "2           Sexual exploitation                  unknown   \n",
       "3           Sexual exploitation                  unknown   \n",
       "4           Sexual exploitation                  unknown   \n",
       "...                         ...                      ...   \n",
       "48796       Sexual exploitation                  unknown   \n",
       "48797       Sexual exploitation                  unknown   \n",
       "48798       Sexual exploitation                  unknown   \n",
       "48799       Sexual exploitation                  unknown   \n",
       "48800       Sexual exploitation                  unknown   \n",
       "\n",
       "      typeofsexconcatenated isabduction recruiterrelationship  \\\n",
       "0                   unknown     unknown               unknown   \n",
       "1                   unknown     unknown               unknown   \n",
       "2                   unknown     unknown               unknown   \n",
       "3                   unknown     unknown               unknown   \n",
       "4                   unknown     unknown               unknown   \n",
       "...                     ...         ...                   ...   \n",
       "48796               unknown           0               unknown   \n",
       "48797               unknown           0               unknown   \n",
       "48798               unknown           0               unknown   \n",
       "48799               unknown           0               unknown   \n",
       "48800               unknown           0               unknown   \n",
       "\n",
       "      countryofexploitation recruiterrelationunknown  \n",
       "0                   unknown                        1  \n",
       "1                   unknown                        1  \n",
       "2                   unknown                        1  \n",
       "3                   unknown                        1  \n",
       "4                   unknown                        1  \n",
       "...                     ...                      ...  \n",
       "48796                    UG                  unknown  \n",
       "48797                    UG                  unknown  \n",
       "48798                    UG                  unknown  \n",
       "48799                    UG                  unknown  \n",
       "48800                    UG                  unknown  \n",
       "\n",
       "[48801 rows x 33 columns]"
      ]
     },
     "execution_count": 129,
     "metadata": {},
     "output_type": "execute_result"
    }
   ],
   "source": [
    "data"
   ]
  },
  {
   "cell_type": "code",
   "execution_count": 130,
   "id": "440232cd",
   "metadata": {},
   "outputs": [
    {
     "name": "stdout",
     "output_type": "stream",
     "text": [
      "<class 'pandas.core.frame.DataFrame'>\n",
      "RangeIndex: 48801 entries, 0 to 48800\n",
      "Data columns (total 33 columns):\n",
      " #   Column                                  Non-Null Count  Dtype \n",
      "---  ------                                  --------------  ----- \n",
      " 0   yearofregistration                      48801 non-null  object\n",
      " 1   gender                                  48801 non-null  object\n",
      " 2   agebroad                                48801 non-null  object\n",
      " 3   majoritystatus                          48801 non-null  object\n",
      " 4   majorityentry                           48801 non-null  object\n",
      " 5   citizenship                             48801 non-null  object\n",
      " 6   meansofcontroldebtbondage               48801 non-null  object\n",
      " 7   meansofcontroltakesearnings             48801 non-null  object\n",
      " 8   meansofcontrolrestrictsfinancialaccess  48801 non-null  object\n",
      " 9   meansofcontrolthreats                   48801 non-null  object\n",
      " 10  meansofcontrolpsychologicalabuse        48801 non-null  object\n",
      " 11  meansofcontrolphysicalabuse             48801 non-null  object\n",
      " 12  meansofcontrolsexualabuse               48801 non-null  object\n",
      " 13  meansofcontrolfalsepromises             48801 non-null  object\n",
      " 14  meansofcontrolpsychoactivesubstances    48801 non-null  object\n",
      " 15  meansofcontrolrestrictsmovement         48801 non-null  object\n",
      " 16  meansofcontrolrestrictsmedicalcare      48801 non-null  object\n",
      " 17  meansofcontrolexcessiveworkinghours     48801 non-null  object\n",
      " 18  meansofcontroluseschildren              48801 non-null  object\n",
      " 19  meansofcontrolthreatoflawenforcement    48801 non-null  object\n",
      " 20  meansofcontrolwithholdsnecessities      48801 non-null  object\n",
      " 21  meansofcontrolwithholdsdocuments        48801 non-null  object\n",
      " 22  meansofcontrolother                     48801 non-null  object\n",
      " 23  meansofcontrolnotspecified              48801 non-null  object\n",
      " 24  meansofcontrolconcatenated              48801 non-null  object\n",
      " 25  isorganremoval                          48801 non-null  object\n",
      " 26  typeofexploitconcatenated               48801 non-null  object\n",
      " 27  typeoflabourconcatenated                48801 non-null  object\n",
      " 28  typeofsexconcatenated                   48801 non-null  object\n",
      " 29  isabduction                             48801 non-null  object\n",
      " 30  recruiterrelationship                   48801 non-null  object\n",
      " 31  countryofexploitation                   48801 non-null  object\n",
      " 32  recruiterrelationunknown                48801 non-null  object\n",
      "dtypes: object(33)\n",
      "memory usage: 12.3+ MB\n"
     ]
    }
   ],
   "source": [
    "data.info()\n"
   ]
  },
  {
   "cell_type": "code",
   "execution_count": 131,
   "id": "79d7ef3a",
   "metadata": {},
   "outputs": [],
   "source": [
    "data=data.astype(str)"
   ]
  },
  {
   "cell_type": "code",
   "execution_count": 132,
   "id": "64220c2e",
   "metadata": {},
   "outputs": [
    {
     "data": {
      "text/plain": [
       "0"
      ]
     },
     "execution_count": 132,
     "metadata": {},
     "output_type": "execute_result"
    }
   ],
   "source": [
    "data.isna().sum().sum()"
   ]
  },
  {
   "cell_type": "code",
   "execution_count": 133,
   "id": "2b5dc521",
   "metadata": {},
   "outputs": [
    {
     "data": {
      "text/html": [
       "<div>\n",
       "<style scoped>\n",
       "    .dataframe tbody tr th:only-of-type {\n",
       "        vertical-align: middle;\n",
       "    }\n",
       "\n",
       "    .dataframe tbody tr th {\n",
       "        vertical-align: top;\n",
       "    }\n",
       "\n",
       "    .dataframe thead th {\n",
       "        text-align: right;\n",
       "    }\n",
       "</style>\n",
       "<table border=\"1\" class=\"dataframe\">\n",
       "  <thead>\n",
       "    <tr style=\"text-align: right;\">\n",
       "      <th></th>\n",
       "      <th>count</th>\n",
       "      <th>unique</th>\n",
       "      <th>top</th>\n",
       "      <th>freq</th>\n",
       "    </tr>\n",
       "  </thead>\n",
       "  <tbody>\n",
       "    <tr>\n",
       "      <th>yearofregistration</th>\n",
       "      <td>48801</td>\n",
       "      <td>18</td>\n",
       "      <td>2016</td>\n",
       "      <td>16399</td>\n",
       "    </tr>\n",
       "    <tr>\n",
       "      <th>gender</th>\n",
       "      <td>48801</td>\n",
       "      <td>2</td>\n",
       "      <td>Female</td>\n",
       "      <td>35534</td>\n",
       "    </tr>\n",
       "    <tr>\n",
       "      <th>agebroad</th>\n",
       "      <td>48801</td>\n",
       "      <td>10</td>\n",
       "      <td>unknown</td>\n",
       "      <td>12362</td>\n",
       "    </tr>\n",
       "    <tr>\n",
       "      <th>majoritystatus</th>\n",
       "      <td>48801</td>\n",
       "      <td>3</td>\n",
       "      <td>Adult</td>\n",
       "      <td>26238</td>\n",
       "    </tr>\n",
       "    <tr>\n",
       "      <th>majorityentry</th>\n",
       "      <td>48801</td>\n",
       "      <td>3</td>\n",
       "      <td>unknown</td>\n",
       "      <td>42310</td>\n",
       "    </tr>\n",
       "    <tr>\n",
       "      <th>citizenship</th>\n",
       "      <td>48801</td>\n",
       "      <td>46</td>\n",
       "      <td>PH</td>\n",
       "      <td>11365</td>\n",
       "    </tr>\n",
       "    <tr>\n",
       "      <th>meansofcontroldebtbondage</th>\n",
       "      <td>48801</td>\n",
       "      <td>3</td>\n",
       "      <td>unknown</td>\n",
       "      <td>46305</td>\n",
       "    </tr>\n",
       "    <tr>\n",
       "      <th>meansofcontroltakesearnings</th>\n",
       "      <td>48801</td>\n",
       "      <td>3</td>\n",
       "      <td>unknown</td>\n",
       "      <td>44804</td>\n",
       "    </tr>\n",
       "    <tr>\n",
       "      <th>meansofcontrolrestrictsfinancialaccess</th>\n",
       "      <td>48801</td>\n",
       "      <td>3</td>\n",
       "      <td>unknown</td>\n",
       "      <td>48548</td>\n",
       "    </tr>\n",
       "    <tr>\n",
       "      <th>meansofcontrolthreats</th>\n",
       "      <td>48801</td>\n",
       "      <td>3</td>\n",
       "      <td>unknown</td>\n",
       "      <td>43637</td>\n",
       "    </tr>\n",
       "    <tr>\n",
       "      <th>meansofcontrolpsychologicalabuse</th>\n",
       "      <td>48801</td>\n",
       "      <td>3</td>\n",
       "      <td>unknown</td>\n",
       "      <td>42745</td>\n",
       "    </tr>\n",
       "    <tr>\n",
       "      <th>meansofcontrolphysicalabuse</th>\n",
       "      <td>48801</td>\n",
       "      <td>3</td>\n",
       "      <td>unknown</td>\n",
       "      <td>43952</td>\n",
       "    </tr>\n",
       "    <tr>\n",
       "      <th>meansofcontrolsexualabuse</th>\n",
       "      <td>48801</td>\n",
       "      <td>3</td>\n",
       "      <td>unknown</td>\n",
       "      <td>45980</td>\n",
       "    </tr>\n",
       "    <tr>\n",
       "      <th>meansofcontrolfalsepromises</th>\n",
       "      <td>48801</td>\n",
       "      <td>3</td>\n",
       "      <td>unknown</td>\n",
       "      <td>44961</td>\n",
       "    </tr>\n",
       "    <tr>\n",
       "      <th>meansofcontrolpsychoactivesubstances</th>\n",
       "      <td>48801</td>\n",
       "      <td>3</td>\n",
       "      <td>unknown</td>\n",
       "      <td>45292</td>\n",
       "    </tr>\n",
       "    <tr>\n",
       "      <th>meansofcontrolrestrictsmovement</th>\n",
       "      <td>48801</td>\n",
       "      <td>3</td>\n",
       "      <td>unknown</td>\n",
       "      <td>43181</td>\n",
       "    </tr>\n",
       "    <tr>\n",
       "      <th>meansofcontrolrestrictsmedicalcare</th>\n",
       "      <td>48801</td>\n",
       "      <td>3</td>\n",
       "      <td>unknown</td>\n",
       "      <td>46302</td>\n",
       "    </tr>\n",
       "    <tr>\n",
       "      <th>meansofcontrolexcessiveworkinghours</th>\n",
       "      <td>48801</td>\n",
       "      <td>3</td>\n",
       "      <td>unknown</td>\n",
       "      <td>45484</td>\n",
       "    </tr>\n",
       "    <tr>\n",
       "      <th>meansofcontroluseschildren</th>\n",
       "      <td>48801</td>\n",
       "      <td>3</td>\n",
       "      <td>unknown</td>\n",
       "      <td>48650</td>\n",
       "    </tr>\n",
       "    <tr>\n",
       "      <th>meansofcontrolthreatoflawenforcement</th>\n",
       "      <td>48801</td>\n",
       "      <td>3</td>\n",
       "      <td>unknown</td>\n",
       "      <td>46793</td>\n",
       "    </tr>\n",
       "    <tr>\n",
       "      <th>meansofcontrolwithholdsnecessities</th>\n",
       "      <td>48801</td>\n",
       "      <td>3</td>\n",
       "      <td>unknown</td>\n",
       "      <td>46217</td>\n",
       "    </tr>\n",
       "    <tr>\n",
       "      <th>meansofcontrolwithholdsdocuments</th>\n",
       "      <td>48801</td>\n",
       "      <td>3</td>\n",
       "      <td>unknown</td>\n",
       "      <td>45527</td>\n",
       "    </tr>\n",
       "    <tr>\n",
       "      <th>meansofcontrolother</th>\n",
       "      <td>48801</td>\n",
       "      <td>3</td>\n",
       "      <td>unknown</td>\n",
       "      <td>45701</td>\n",
       "    </tr>\n",
       "    <tr>\n",
       "      <th>meansofcontrolnotspecified</th>\n",
       "      <td>48801</td>\n",
       "      <td>3</td>\n",
       "      <td>1</td>\n",
       "      <td>26620</td>\n",
       "    </tr>\n",
       "    <tr>\n",
       "      <th>meansofcontrolconcatenated</th>\n",
       "      <td>48801</td>\n",
       "      <td>20</td>\n",
       "      <td>unknown</td>\n",
       "      <td>32281</td>\n",
       "    </tr>\n",
       "    <tr>\n",
       "      <th>isorganremoval</th>\n",
       "      <td>48801</td>\n",
       "      <td>2</td>\n",
       "      <td>unknown</td>\n",
       "      <td>37351</td>\n",
       "    </tr>\n",
       "    <tr>\n",
       "      <th>typeofexploitconcatenated</th>\n",
       "      <td>48801</td>\n",
       "      <td>6</td>\n",
       "      <td>unknown</td>\n",
       "      <td>16174</td>\n",
       "    </tr>\n",
       "    <tr>\n",
       "      <th>typeoflabourconcatenated</th>\n",
       "      <td>48801</td>\n",
       "      <td>11</td>\n",
       "      <td>unknown</td>\n",
       "      <td>42552</td>\n",
       "    </tr>\n",
       "    <tr>\n",
       "      <th>typeofsexconcatenated</th>\n",
       "      <td>48801</td>\n",
       "      <td>4</td>\n",
       "      <td>unknown</td>\n",
       "      <td>44212</td>\n",
       "    </tr>\n",
       "    <tr>\n",
       "      <th>isabduction</th>\n",
       "      <td>48801</td>\n",
       "      <td>3</td>\n",
       "      <td>unknown</td>\n",
       "      <td>32430</td>\n",
       "    </tr>\n",
       "    <tr>\n",
       "      <th>recruiterrelationship</th>\n",
       "      <td>48801</td>\n",
       "      <td>6</td>\n",
       "      <td>unknown</td>\n",
       "      <td>30681</td>\n",
       "    </tr>\n",
       "    <tr>\n",
       "      <th>countryofexploitation</th>\n",
       "      <td>48801</td>\n",
       "      <td>60</td>\n",
       "      <td>US</td>\n",
       "      <td>12512</td>\n",
       "    </tr>\n",
       "    <tr>\n",
       "      <th>recruiterrelationunknown</th>\n",
       "      <td>48801</td>\n",
       "      <td>3</td>\n",
       "      <td>1</td>\n",
       "      <td>39207</td>\n",
       "    </tr>\n",
       "  </tbody>\n",
       "</table>\n",
       "</div>"
      ],
      "text/plain": [
       "                                        count unique      top   freq\n",
       "yearofregistration                      48801     18     2016  16399\n",
       "gender                                  48801      2   Female  35534\n",
       "agebroad                                48801     10  unknown  12362\n",
       "majoritystatus                          48801      3    Adult  26238\n",
       "majorityentry                           48801      3  unknown  42310\n",
       "citizenship                             48801     46       PH  11365\n",
       "meansofcontroldebtbondage               48801      3  unknown  46305\n",
       "meansofcontroltakesearnings             48801      3  unknown  44804\n",
       "meansofcontrolrestrictsfinancialaccess  48801      3  unknown  48548\n",
       "meansofcontrolthreats                   48801      3  unknown  43637\n",
       "meansofcontrolpsychologicalabuse        48801      3  unknown  42745\n",
       "meansofcontrolphysicalabuse             48801      3  unknown  43952\n",
       "meansofcontrolsexualabuse               48801      3  unknown  45980\n",
       "meansofcontrolfalsepromises             48801      3  unknown  44961\n",
       "meansofcontrolpsychoactivesubstances    48801      3  unknown  45292\n",
       "meansofcontrolrestrictsmovement         48801      3  unknown  43181\n",
       "meansofcontrolrestrictsmedicalcare      48801      3  unknown  46302\n",
       "meansofcontrolexcessiveworkinghours     48801      3  unknown  45484\n",
       "meansofcontroluseschildren              48801      3  unknown  48650\n",
       "meansofcontrolthreatoflawenforcement    48801      3  unknown  46793\n",
       "meansofcontrolwithholdsnecessities      48801      3  unknown  46217\n",
       "meansofcontrolwithholdsdocuments        48801      3  unknown  45527\n",
       "meansofcontrolother                     48801      3  unknown  45701\n",
       "meansofcontrolnotspecified              48801      3        1  26620\n",
       "meansofcontrolconcatenated              48801     20  unknown  32281\n",
       "isorganremoval                          48801      2  unknown  37351\n",
       "typeofexploitconcatenated               48801      6  unknown  16174\n",
       "typeoflabourconcatenated                48801     11  unknown  42552\n",
       "typeofsexconcatenated                   48801      4  unknown  44212\n",
       "isabduction                             48801      3  unknown  32430\n",
       "recruiterrelationship                   48801      6  unknown  30681\n",
       "countryofexploitation                   48801     60       US  12512\n",
       "recruiterrelationunknown                48801      3        1  39207"
      ]
     },
     "execution_count": 133,
     "metadata": {},
     "output_type": "execute_result"
    }
   ],
   "source": [
    "data.describe().T"
   ]
  },
  {
   "cell_type": "markdown",
   "id": "9a0e2fc9",
   "metadata": {},
   "source": [
    "One hot enconding"
   ]
  },
  {
   "cell_type": "code",
   "execution_count": 134,
   "id": "f8ea6023",
   "metadata": {},
   "outputs": [],
   "source": [
    "y = data['gender']\n",
    "X = data.drop(['gender'], axis=1)"
   ]
  },
  {
   "cell_type": "code",
   "execution_count": 135,
   "id": "81f514ce",
   "metadata": {},
   "outputs": [],
   "source": [
    "from sklearn.model_selection import train_test_split\n",
    "X_train, X_test, y_train, y_test = train_test_split(X, y, test_size=0.2, random_state=42)"
   ]
  },
  {
   "cell_type": "code",
   "execution_count": 136,
   "id": "ecefd228",
   "metadata": {},
   "outputs": [
    {
     "name": "stdout",
     "output_type": "stream",
     "text": [
      "(39040, 32)\n",
      "(9761, 32)\n",
      "(39040,)\n",
      "(9761,)\n"
     ]
    }
   ],
   "source": [
    "print(X_train.shape)\n",
    "print(X_test.shape)\n",
    "print(y_train.shape)\n",
    "print(y_test.shape)"
   ]
  },
  {
   "cell_type": "code",
   "execution_count": 137,
   "id": "3dae84dd",
   "metadata": {},
   "outputs": [
    {
     "data": {
      "text/html": [
       "<div>\n",
       "<style scoped>\n",
       "    .dataframe tbody tr th:only-of-type {\n",
       "        vertical-align: middle;\n",
       "    }\n",
       "\n",
       "    .dataframe tbody tr th {\n",
       "        vertical-align: top;\n",
       "    }\n",
       "\n",
       "    .dataframe thead th {\n",
       "        text-align: right;\n",
       "    }\n",
       "</style>\n",
       "<table border=\"1\" class=\"dataframe\">\n",
       "  <thead>\n",
       "    <tr style=\"text-align: right;\">\n",
       "      <th></th>\n",
       "      <th>yearofregistration_2003</th>\n",
       "      <th>yearofregistration_2004</th>\n",
       "      <th>yearofregistration_2005</th>\n",
       "      <th>yearofregistration_2006</th>\n",
       "      <th>yearofregistration_2007</th>\n",
       "      <th>yearofregistration_2008</th>\n",
       "      <th>yearofregistration_2009</th>\n",
       "      <th>yearofregistration_2010</th>\n",
       "      <th>yearofregistration_2011</th>\n",
       "      <th>yearofregistration_2012</th>\n",
       "      <th>...</th>\n",
       "      <th>countryofexploitation_TW</th>\n",
       "      <th>countryofexploitation_UA</th>\n",
       "      <th>countryofexploitation_UG</th>\n",
       "      <th>countryofexploitation_US</th>\n",
       "      <th>countryofexploitation_UZ</th>\n",
       "      <th>countryofexploitation_VN</th>\n",
       "      <th>countryofexploitation_ZA</th>\n",
       "      <th>countryofexploitation_unknown</th>\n",
       "      <th>recruiterrelationunknown_1</th>\n",
       "      <th>recruiterrelationunknown_unknown</th>\n",
       "    </tr>\n",
       "  </thead>\n",
       "  <tbody>\n",
       "    <tr>\n",
       "      <th>0</th>\n",
       "      <td>0.0</td>\n",
       "      <td>0.0</td>\n",
       "      <td>0.0</td>\n",
       "      <td>0.0</td>\n",
       "      <td>0.0</td>\n",
       "      <td>0.0</td>\n",
       "      <td>0.0</td>\n",
       "      <td>0.0</td>\n",
       "      <td>0.0</td>\n",
       "      <td>0.0</td>\n",
       "      <td>...</td>\n",
       "      <td>0.0</td>\n",
       "      <td>0.0</td>\n",
       "      <td>0.0</td>\n",
       "      <td>0.0</td>\n",
       "      <td>0.0</td>\n",
       "      <td>0.0</td>\n",
       "      <td>0.0</td>\n",
       "      <td>1.0</td>\n",
       "      <td>1.0</td>\n",
       "      <td>0.0</td>\n",
       "    </tr>\n",
       "    <tr>\n",
       "      <th>1</th>\n",
       "      <td>0.0</td>\n",
       "      <td>0.0</td>\n",
       "      <td>0.0</td>\n",
       "      <td>0.0</td>\n",
       "      <td>0.0</td>\n",
       "      <td>0.0</td>\n",
       "      <td>0.0</td>\n",
       "      <td>0.0</td>\n",
       "      <td>0.0</td>\n",
       "      <td>0.0</td>\n",
       "      <td>...</td>\n",
       "      <td>0.0</td>\n",
       "      <td>0.0</td>\n",
       "      <td>0.0</td>\n",
       "      <td>0.0</td>\n",
       "      <td>0.0</td>\n",
       "      <td>0.0</td>\n",
       "      <td>0.0</td>\n",
       "      <td>0.0</td>\n",
       "      <td>1.0</td>\n",
       "      <td>0.0</td>\n",
       "    </tr>\n",
       "    <tr>\n",
       "      <th>2</th>\n",
       "      <td>0.0</td>\n",
       "      <td>0.0</td>\n",
       "      <td>0.0</td>\n",
       "      <td>1.0</td>\n",
       "      <td>0.0</td>\n",
       "      <td>0.0</td>\n",
       "      <td>0.0</td>\n",
       "      <td>0.0</td>\n",
       "      <td>0.0</td>\n",
       "      <td>0.0</td>\n",
       "      <td>...</td>\n",
       "      <td>0.0</td>\n",
       "      <td>0.0</td>\n",
       "      <td>0.0</td>\n",
       "      <td>0.0</td>\n",
       "      <td>0.0</td>\n",
       "      <td>0.0</td>\n",
       "      <td>0.0</td>\n",
       "      <td>0.0</td>\n",
       "      <td>1.0</td>\n",
       "      <td>0.0</td>\n",
       "    </tr>\n",
       "    <tr>\n",
       "      <th>3</th>\n",
       "      <td>0.0</td>\n",
       "      <td>0.0</td>\n",
       "      <td>0.0</td>\n",
       "      <td>0.0</td>\n",
       "      <td>0.0</td>\n",
       "      <td>1.0</td>\n",
       "      <td>0.0</td>\n",
       "      <td>0.0</td>\n",
       "      <td>0.0</td>\n",
       "      <td>0.0</td>\n",
       "      <td>...</td>\n",
       "      <td>0.0</td>\n",
       "      <td>1.0</td>\n",
       "      <td>0.0</td>\n",
       "      <td>0.0</td>\n",
       "      <td>0.0</td>\n",
       "      <td>0.0</td>\n",
       "      <td>0.0</td>\n",
       "      <td>0.0</td>\n",
       "      <td>1.0</td>\n",
       "      <td>0.0</td>\n",
       "    </tr>\n",
       "    <tr>\n",
       "      <th>4</th>\n",
       "      <td>0.0</td>\n",
       "      <td>0.0</td>\n",
       "      <td>0.0</td>\n",
       "      <td>0.0</td>\n",
       "      <td>0.0</td>\n",
       "      <td>1.0</td>\n",
       "      <td>0.0</td>\n",
       "      <td>0.0</td>\n",
       "      <td>0.0</td>\n",
       "      <td>0.0</td>\n",
       "      <td>...</td>\n",
       "      <td>0.0</td>\n",
       "      <td>0.0</td>\n",
       "      <td>0.0</td>\n",
       "      <td>0.0</td>\n",
       "      <td>0.0</td>\n",
       "      <td>0.0</td>\n",
       "      <td>0.0</td>\n",
       "      <td>0.0</td>\n",
       "      <td>1.0</td>\n",
       "      <td>0.0</td>\n",
       "    </tr>\n",
       "  </tbody>\n",
       "</table>\n",
       "<p>5 rows × 217 columns</p>\n",
       "</div>"
      ],
      "text/plain": [
       "   yearofregistration_2003  yearofregistration_2004  yearofregistration_2005  \\\n",
       "0                      0.0                      0.0                      0.0   \n",
       "1                      0.0                      0.0                      0.0   \n",
       "2                      0.0                      0.0                      0.0   \n",
       "3                      0.0                      0.0                      0.0   \n",
       "4                      0.0                      0.0                      0.0   \n",
       "\n",
       "   yearofregistration_2006  yearofregistration_2007  yearofregistration_2008  \\\n",
       "0                      0.0                      0.0                      0.0   \n",
       "1                      0.0                      0.0                      0.0   \n",
       "2                      1.0                      0.0                      0.0   \n",
       "3                      0.0                      0.0                      1.0   \n",
       "4                      0.0                      0.0                      1.0   \n",
       "\n",
       "   yearofregistration_2009  yearofregistration_2010  yearofregistration_2011  \\\n",
       "0                      0.0                      0.0                      0.0   \n",
       "1                      0.0                      0.0                      0.0   \n",
       "2                      0.0                      0.0                      0.0   \n",
       "3                      0.0                      0.0                      0.0   \n",
       "4                      0.0                      0.0                      0.0   \n",
       "\n",
       "   yearofregistration_2012  ...  countryofexploitation_TW  \\\n",
       "0                      0.0  ...                       0.0   \n",
       "1                      0.0  ...                       0.0   \n",
       "2                      0.0  ...                       0.0   \n",
       "3                      0.0  ...                       0.0   \n",
       "4                      0.0  ...                       0.0   \n",
       "\n",
       "   countryofexploitation_UA  countryofexploitation_UG  \\\n",
       "0                       0.0                       0.0   \n",
       "1                       0.0                       0.0   \n",
       "2                       0.0                       0.0   \n",
       "3                       1.0                       0.0   \n",
       "4                       0.0                       0.0   \n",
       "\n",
       "   countryofexploitation_US  countryofexploitation_UZ  \\\n",
       "0                       0.0                       0.0   \n",
       "1                       0.0                       0.0   \n",
       "2                       0.0                       0.0   \n",
       "3                       0.0                       0.0   \n",
       "4                       0.0                       0.0   \n",
       "\n",
       "   countryofexploitation_VN  countryofexploitation_ZA  \\\n",
       "0                       0.0                       0.0   \n",
       "1                       0.0                       0.0   \n",
       "2                       0.0                       0.0   \n",
       "3                       0.0                       0.0   \n",
       "4                       0.0                       0.0   \n",
       "\n",
       "   countryofexploitation_unknown  recruiterrelationunknown_1  \\\n",
       "0                            1.0                         1.0   \n",
       "1                            0.0                         1.0   \n",
       "2                            0.0                         1.0   \n",
       "3                            0.0                         1.0   \n",
       "4                            0.0                         1.0   \n",
       "\n",
       "   recruiterrelationunknown_unknown  \n",
       "0                               0.0  \n",
       "1                               0.0  \n",
       "2                               0.0  \n",
       "3                               0.0  \n",
       "4                               0.0  \n",
       "\n",
       "[5 rows x 217 columns]"
      ]
     },
     "execution_count": 137,
     "metadata": {},
     "output_type": "execute_result"
    }
   ],
   "source": [
    "from sklearn.preprocessing import OneHotEncoder\n",
    "encoder = OneHotEncoder(drop='first').fit(X_train)\n",
    "\n",
    "cols = encoder.get_feature_names_out(input_features=X_train.columns)\n",
    "\n",
    "X_train_encode = pd.DataFrame(encoder.transform(X_train).toarray(),columns=cols)\n",
    "\n",
    "X_train_encode.head()"
   ]
  },
  {
   "cell_type": "code",
   "execution_count": 138,
   "id": "f84e981e",
   "metadata": {},
   "outputs": [
    {
     "data": {
      "text/html": [
       "<div>\n",
       "<style scoped>\n",
       "    .dataframe tbody tr th:only-of-type {\n",
       "        vertical-align: middle;\n",
       "    }\n",
       "\n",
       "    .dataframe tbody tr th {\n",
       "        vertical-align: top;\n",
       "    }\n",
       "\n",
       "    .dataframe thead th {\n",
       "        text-align: right;\n",
       "    }\n",
       "</style>\n",
       "<table border=\"1\" class=\"dataframe\">\n",
       "  <thead>\n",
       "    <tr style=\"text-align: right;\">\n",
       "      <th></th>\n",
       "      <th>yearofregistration_2003</th>\n",
       "      <th>yearofregistration_2004</th>\n",
       "      <th>yearofregistration_2005</th>\n",
       "      <th>yearofregistration_2006</th>\n",
       "      <th>yearofregistration_2007</th>\n",
       "      <th>yearofregistration_2008</th>\n",
       "      <th>yearofregistration_2009</th>\n",
       "      <th>yearofregistration_2010</th>\n",
       "      <th>yearofregistration_2011</th>\n",
       "      <th>yearofregistration_2012</th>\n",
       "      <th>...</th>\n",
       "      <th>countryofexploitation_TW</th>\n",
       "      <th>countryofexploitation_UA</th>\n",
       "      <th>countryofexploitation_UG</th>\n",
       "      <th>countryofexploitation_US</th>\n",
       "      <th>countryofexploitation_UZ</th>\n",
       "      <th>countryofexploitation_VN</th>\n",
       "      <th>countryofexploitation_ZA</th>\n",
       "      <th>countryofexploitation_unknown</th>\n",
       "      <th>recruiterrelationunknown_1</th>\n",
       "      <th>recruiterrelationunknown_unknown</th>\n",
       "    </tr>\n",
       "  </thead>\n",
       "  <tbody>\n",
       "    <tr>\n",
       "      <th>0</th>\n",
       "      <td>0.0</td>\n",
       "      <td>0.0</td>\n",
       "      <td>0.0</td>\n",
       "      <td>0.0</td>\n",
       "      <td>0.0</td>\n",
       "      <td>0.0</td>\n",
       "      <td>0.0</td>\n",
       "      <td>0.0</td>\n",
       "      <td>0.0</td>\n",
       "      <td>0.0</td>\n",
       "      <td>...</td>\n",
       "      <td>0.0</td>\n",
       "      <td>0.0</td>\n",
       "      <td>0.0</td>\n",
       "      <td>0.0</td>\n",
       "      <td>0.0</td>\n",
       "      <td>0.0</td>\n",
       "      <td>0.0</td>\n",
       "      <td>0.0</td>\n",
       "      <td>1.0</td>\n",
       "      <td>0.0</td>\n",
       "    </tr>\n",
       "    <tr>\n",
       "      <th>1</th>\n",
       "      <td>0.0</td>\n",
       "      <td>0.0</td>\n",
       "      <td>0.0</td>\n",
       "      <td>0.0</td>\n",
       "      <td>0.0</td>\n",
       "      <td>0.0</td>\n",
       "      <td>0.0</td>\n",
       "      <td>0.0</td>\n",
       "      <td>0.0</td>\n",
       "      <td>0.0</td>\n",
       "      <td>...</td>\n",
       "      <td>0.0</td>\n",
       "      <td>0.0</td>\n",
       "      <td>0.0</td>\n",
       "      <td>1.0</td>\n",
       "      <td>0.0</td>\n",
       "      <td>0.0</td>\n",
       "      <td>0.0</td>\n",
       "      <td>0.0</td>\n",
       "      <td>0.0</td>\n",
       "      <td>0.0</td>\n",
       "    </tr>\n",
       "    <tr>\n",
       "      <th>2</th>\n",
       "      <td>0.0</td>\n",
       "      <td>0.0</td>\n",
       "      <td>1.0</td>\n",
       "      <td>0.0</td>\n",
       "      <td>0.0</td>\n",
       "      <td>0.0</td>\n",
       "      <td>0.0</td>\n",
       "      <td>0.0</td>\n",
       "      <td>0.0</td>\n",
       "      <td>0.0</td>\n",
       "      <td>...</td>\n",
       "      <td>0.0</td>\n",
       "      <td>0.0</td>\n",
       "      <td>0.0</td>\n",
       "      <td>0.0</td>\n",
       "      <td>0.0</td>\n",
       "      <td>0.0</td>\n",
       "      <td>0.0</td>\n",
       "      <td>0.0</td>\n",
       "      <td>1.0</td>\n",
       "      <td>0.0</td>\n",
       "    </tr>\n",
       "    <tr>\n",
       "      <th>3</th>\n",
       "      <td>0.0</td>\n",
       "      <td>0.0</td>\n",
       "      <td>0.0</td>\n",
       "      <td>0.0</td>\n",
       "      <td>0.0</td>\n",
       "      <td>0.0</td>\n",
       "      <td>0.0</td>\n",
       "      <td>0.0</td>\n",
       "      <td>0.0</td>\n",
       "      <td>0.0</td>\n",
       "      <td>...</td>\n",
       "      <td>0.0</td>\n",
       "      <td>0.0</td>\n",
       "      <td>0.0</td>\n",
       "      <td>0.0</td>\n",
       "      <td>0.0</td>\n",
       "      <td>0.0</td>\n",
       "      <td>0.0</td>\n",
       "      <td>0.0</td>\n",
       "      <td>1.0</td>\n",
       "      <td>0.0</td>\n",
       "    </tr>\n",
       "    <tr>\n",
       "      <th>4</th>\n",
       "      <td>0.0</td>\n",
       "      <td>0.0</td>\n",
       "      <td>0.0</td>\n",
       "      <td>0.0</td>\n",
       "      <td>0.0</td>\n",
       "      <td>0.0</td>\n",
       "      <td>0.0</td>\n",
       "      <td>0.0</td>\n",
       "      <td>0.0</td>\n",
       "      <td>0.0</td>\n",
       "      <td>...</td>\n",
       "      <td>0.0</td>\n",
       "      <td>0.0</td>\n",
       "      <td>1.0</td>\n",
       "      <td>0.0</td>\n",
       "      <td>0.0</td>\n",
       "      <td>0.0</td>\n",
       "      <td>0.0</td>\n",
       "      <td>0.0</td>\n",
       "      <td>1.0</td>\n",
       "      <td>0.0</td>\n",
       "    </tr>\n",
       "  </tbody>\n",
       "</table>\n",
       "<p>5 rows × 217 columns</p>\n",
       "</div>"
      ],
      "text/plain": [
       "   yearofregistration_2003  yearofregistration_2004  yearofregistration_2005  \\\n",
       "0                      0.0                      0.0                      0.0   \n",
       "1                      0.0                      0.0                      0.0   \n",
       "2                      0.0                      0.0                      1.0   \n",
       "3                      0.0                      0.0                      0.0   \n",
       "4                      0.0                      0.0                      0.0   \n",
       "\n",
       "   yearofregistration_2006  yearofregistration_2007  yearofregistration_2008  \\\n",
       "0                      0.0                      0.0                      0.0   \n",
       "1                      0.0                      0.0                      0.0   \n",
       "2                      0.0                      0.0                      0.0   \n",
       "3                      0.0                      0.0                      0.0   \n",
       "4                      0.0                      0.0                      0.0   \n",
       "\n",
       "   yearofregistration_2009  yearofregistration_2010  yearofregistration_2011  \\\n",
       "0                      0.0                      0.0                      0.0   \n",
       "1                      0.0                      0.0                      0.0   \n",
       "2                      0.0                      0.0                      0.0   \n",
       "3                      0.0                      0.0                      0.0   \n",
       "4                      0.0                      0.0                      0.0   \n",
       "\n",
       "   yearofregistration_2012  ...  countryofexploitation_TW  \\\n",
       "0                      0.0  ...                       0.0   \n",
       "1                      0.0  ...                       0.0   \n",
       "2                      0.0  ...                       0.0   \n",
       "3                      0.0  ...                       0.0   \n",
       "4                      0.0  ...                       0.0   \n",
       "\n",
       "   countryofexploitation_UA  countryofexploitation_UG  \\\n",
       "0                       0.0                       0.0   \n",
       "1                       0.0                       0.0   \n",
       "2                       0.0                       0.0   \n",
       "3                       0.0                       0.0   \n",
       "4                       0.0                       1.0   \n",
       "\n",
       "   countryofexploitation_US  countryofexploitation_UZ  \\\n",
       "0                       0.0                       0.0   \n",
       "1                       1.0                       0.0   \n",
       "2                       0.0                       0.0   \n",
       "3                       0.0                       0.0   \n",
       "4                       0.0                       0.0   \n",
       "\n",
       "   countryofexploitation_VN  countryofexploitation_ZA  \\\n",
       "0                       0.0                       0.0   \n",
       "1                       0.0                       0.0   \n",
       "2                       0.0                       0.0   \n",
       "3                       0.0                       0.0   \n",
       "4                       0.0                       0.0   \n",
       "\n",
       "   countryofexploitation_unknown  recruiterrelationunknown_1  \\\n",
       "0                            0.0                         1.0   \n",
       "1                            0.0                         0.0   \n",
       "2                            0.0                         1.0   \n",
       "3                            0.0                         1.0   \n",
       "4                            0.0                         1.0   \n",
       "\n",
       "   recruiterrelationunknown_unknown  \n",
       "0                               0.0  \n",
       "1                               0.0  \n",
       "2                               0.0  \n",
       "3                               0.0  \n",
       "4                               0.0  \n",
       "\n",
       "[5 rows x 217 columns]"
      ]
     },
     "execution_count": 138,
     "metadata": {},
     "output_type": "execute_result"
    }
   ],
   "source": [
    "cols = encoder.get_feature_names_out(input_features=X_test.columns)\n",
    "\n",
    "X_test_encode = pd.DataFrame(encoder.transform(X_test).toarray(),columns=cols)\n",
    "\n",
    "X_test_encode.head()"
   ]
  },
  {
   "cell_type": "markdown",
   "id": "2d40f9be",
   "metadata": {},
   "source": [
    " Modelling"
   ]
  },
  {
   "cell_type": "code",
   "execution_count": 139,
   "id": "2c8822e6",
   "metadata": {},
   "outputs": [
    {
     "name": "stdout",
     "output_type": "stream",
     "text": [
      "0.7844774590163934\n",
      "0.7812724106136666\n"
     ]
    },
    {
     "data": {
      "text/plain": [
       "Female    7082\n",
       "Male      2679\n",
       "Name: gender, dtype: int64"
      ]
     },
     "metadata": {},
     "output_type": "display_data"
    },
    {
     "data": {
      "text/plain": [
       "array([[7041,   41],\n",
       "       [2094,  585]], dtype=int64)"
      ]
     },
     "metadata": {},
     "output_type": "display_data"
    }
   ],
   "source": [
    "from sklearn.ensemble import RandomForestClassifier\n",
    "from sklearn.metrics import confusion_matrix\n",
    "\n",
    "clf = RandomForestClassifier(max_depth=5, # max number of questions to ask\n",
    "                             min_samples_split=20, # amount of rows still considered at every question\n",
    "                             min_samples_leaf =20, # ultimate answer based on at least this many rows\n",
    "                             max_samples=0.8, # fraction of X-train to use in each tree\n",
    "                             random_state=42)\n",
    "clf.fit(X_train_encode, y_train)\n",
    "print(clf.score(X_train_encode, y_train))\n",
    "print(clf.score(X_test_encode, y_test))\n",
    "\n",
    "y_pred = clf.predict(X_test_encode)\n",
    "display(y_test.value_counts())\n",
    "display(confusion_matrix(y_test, y_pred))"
   ]
  },
  {
   "cell_type": "code",
   "execution_count": 140,
   "id": "fcdc4648",
   "metadata": {},
   "outputs": [
    {
     "name": "stdout",
     "output_type": "stream",
     "text": [
      "0.784375\n"
     ]
    }
   ],
   "source": [
    "from sklearn.model_selection import cross_val_score\n",
    "clf = RandomForestClassifier(max_depth=5,\n",
    "                             min_samples_split=20,\n",
    "                             min_samples_leaf =20,\n",
    "                            # max_samples=0.8\n",
    "                            )\n",
    "cross_val_scores = cross_val_score(clf, X_train_encode, y_train, cv=10)\n",
    "print(np.mean(cross_val_scores))"
   ]
  },
  {
   "cell_type": "code",
   "execution_count": 141,
   "id": "4b3e9d7a",
   "metadata": {},
   "outputs": [
    {
     "data": {
      "text/plain": [
       "array([0.61114413, 0.60498735, 0.6049902 , 0.61315961, 0.61374718])"
      ]
     },
     "execution_count": 141,
     "metadata": {},
     "output_type": "execute_result"
    }
   ],
   "source": [
    "cross_val_score(clf, X_train_encode, y_train, cv=5, scoring='recall_macro')"
   ]
  },
  {
   "cell_type": "markdown",
   "id": "49872061",
   "metadata": {},
   "source": [
    "2. Model Log regression"
   ]
  },
  {
   "cell_type": "code",
   "execution_count": 142,
   "id": "d7047416",
   "metadata": {},
   "outputs": [
    {
     "name": "stderr",
     "output_type": "stream",
     "text": [
      "C:\\Users\\sanch\\anaconda3\\lib\\site-packages\\sklearn\\linear_model\\_logistic.py:458: ConvergenceWarning: lbfgs failed to converge (status=1):\n",
      "STOP: TOTAL NO. of ITERATIONS REACHED LIMIT.\n",
      "\n",
      "Increase the number of iterations (max_iter) or scale the data as shown in:\n",
      "    https://scikit-learn.org/stable/modules/preprocessing.html\n",
      "Please also refer to the documentation for alternative solver options:\n",
      "    https://scikit-learn.org/stable/modules/linear_model.html#logistic-regression\n",
      "  n_iter_i = _check_optimize_result(\n"
     ]
    },
    {
     "data": {
      "text/html": [
       "<style>#sk-container-id-1 {color: black;background-color: white;}#sk-container-id-1 pre{padding: 0;}#sk-container-id-1 div.sk-toggleable {background-color: white;}#sk-container-id-1 label.sk-toggleable__label {cursor: pointer;display: block;width: 100%;margin-bottom: 0;padding: 0.3em;box-sizing: border-box;text-align: center;}#sk-container-id-1 label.sk-toggleable__label-arrow:before {content: \"▸\";float: left;margin-right: 0.25em;color: #696969;}#sk-container-id-1 label.sk-toggleable__label-arrow:hover:before {color: black;}#sk-container-id-1 div.sk-estimator:hover label.sk-toggleable__label-arrow:before {color: black;}#sk-container-id-1 div.sk-toggleable__content {max-height: 0;max-width: 0;overflow: hidden;text-align: left;background-color: #f0f8ff;}#sk-container-id-1 div.sk-toggleable__content pre {margin: 0.2em;color: black;border-radius: 0.25em;background-color: #f0f8ff;}#sk-container-id-1 input.sk-toggleable__control:checked~div.sk-toggleable__content {max-height: 200px;max-width: 100%;overflow: auto;}#sk-container-id-1 input.sk-toggleable__control:checked~label.sk-toggleable__label-arrow:before {content: \"▾\";}#sk-container-id-1 div.sk-estimator input.sk-toggleable__control:checked~label.sk-toggleable__label {background-color: #d4ebff;}#sk-container-id-1 div.sk-label input.sk-toggleable__control:checked~label.sk-toggleable__label {background-color: #d4ebff;}#sk-container-id-1 input.sk-hidden--visually {border: 0;clip: rect(1px 1px 1px 1px);clip: rect(1px, 1px, 1px, 1px);height: 1px;margin: -1px;overflow: hidden;padding: 0;position: absolute;width: 1px;}#sk-container-id-1 div.sk-estimator {font-family: monospace;background-color: #f0f8ff;border: 1px dotted black;border-radius: 0.25em;box-sizing: border-box;margin-bottom: 0.5em;}#sk-container-id-1 div.sk-estimator:hover {background-color: #d4ebff;}#sk-container-id-1 div.sk-parallel-item::after {content: \"\";width: 100%;border-bottom: 1px solid gray;flex-grow: 1;}#sk-container-id-1 div.sk-label:hover label.sk-toggleable__label {background-color: #d4ebff;}#sk-container-id-1 div.sk-serial::before {content: \"\";position: absolute;border-left: 1px solid gray;box-sizing: border-box;top: 0;bottom: 0;left: 50%;z-index: 0;}#sk-container-id-1 div.sk-serial {display: flex;flex-direction: column;align-items: center;background-color: white;padding-right: 0.2em;padding-left: 0.2em;position: relative;}#sk-container-id-1 div.sk-item {position: relative;z-index: 1;}#sk-container-id-1 div.sk-parallel {display: flex;align-items: stretch;justify-content: center;background-color: white;position: relative;}#sk-container-id-1 div.sk-item::before, #sk-container-id-1 div.sk-parallel-item::before {content: \"\";position: absolute;border-left: 1px solid gray;box-sizing: border-box;top: 0;bottom: 0;left: 50%;z-index: -1;}#sk-container-id-1 div.sk-parallel-item {display: flex;flex-direction: column;z-index: 1;position: relative;background-color: white;}#sk-container-id-1 div.sk-parallel-item:first-child::after {align-self: flex-end;width: 50%;}#sk-container-id-1 div.sk-parallel-item:last-child::after {align-self: flex-start;width: 50%;}#sk-container-id-1 div.sk-parallel-item:only-child::after {width: 0;}#sk-container-id-1 div.sk-dashed-wrapped {border: 1px dashed gray;margin: 0 0.4em 0.5em 0.4em;box-sizing: border-box;padding-bottom: 0.4em;background-color: white;}#sk-container-id-1 div.sk-label label {font-family: monospace;font-weight: bold;display: inline-block;line-height: 1.2em;}#sk-container-id-1 div.sk-label-container {text-align: center;}#sk-container-id-1 div.sk-container {/* jupyter's `normalize.less` sets `[hidden] { display: none; }` but bootstrap.min.css set `[hidden] { display: none !important; }` so we also need the `!important` here to be able to override the default hidden behavior on the sphinx rendered scikit-learn.org. See: https://github.com/scikit-learn/scikit-learn/issues/21755 */display: inline-block !important;position: relative;}#sk-container-id-1 div.sk-text-repr-fallback {display: none;}</style><div id=\"sk-container-id-1\" class=\"sk-top-container\"><div class=\"sk-text-repr-fallback\"><pre>LogisticRegression(random_state=0)</pre><b>In a Jupyter environment, please rerun this cell to show the HTML representation or trust the notebook. <br />On GitHub, the HTML representation is unable to render, please try loading this page with nbviewer.org.</b></div><div class=\"sk-container\" hidden><div class=\"sk-item\"><div class=\"sk-estimator sk-toggleable\"><input class=\"sk-toggleable__control sk-hidden--visually\" id=\"sk-estimator-id-1\" type=\"checkbox\" checked><label for=\"sk-estimator-id-1\" class=\"sk-toggleable__label sk-toggleable__label-arrow\">LogisticRegression</label><div class=\"sk-toggleable__content\"><pre>LogisticRegression(random_state=0)</pre></div></div></div></div></div>"
      ],
      "text/plain": [
       "LogisticRegression(random_state=0)"
      ]
     },
     "execution_count": 142,
     "metadata": {},
     "output_type": "execute_result"
    }
   ],
   "source": [
    "from sklearn.linear_model import LogisticRegression\n",
    "\n",
    "LR = LogisticRegression(random_state=0, solver='lbfgs')\n",
    "LR.fit(X_train_encode, y_train)"
   ]
  },
  {
   "cell_type": "code",
   "execution_count": 143,
   "id": "2aadf310",
   "metadata": {},
   "outputs": [
    {
     "data": {
      "text/plain": [
       "array([[0.73891486, 0.26108514],\n",
       "       [0.43091327, 0.56908673],\n",
       "       [0.99612285, 0.00387715],\n",
       "       ...,\n",
       "       [0.45810454, 0.54189546],\n",
       "       [0.99495988, 0.00504012],\n",
       "       [0.62905697, 0.37094303]])"
      ]
     },
     "execution_count": 143,
     "metadata": {},
     "output_type": "execute_result"
    }
   ],
   "source": [
    "LR.predict_proba(X_train_encode)"
   ]
  },
  {
   "cell_type": "code",
   "execution_count": 144,
   "id": "db7e6030",
   "metadata": {},
   "outputs": [
    {
     "name": "stderr",
     "output_type": "stream",
     "text": [
      "C:\\Users\\sanch\\anaconda3\\lib\\site-packages\\sklearn\\linear_model\\_logistic.py:458: ConvergenceWarning: lbfgs failed to converge (status=1):\n",
      "STOP: TOTAL NO. of ITERATIONS REACHED LIMIT.\n",
      "\n",
      "Increase the number of iterations (max_iter) or scale the data as shown in:\n",
      "    https://scikit-learn.org/stable/modules/preprocessing.html\n",
      "Please also refer to the documentation for alternative solver options:\n",
      "    https://scikit-learn.org/stable/modules/linear_model.html#logistic-regression\n",
      "  n_iter_i = _check_optimize_result(\n"
     ]
    },
    {
     "data": {
      "text/plain": [
       "0.8396680667964348"
      ]
     },
     "execution_count": 144,
     "metadata": {},
     "output_type": "execute_result"
    }
   ],
   "source": [
    "from sklearn.linear_model import LogisticRegression\n",
    "\n",
    "LR = LogisticRegression(random_state=0, solver='lbfgs')\n",
    "LR.fit(X_train_encode, y_train)\n",
    "LR.score(X_test_encode, y_test)"
   ]
  },
  {
   "cell_type": "code",
   "execution_count": 145,
   "id": "60d0d46c",
   "metadata": {},
   "outputs": [
    {
     "name": "stdout",
     "output_type": "stream",
     "text": [
      "precision:  0.8592264617788774\n",
      "recall:  0.9316577238068342\n",
      "f1:  0.8939773728067204\n"
     ]
    }
   ],
   "source": [
    "from sklearn.metrics import precision_score\n",
    "from sklearn.metrics import recall_score\n",
    "from sklearn.metrics import f1_score\n",
    "\n",
    "pred = LR.predict(X_test_encode)\n",
    "\n",
    "print(\"precision: \", precision_score(y_test, pred, pos_label='Female'))\n",
    "print(\"recall: \", recall_score(y_test, pred, pos_label='Female'))\n",
    "print(\"f1: \", f1_score(y_test, pred, pos_label='Female'))"
   ]
  },
  {
   "cell_type": "code",
   "execution_count": 146,
   "id": "f70600b3",
   "metadata": {},
   "outputs": [
    {
     "name": "stdout",
     "output_type": "stream",
     "text": [
      "              precision    recall  f1-score   support\n",
      "\n",
      "      Female       0.77      0.99      0.87      7082\n",
      "        Male       0.93      0.22      0.35      2679\n",
      "\n",
      "    accuracy                           0.78      9761\n",
      "   macro avg       0.85      0.61      0.61      9761\n",
      "weighted avg       0.82      0.78      0.73      9761\n",
      "\n"
     ]
    }
   ],
   "source": [
    "print(classification_report(y_test, y_pred))"
   ]
  },
  {
   "cell_type": "markdown",
   "id": "a8a7bd42",
   "metadata": {},
   "source": [
    "# Analysis"
   ]
  },
  {
   "cell_type": "markdown",
   "id": "490cc58c",
   "metadata": {},
   "source": [
    "# Year of registration\n",
    " Do we need more public politics to reduce the human trafficking?\n",
    " Do you think we are improving on the last years?"
   ]
  },
  {
   "cell_type": "code",
   "execution_count": 147,
   "id": "c51f3449",
   "metadata": {},
   "outputs": [],
   "source": [
    "import seaborn.objects as so"
   ]
  },
  {
   "cell_type": "code",
   "execution_count": 207,
   "id": "ffbe36cb",
   "metadata": {},
   "outputs": [
    {
     "data": {
      "image/png": "[encoded data removed]",
      "text/plain": [
       "<Figure size 640x480 with 1 Axes>"
      ]
     },
     "metadata": {},
     "output_type": "display_data"
    }
   ],
   "source": [
    "plot = data['yearofregistration'].value_counts().plot(kind='bar',\n",
    "                                            title='global human trafficking')"
   ]
  },
  {
   "cell_type": "markdown",
   "id": "03089295",
   "metadata": {},
   "source": [
    "From 2004 until 2016 the cases have considerably increased, we are talking that the world started with hundred of reported cases and on 2016 were over 10K of cases.\n",
    "\n",
    "So, just let me invite you to continue listening about the variables analysis results and at the end of presentation we can discuss more about the measures to take tobe better on this subject."
   ]
  },
  {
   "cell_type": "markdown",
   "id": "fc86e3db",
   "metadata": {},
   "source": [
    "# Gender\n",
    "\n",
    "Are women the only victims of human trafficking?\n",
    "\n",
    "Data shows, men are also victims of HT. 13.250 men have been victims of human trafficking.\n"
   ]
  },
  {
   "cell_type": "code",
   "execution_count": 155,
   "id": "361c16f2",
   "metadata": {
    "scrolled": true
   },
   "outputs": [
    {
     "data": {
      "text/plain": [
       "<seaborn.axisgrid.FacetGrid at 0x23f0e9d4880>"
      ]
     },
     "execution_count": 155,
     "metadata": {},
     "output_type": "execute_result"
    },
    {
     "data": {
      "image/png": "[encoded data removed]",
      "text/plain": [
       "<Figure size 600.25x500 with 1 Axes>"
      ]
     },
     "metadata": {},
     "output_type": "display_data"
    }
   ],
   "source": [
    "sns.displot(data, x=\"gender\", hue=\"gender\", element=\"step\")"
   ]
  },
  {
   "cell_type": "markdown",
   "id": "1fd9e38b",
   "metadata": {},
   "source": [
    "# Which are the age range on risk to be trafficked?"
   ]
  },
  {
   "cell_type": "code",
   "execution_count": 156,
   "id": "49755c2c",
   "metadata": {},
   "outputs": [
    {
     "data": {
      "text/plain": [
       "<seaborn.axisgrid.FacetGrid at 0x23f13046ec0>"
      ]
     },
     "execution_count": 156,
     "metadata": {},
     "output_type": "execute_result"
    },
    {
     "data": {
      "image/png": "[encoded data removed]",
      "text/plain": [
       "<Figure size 613x500 with 1 Axes>"
      ]
     },
     "metadata": {},
     "output_type": "display_data"
    }
   ],
   "source": [
    "import seaborn.objects as so\n",
    "sns.displot(data, x=\"agebroad\", hue=\"agebroad\", element=\"step\")"
   ]
  },
  {
   "cell_type": "markdown",
   "id": "5a33964a",
   "metadata": {},
   "source": [
    "As we can see the minors are the highest percentage of people recruited for human trafficking. Unknown data is related to cases managed as confidential and all the info has not been provided."
   ]
  },
  {
   "cell_type": "markdown",
   "id": "91b41d3f",
   "metadata": {},
   "source": [
    "# isorganremoval\n",
    "is there any relationship between the organ removal and the human trafficking?"
   ]
  },
  {
   "cell_type": "code",
   "execution_count": 157,
   "id": "8e117d0e",
   "metadata": {},
   "outputs": [
    {
     "data": {
      "image/png": "[encoded data removed]",
      "text/plain": [
       "<Figure size 600x600 with 1 Axes>"
      ]
     },
     "metadata": {},
     "output_type": "display_data"
    }
   ],
   "source": [
    "plot = data['isorganremoval'].value_counts().plot(kind='pie', autopct='%.2f', \n",
    "                                            figsize=(6, 6),\n",
    "                                            title='global human trafficking')"
   ]
  },
  {
   "cell_type": "markdown",
   "id": "fff87287",
   "metadata": {},
   "source": [
    "Keep in mind that unknown means cases that have been managed as confidential due to the risks and dangers of this subject.\n",
    "As we see the 77% of attended cases is treated with prudence.\n",
    "So, yes, there is a relevant relation.\n"
   ]
  },
  {
   "cell_type": "markdown",
   "id": "7094787d",
   "metadata": {},
   "source": [
    "# isabduction  "
   ]
  },
  {
   "cell_type": "code",
   "execution_count": 158,
   "id": "3cc5d418",
   "metadata": {},
   "outputs": [
    {
     "data": {
      "image/png": "[encoded data removed]",
      "text/plain": [
       "<Figure size 600x600 with 1 Axes>"
      ]
     },
     "metadata": {},
     "output_type": "display_data"
    }
   ],
   "source": [
    "plot = data['isabduction'].value_counts().plot(kind='pie', autopct='%.2f', \n",
    "                                            figsize=(6, 6),\n",
    "                                            title='global human trafficking')"
   ]
  },
  {
   "cell_type": "markdown",
   "id": "48e78e1d",
   "metadata": {},
   "source": [
    "The 68% of abduction asisted cases are related to human trafficking. Both features isaduction and isorganremoval have been known through testimonies of the victims via email, call or remote assistance."
   ]
  },
  {
   "cell_type": "markdown",
   "id": "940d0394",
   "metadata": {},
   "source": [
    "# Recruiterrelationship\n",
    "\n",
    "In DR, we have an idiomatic expression that says, \"who can introduce you to a problem are your closest people\". \n",
    "After this analysis I'm going to say to this expression it depends! \n",
    "As the pie shows it is true the people closer to the victims were responsible in 11% of their recruitment.\n",
    "But it is still a cause of concern that 63% of the cases couldn't be assigned to a classification due to the victims not providing this information.\n",
    "The rest 18% wasn't able to be specified.\n"
   ]
  },
  {
   "cell_type": "code",
   "execution_count": 159,
   "id": "53c2dea1",
   "metadata": {},
   "outputs": [
    {
     "data": {
      "image/png": "[encoded data removed]",
      "text/plain": [
       "<Figure size 600x600 with 1 Axes>"
      ]
     },
     "metadata": {},
     "output_type": "display_data"
    }
   ],
   "source": [
    "plot = data['recruiterrelationship'].value_counts().plot(kind='pie', autopct='%.2f', \n",
    "                                            figsize=(6, 6),\n",
    "                                            title='global human trafficking')"
   ]
  },
  {
   "cell_type": "markdown",
   "id": "78b107c0",
   "metadata": {},
   "source": [
    "# Recruiterrelationunknown\n",
    "\n",
    "Is there a high percentage of confidentiality about the collection of the data? Could we maybe say that the victims are under a high control level by this industry? Let's see!"
   ]
  },
  {
   "cell_type": "code",
   "execution_count": 160,
   "id": "05ea4493",
   "metadata": {},
   "outputs": [
    {
     "data": {
      "image/png": "[encoded data removed]",
      "text/plain": [
       "<Figure size 600x600 with 1 Axes>"
      ]
     },
     "metadata": {},
     "output_type": "display_data"
    }
   ],
   "source": [
    "plot = data['recruiterrelationunknown'].value_counts().plot(kind='pie', autopct='%.2f', \n",
    "                                            figsize=(6, 6),\n",
    "                                            title='global human trafficking')"
   ]
  },
  {
   "cell_type": "markdown",
   "id": "74926804",
   "metadata": {},
   "source": [
    "The 80% of managed cases the information about the recruitment or introduction process of the victims in GHT,it wasn't able to know.\n",
    "Due to the victims, the socialworker or the person who reports the case."
   ]
  },
  {
   "cell_type": "markdown",
   "id": "aff9a914",
   "metadata": {},
   "source": [
    "# typeofexploitconcatenated"
   ]
  },
  {
   "cell_type": "markdown",
   "id": "9ac09f26",
   "metadata": {},
   "source": [
    "What do you read on this graph? \n",
    "Is sexual exploitation the most frequent cause of human trafficking?\n",
    "Is slavery a subject of the past?\n"
   ]
  },
  {
   "cell_type": "code",
   "execution_count": 161,
   "id": "5c464cac",
   "metadata": {},
   "outputs": [
    {
     "data": {
      "image/png": "[encoded data removed]",
      "text/plain": [
       "<Figure size 640x480 with 1 Axes>"
      ]
     },
     "metadata": {},
     "output_type": "display_data"
    }
   ],
   "source": [
    "plot = data['typeofexploitconcatenated'].value_counts().plot(kind='bar',\n",
    "                                            title='global human trafficking')"
   ]
  },
  {
   "cell_type": "markdown",
   "id": "3bca5e24",
   "metadata": {},
   "source": [
    "No, Slavery is growing but in modern ways. \n",
    "Unknown answers is on the top, follow by the sexual exploitation. On a 3rd place forced labour and others. You can be sure that sexual exploitation could be the highest one if we could confirm what unknown is.\n",
    "So, what are your conclusions? is sexual exploitation the main cause of human trafficking? I say, yes, it is.\n"
   ]
  },
  {
   "cell_type": "markdown",
   "id": "887f9f4e",
   "metadata": {},
   "source": [
    "# typeofsexconcatenated"
   ]
  },
  {
   "cell_type": "markdown",
   "id": "ab4b3b54",
   "metadata": {},
   "source": [
    "Are the prostitution and pornography results correct?\n",
    "\n",
    "Unknown classification could be the key to know the correct answer."
   ]
  },
  {
   "cell_type": "code",
   "execution_count": 162,
   "id": "5db3525e",
   "metadata": {},
   "outputs": [
    {
     "data": {
      "image/png": "[encoded data removed]",
      "text/plain": [
       "<Figure size 640x480 with 1 Axes>"
      ]
     },
     "metadata": {},
     "output_type": "display_data"
    }
   ],
   "source": [
    "plot = data['typeofsexconcatenated'].value_counts().plot(kind='bar',\n",
    "                                            title='global human trafficking')"
   ]
  },
  {
   "cell_type": "markdown",
   "id": "caefb30d",
   "metadata": {},
   "source": [
    "# typeoflabourconcatenated"
   ]
  },
  {
   "cell_type": "code",
   "execution_count": 163,
   "id": "a6d8b8c1",
   "metadata": {},
   "outputs": [
    {
     "data": {
      "image/png": "[encoded data removed]",
      "text/plain": [
       "<Figure size 640x480 with 1 Axes>"
      ]
     },
     "metadata": {},
     "output_type": "display_data"
    }
   ],
   "source": [
    "plot = data['typeoflabourconcatenated'].value_counts().plot(kind='bar',\n",
    "                                            title='global human trafficking')"
   ]
  },
  {
   "cell_type": "markdown",
   "id": "c58ca15f",
   "metadata": {},
   "source": [
    "# meansofcontrolconcatenated\n",
    "\n",
    "Which is/are the strategy used by the people who managed this activity?\n"
   ]
  },
  {
   "cell_type": "code",
   "execution_count": 165,
   "id": "ccd00aa8",
   "metadata": {},
   "outputs": [
    {
     "data": {
      "image/png": "[encoded data removed]",
      "text/plain": [
       "<Figure size 700x700 with 1 Axes>"
      ]
     },
     "metadata": {},
     "output_type": "display_data"
    }
   ],
   "source": [
    "import matplotlib.pyplot as plt\n",
    "fig = plt.figure(figsize=(7,7))\n",
    "ax = fig.add_axes([0,0,1,1])\n",
    "means_control = dict(data['meansofcontrolconcatenated'].value_counts())\n",
    "ax.barh(list(means_control.keys()), means_control.values())\n",
    "ax.invert_yaxis()\n",
    "plt.show()"
   ]
  },
  {
   "cell_type": "markdown",
   "id": "33f62f98",
   "metadata": {},
   "source": [
    "Manipulation, control and abuse are the keys, that's why to collect the information and create this dataset wasn't easy.\n",
    "This is the first and only dataset that exists about this subject.\n",
    "\n",
    "Due to the control there are so many confidencial cases classified as unknown.\n"
   ]
  },
  {
   "cell_type": "code",
   "execution_count": 166,
   "id": "cbcb84e0",
   "metadata": {},
   "outputs": [],
   "source": [
    "import os.path\n",
    "import pandas as pd\n",
    "\n",
    "def readAllSheets(CTDC_synthetic_dict_20210825):\n",
    "    if not os.path.isfile('CTDC_synthetic_dict_20210825.xlsx'):\n",
    "        return None\n",
    "    \n",
    "    xlsx = pd.ExcelFile('CTDC_synthetic_dict_20210825.xlsx')\n",
    "    sheets = xlsx.sheet_names\n",
    "\n",
    "    results = {}\n",
    "\n",
    "    for sheet in sheets:\n",
    "        results[sheet] = xlsx.parse(sheet)\n",
    "        \n",
    "    xlsx.close()\n",
    "    \n",
    "    return results, sheets"
   ]
  },
  {
   "cell_type": "code",
   "execution_count": 167,
   "id": "35560379",
   "metadata": {},
   "outputs": [
    {
     "data": {
      "text/plain": [
       "({'Main':                                              position  \\\n",
       "  0                                                   1   \n",
       "  1                                                   2   \n",
       "  2                                                   3   \n",
       "  3                                                   4   \n",
       "  4                                                   5   \n",
       "  5                                                   6   \n",
       "  6                                                   7   \n",
       "  7                                                   8   \n",
       "  8                                                   9   \n",
       "  9                                                  10   \n",
       "  10                                                 11   \n",
       "  11                                                 12   \n",
       "  12                                                 13   \n",
       "  13                                                 14   \n",
       "  14                                                 15   \n",
       "  15                                                 16   \n",
       "  16                                                 17   \n",
       "  17                                                 18   \n",
       "  18                                                 19   \n",
       "  19                                                 20   \n",
       "  20                                                 21   \n",
       "  21                                                 22   \n",
       "  22                                                 23   \n",
       "  23                                                 24   \n",
       "  24                                                 25   \n",
       "  25                                                 26   \n",
       "  26                                                 27   \n",
       "  27                                                 28   \n",
       "  28                                                 29   \n",
       "  29                                                 30   \n",
       "  30                                                 31   \n",
       "  31                                                 32   \n",
       "  32                                                 33   \n",
       "  33                                                 34   \n",
       "  34                                                 35   \n",
       "  35                                                 36   \n",
       "  36                                                 37   \n",
       "  37                                                NaN   \n",
       "  38                                                NaN   \n",
       "  39                       This version: 25 August 2021   \n",
       "  40  Data: Synthetic records from CTDC and partners...   \n",
       "  \n",
       "                                  name   type  isnumeric  \\\n",
       "  0                 yearOfRegistration    int        1.0   \n",
       "  1                             gender  str25        0.0   \n",
       "  2                           ageBroad   str6        0.0   \n",
       "  3            majorityStatusAtExploit   str5        0.0   \n",
       "  4                     traffickMonths  str16        0.0   \n",
       "  5                        citizenship   str3        0.0   \n",
       "  6              CountryOfExploitation   str3        0.0   \n",
       "  7          meansOfControlDebtBondage   byte        1.0   \n",
       "  8        meansOfControlTakesEarnings   byte        1.0   \n",
       "  9              meansOfControlThreats   byte        1.0   \n",
       "  10  meansOfControlPsychologicalAbuse   byte        1.0   \n",
       "  11       meansOfControlPhysicalAbuse   byte        1.0   \n",
       "  12         meansOfControlSexualAbuse   byte        1.0   \n",
       "  13       meansOfControlFalsePromises   byte        1.0   \n",
       "  14  meansOfControlPsychoactiveSubsta   byte        1.0   \n",
       "  15   meansOfControlRestrictsMovement   byte        1.0   \n",
       "  16  meansOfControlRestrictsMedicalCa   byte        1.0   \n",
       "  17  meansOfControlExcessiveWorkingHo   byte        1.0   \n",
       "  18  meansOfControlThreatOfLawEnforce   byte        1.0   \n",
       "  19  meansOfControlWithholdsNecessiti   byte        1.0   \n",
       "  20  meansOfControlWithholdsDocuments   byte        1.0   \n",
       "  21               meansOfControlOther   byte        1.0   \n",
       "  22                    isForcedLabour   byte        1.0   \n",
       "  23                   isSexualExploit   byte        1.0   \n",
       "  24                    isOtherExploit   byte        1.0   \n",
       "  25           typeOfLabourAgriculture   byte        1.0   \n",
       "  26          typeOfLabourConstruction   byte        1.0   \n",
       "  27          typeOfLabourDomesticWork   byte        1.0   \n",
       "  28           typeOfLabourHospitality   byte        1.0   \n",
       "  29                 typeOfLabourOther   byte        1.0   \n",
       "  30             typeOfSexProstitution   byte        1.0   \n",
       "  31              typeOfSexPornography   byte        1.0   \n",
       "  32                    typeOfSexOther   byte        1.0   \n",
       "  33  recruiterRelationIntimatePartner   byte        1.0   \n",
       "  34           recruiterRelationFriend   byte        1.0   \n",
       "  35           recruiterRelationFamily   byte        1.0   \n",
       "  36            recruiterRelationOther   byte        1.0   \n",
       "  37                               NaN    NaN        NaN   \n",
       "  38                               NaN    NaN        NaN   \n",
       "  39                               NaN    NaN        NaN   \n",
       "  40                               NaN    NaN        NaN   \n",
       "  \n",
       "                                         varlab  \\\n",
       "  0                        Year of Registration   \n",
       "  1                                      Gender   \n",
       "  2                                   Age Broad   \n",
       "  3                  Majority Status at Exploit   \n",
       "  4             Trafficking duration, in months   \n",
       "  5                                 Citizenship   \n",
       "  6                     Country of Exploitation   \n",
       "  7              Means of Control: Debt Bondage   \n",
       "  8            Means of Control: Takes Earnings   \n",
       "  9                   Means of Control: Threats   \n",
       "  10      Means of Control: Psychological Abuse   \n",
       "  11           Means of Control: Physical Abuse   \n",
       "  12             Means of Control: Sexual Abuse   \n",
       "  13            Means of Control:False Promises   \n",
       "  14  Means of Control: Psychoactive Substances   \n",
       "  15       Means of Control: Restricts Movement   \n",
       "  16             Means of Control: Medical Care   \n",
       "  17  Means of Control: Excessive Working Hours   \n",
       "  18    Means of Control: Threat of Law Enforce   \n",
       "  19     Means of Control: Withhold Necessities   \n",
       "  20       Means of Control: Withhold Documents   \n",
       "  21                    Means of Control: Other   \n",
       "  22         Type of Trafficking: Forced Labour   \n",
       "  23        Type of Trafficking: Sexual Exploit   \n",
       "  24         Type of Trafficking: Other Exploit   \n",
       "  25        Type of Labour Exploit: Agriculture   \n",
       "  26       Type of Labour Exploit: Construction   \n",
       "  27      Type of Labour Exploit: Domestic Work   \n",
       "  28        Type of Labour Exploit: Hospitality   \n",
       "  29              Type of Labour Exploit: Other   \n",
       "  30       Type of Sexual Exploit: Prostitution   \n",
       "  31        Type of Sexual Exploit: Pronography   \n",
       "  32              Type of Sexual Exploit: Other   \n",
       "  33       Recruiter Relation: Intimate Partner   \n",
       "  34                 Recruiter Relation: Friend   \n",
       "  35                 Recruiter Relation: Family   \n",
       "  36                  Recruiter Relation: Other   \n",
       "  37                                        NaN   \n",
       "  38                                        NaN   \n",
       "  39                                        NaN   \n",
       "  40                                        NaN   \n",
       "  \n",
       "                                 notes  \n",
       "  0                                NaN  \n",
       "  1                                NaN  \n",
       "  2                                NaN  \n",
       "  3                                NaN  \n",
       "  4                                NaN  \n",
       "  5   ISO code (three capital letters)  \n",
       "  6   ISO code (three capital letters)  \n",
       "  7                                NaN  \n",
       "  8                                NaN  \n",
       "  9                                NaN  \n",
       "  10                               NaN  \n",
       "  11                               NaN  \n",
       "  12                               NaN  \n",
       "  13                               NaN  \n",
       "  14                               NaN  \n",
       "  15                               NaN  \n",
       "  16                               NaN  \n",
       "  17                               NaN  \n",
       "  18                               NaN  \n",
       "  19                               NaN  \n",
       "  20                               NaN  \n",
       "  21                               NaN  \n",
       "  22                               NaN  \n",
       "  23                               NaN  \n",
       "  24                               NaN  \n",
       "  25                               NaN  \n",
       "  26                               NaN  \n",
       "  27                               NaN  \n",
       "  28                               NaN  \n",
       "  29                               NaN  \n",
       "  30                               NaN  \n",
       "  31                               NaN  \n",
       "  32                               NaN  \n",
       "  33                               NaN  \n",
       "  34                               NaN  \n",
       "  35                               NaN  \n",
       "  36                               NaN  \n",
       "  37                               NaN  \n",
       "  38                               NaN  \n",
       "  39                               NaN  \n",
       "  40                               NaN  ,\n",
       "  'TabStat':              Unnamed: 0            Unnamed: 1 Unnamed: 2 Unnamed: 3  \\\n",
       "  0    yearOfRegistration  Year of Registration        NaN        NaN   \n",
       "  1                   NaN                   NaN        NaN        NaN   \n",
       "  2                   NaN                   NaN      Freq.    Percent   \n",
       "  3                 Valid                  2002       1820       0.94   \n",
       "  4                   NaN                  2003        960        0.5   \n",
       "  ..                  ...                   ...        ...        ...   \n",
       "  445                 NaN                   NaN        NaN        NaN   \n",
       "  446                 NaN                   NaN      Freq.    Percent   \n",
       "  447               Valid                     1      18970       9.83   \n",
       "  448             Missing                     .     174081      90.17   \n",
       "  449               Total                   NaN     193051        100   \n",
       "  \n",
       "      Unnamed: 4 Unnamed: 5  \n",
       "  0          NaN        NaN  \n",
       "  1          NaN        NaN  \n",
       "  2        Valid       Cum.  \n",
       "  3         1.18       1.18  \n",
       "  4         0.62       1.81  \n",
       "  ..         ...        ...  \n",
       "  445        NaN        NaN  \n",
       "  446      Valid       Cum.  \n",
       "  447        100        100  \n",
       "  448        NaN        NaN  \n",
       "  449        NaN        NaN  \n",
       "  \n",
       "  [450 rows x 6 columns],\n",
       "  'Region':     ISO2 ISO3               Country  \\\n",
       "  0     AD  AND               Andorra   \n",
       "  1     AE  ARE  United Arab Emirates   \n",
       "  2     AF  AFG           Afghanistan   \n",
       "  3     AG  ATG   Antigua and Barbuda   \n",
       "  4     AI  AIA              Anguilla   \n",
       "  ..   ...  ...                   ...   \n",
       "  247   TP  NaN                   NaN   \n",
       "  248   Y2  NaN                   NaN   \n",
       "  249   Y3  NaN                   NaN   \n",
       "  250   YU  NaN                   NaN   \n",
       "  251   ZR  NaN                   NaN   \n",
       "  \n",
       "                              Countrydescription  UNRegion      UNSubRegion  \\\n",
       "  0                                      Andorra    Europe  Southern Europe   \n",
       "  1                         United Arab Emirates      Asia     Western Asia   \n",
       "  2                                  Afghanistan      Asia    Southern Asia   \n",
       "  3                          Antigua and Barbuda  Americas        Caribbean   \n",
       "  4                                     Anguilla  Americas        Caribbean   \n",
       "  ..                                         ...       ...              ...   \n",
       "  247                                Timor-Leste       NaN              NaN   \n",
       "  248                                 Montenegro       NaN              NaN   \n",
       "  249  Serbia, Province of Serbia and Montenegro       NaN              NaN   \n",
       "  250                      Serbia and Montenegro       NaN              NaN   \n",
       "  251                                      Zaire       NaN              NaN   \n",
       "  \n",
       "         IOMRegion  \n",
       "  0    RO Brussels  \n",
       "  1       RO Cairo  \n",
       "  2     RO Bangkok  \n",
       "  3    RO San Jose  \n",
       "  4    RO San Jose  \n",
       "  ..           ...  \n",
       "  247          NaN  \n",
       "  248          NaN  \n",
       "  249          NaN  \n",
       "  250          NaN  \n",
       "  251          NaN  \n",
       "  \n",
       "  [252 rows x 7 columns]},\n",
       " ['Main', 'TabStat', 'Region'])"
      ]
     },
     "execution_count": 167,
     "metadata": {},
     "output_type": "execute_result"
    }
   ],
   "source": [
    "data1= readAllSheets('CTDC_synthetic_dict_20210825.xlsx')\n",
    "data1"
   ]
  },
  {
   "cell_type": "code",
   "execution_count": 168,
   "id": "670a12bd",
   "metadata": {},
   "outputs": [],
   "source": [
    "sheets=pd.read_excel('CTDC_synthetic_dict_20210825.xlsx', sheet_name='Region')"
   ]
  },
  {
   "cell_type": "code",
   "execution_count": 169,
   "id": "48adc7b1",
   "metadata": {},
   "outputs": [
    {
     "data": {
      "text/html": [
       "<div>\n",
       "<style scoped>\n",
       "    .dataframe tbody tr th:only-of-type {\n",
       "        vertical-align: middle;\n",
       "    }\n",
       "\n",
       "    .dataframe tbody tr th {\n",
       "        vertical-align: top;\n",
       "    }\n",
       "\n",
       "    .dataframe thead th {\n",
       "        text-align: right;\n",
       "    }\n",
       "</style>\n",
       "<table border=\"1\" class=\"dataframe\">\n",
       "  <thead>\n",
       "    <tr style=\"text-align: right;\">\n",
       "      <th></th>\n",
       "      <th>ISO2</th>\n",
       "      <th>ISO3</th>\n",
       "      <th>Country</th>\n",
       "      <th>Countrydescription</th>\n",
       "      <th>UNRegion</th>\n",
       "      <th>UNSubRegion</th>\n",
       "      <th>IOMRegion</th>\n",
       "    </tr>\n",
       "  </thead>\n",
       "  <tbody>\n",
       "    <tr>\n",
       "      <th>0</th>\n",
       "      <td>AD</td>\n",
       "      <td>AND</td>\n",
       "      <td>Andorra</td>\n",
       "      <td>Andorra</td>\n",
       "      <td>Europe</td>\n",
       "      <td>Southern Europe</td>\n",
       "      <td>RO Brussels</td>\n",
       "    </tr>\n",
       "    <tr>\n",
       "      <th>1</th>\n",
       "      <td>AE</td>\n",
       "      <td>ARE</td>\n",
       "      <td>United Arab Emirates</td>\n",
       "      <td>United Arab Emirates</td>\n",
       "      <td>Asia</td>\n",
       "      <td>Western Asia</td>\n",
       "      <td>RO Cairo</td>\n",
       "    </tr>\n",
       "    <tr>\n",
       "      <th>2</th>\n",
       "      <td>AF</td>\n",
       "      <td>AFG</td>\n",
       "      <td>Afghanistan</td>\n",
       "      <td>Afghanistan</td>\n",
       "      <td>Asia</td>\n",
       "      <td>Southern Asia</td>\n",
       "      <td>RO Bangkok</td>\n",
       "    </tr>\n",
       "    <tr>\n",
       "      <th>3</th>\n",
       "      <td>AG</td>\n",
       "      <td>ATG</td>\n",
       "      <td>Antigua and Barbuda</td>\n",
       "      <td>Antigua and Barbuda</td>\n",
       "      <td>Americas</td>\n",
       "      <td>Caribbean</td>\n",
       "      <td>RO San Jose</td>\n",
       "    </tr>\n",
       "    <tr>\n",
       "      <th>4</th>\n",
       "      <td>AI</td>\n",
       "      <td>AIA</td>\n",
       "      <td>Anguilla</td>\n",
       "      <td>Anguilla</td>\n",
       "      <td>Americas</td>\n",
       "      <td>Caribbean</td>\n",
       "      <td>RO San Jose</td>\n",
       "    </tr>\n",
       "    <tr>\n",
       "      <th>...</th>\n",
       "      <td>...</td>\n",
       "      <td>...</td>\n",
       "      <td>...</td>\n",
       "      <td>...</td>\n",
       "      <td>...</td>\n",
       "      <td>...</td>\n",
       "      <td>...</td>\n",
       "    </tr>\n",
       "    <tr>\n",
       "      <th>247</th>\n",
       "      <td>TP</td>\n",
       "      <td>NaN</td>\n",
       "      <td>NaN</td>\n",
       "      <td>Timor-Leste</td>\n",
       "      <td>NaN</td>\n",
       "      <td>NaN</td>\n",
       "      <td>NaN</td>\n",
       "    </tr>\n",
       "    <tr>\n",
       "      <th>248</th>\n",
       "      <td>Y2</td>\n",
       "      <td>NaN</td>\n",
       "      <td>NaN</td>\n",
       "      <td>Montenegro</td>\n",
       "      <td>NaN</td>\n",
       "      <td>NaN</td>\n",
       "      <td>NaN</td>\n",
       "    </tr>\n",
       "    <tr>\n",
       "      <th>249</th>\n",
       "      <td>Y3</td>\n",
       "      <td>NaN</td>\n",
       "      <td>NaN</td>\n",
       "      <td>Serbia, Province of Serbia and Montenegro</td>\n",
       "      <td>NaN</td>\n",
       "      <td>NaN</td>\n",
       "      <td>NaN</td>\n",
       "    </tr>\n",
       "    <tr>\n",
       "      <th>250</th>\n",
       "      <td>YU</td>\n",
       "      <td>NaN</td>\n",
       "      <td>NaN</td>\n",
       "      <td>Serbia and Montenegro</td>\n",
       "      <td>NaN</td>\n",
       "      <td>NaN</td>\n",
       "      <td>NaN</td>\n",
       "    </tr>\n",
       "    <tr>\n",
       "      <th>251</th>\n",
       "      <td>ZR</td>\n",
       "      <td>NaN</td>\n",
       "      <td>NaN</td>\n",
       "      <td>Zaire</td>\n",
       "      <td>NaN</td>\n",
       "      <td>NaN</td>\n",
       "      <td>NaN</td>\n",
       "    </tr>\n",
       "  </tbody>\n",
       "</table>\n",
       "<p>252 rows × 7 columns</p>\n",
       "</div>"
      ],
      "text/plain": [
       "    ISO2 ISO3               Country  \\\n",
       "0     AD  AND               Andorra   \n",
       "1     AE  ARE  United Arab Emirates   \n",
       "2     AF  AFG           Afghanistan   \n",
       "3     AG  ATG   Antigua and Barbuda   \n",
       "4     AI  AIA              Anguilla   \n",
       "..   ...  ...                   ...   \n",
       "247   TP  NaN                   NaN   \n",
       "248   Y2  NaN                   NaN   \n",
       "249   Y3  NaN                   NaN   \n",
       "250   YU  NaN                   NaN   \n",
       "251   ZR  NaN                   NaN   \n",
       "\n",
       "                            Countrydescription  UNRegion      UNSubRegion  \\\n",
       "0                                      Andorra    Europe  Southern Europe   \n",
       "1                         United Arab Emirates      Asia     Western Asia   \n",
       "2                                  Afghanistan      Asia    Southern Asia   \n",
       "3                          Antigua and Barbuda  Americas        Caribbean   \n",
       "4                                     Anguilla  Americas        Caribbean   \n",
       "..                                         ...       ...              ...   \n",
       "247                                Timor-Leste       NaN              NaN   \n",
       "248                                 Montenegro       NaN              NaN   \n",
       "249  Serbia, Province of Serbia and Montenegro       NaN              NaN   \n",
       "250                      Serbia and Montenegro       NaN              NaN   \n",
       "251                                      Zaire       NaN              NaN   \n",
       "\n",
       "       IOMRegion  \n",
       "0    RO Brussels  \n",
       "1       RO Cairo  \n",
       "2     RO Bangkok  \n",
       "3    RO San Jose  \n",
       "4    RO San Jose  \n",
       "..           ...  \n",
       "247          NaN  \n",
       "248          NaN  \n",
       "249          NaN  \n",
       "250          NaN  \n",
       "251          NaN  \n",
       "\n",
       "[252 rows x 7 columns]"
      ]
     },
     "execution_count": 169,
     "metadata": {},
     "output_type": "execute_result"
    }
   ],
   "source": [
    "sheets"
   ]
  },
  {
   "cell_type": "code",
   "execution_count": 170,
   "id": "802986b3",
   "metadata": {},
   "outputs": [],
   "source": [
    "sheets.rename(columns={'ISO2':'countryofexploitation'}, inplace =True)\n"
   ]
  },
  {
   "cell_type": "code",
   "execution_count": 171,
   "id": "1529c762",
   "metadata": {},
   "outputs": [
    {
     "data": {
      "text/html": [
       "<div>\n",
       "<style scoped>\n",
       "    .dataframe tbody tr th:only-of-type {\n",
       "        vertical-align: middle;\n",
       "    }\n",
       "\n",
       "    .dataframe tbody tr th {\n",
       "        vertical-align: top;\n",
       "    }\n",
       "\n",
       "    .dataframe thead th {\n",
       "        text-align: right;\n",
       "    }\n",
       "</style>\n",
       "<table border=\"1\" class=\"dataframe\">\n",
       "  <thead>\n",
       "    <tr style=\"text-align: right;\">\n",
       "      <th></th>\n",
       "      <th>countryofexploitation</th>\n",
       "      <th>ISO3</th>\n",
       "      <th>Country</th>\n",
       "      <th>Countrydescription</th>\n",
       "      <th>UNRegion</th>\n",
       "      <th>UNSubRegion</th>\n",
       "      <th>IOMRegion</th>\n",
       "    </tr>\n",
       "  </thead>\n",
       "  <tbody>\n",
       "    <tr>\n",
       "      <th>0</th>\n",
       "      <td>AD</td>\n",
       "      <td>AND</td>\n",
       "      <td>Andorra</td>\n",
       "      <td>Andorra</td>\n",
       "      <td>Europe</td>\n",
       "      <td>Southern Europe</td>\n",
       "      <td>RO Brussels</td>\n",
       "    </tr>\n",
       "    <tr>\n",
       "      <th>1</th>\n",
       "      <td>AE</td>\n",
       "      <td>ARE</td>\n",
       "      <td>United Arab Emirates</td>\n",
       "      <td>United Arab Emirates</td>\n",
       "      <td>Asia</td>\n",
       "      <td>Western Asia</td>\n",
       "      <td>RO Cairo</td>\n",
       "    </tr>\n",
       "    <tr>\n",
       "      <th>2</th>\n",
       "      <td>AF</td>\n",
       "      <td>AFG</td>\n",
       "      <td>Afghanistan</td>\n",
       "      <td>Afghanistan</td>\n",
       "      <td>Asia</td>\n",
       "      <td>Southern Asia</td>\n",
       "      <td>RO Bangkok</td>\n",
       "    </tr>\n",
       "    <tr>\n",
       "      <th>3</th>\n",
       "      <td>AG</td>\n",
       "      <td>ATG</td>\n",
       "      <td>Antigua and Barbuda</td>\n",
       "      <td>Antigua and Barbuda</td>\n",
       "      <td>Americas</td>\n",
       "      <td>Caribbean</td>\n",
       "      <td>RO San Jose</td>\n",
       "    </tr>\n",
       "    <tr>\n",
       "      <th>4</th>\n",
       "      <td>AI</td>\n",
       "      <td>AIA</td>\n",
       "      <td>Anguilla</td>\n",
       "      <td>Anguilla</td>\n",
       "      <td>Americas</td>\n",
       "      <td>Caribbean</td>\n",
       "      <td>RO San Jose</td>\n",
       "    </tr>\n",
       "    <tr>\n",
       "      <th>...</th>\n",
       "      <td>...</td>\n",
       "      <td>...</td>\n",
       "      <td>...</td>\n",
       "      <td>...</td>\n",
       "      <td>...</td>\n",
       "      <td>...</td>\n",
       "      <td>...</td>\n",
       "    </tr>\n",
       "    <tr>\n",
       "      <th>247</th>\n",
       "      <td>TP</td>\n",
       "      <td>NaN</td>\n",
       "      <td>NaN</td>\n",
       "      <td>Timor-Leste</td>\n",
       "      <td>NaN</td>\n",
       "      <td>NaN</td>\n",
       "      <td>NaN</td>\n",
       "    </tr>\n",
       "    <tr>\n",
       "      <th>248</th>\n",
       "      <td>Y2</td>\n",
       "      <td>NaN</td>\n",
       "      <td>NaN</td>\n",
       "      <td>Montenegro</td>\n",
       "      <td>NaN</td>\n",
       "      <td>NaN</td>\n",
       "      <td>NaN</td>\n",
       "    </tr>\n",
       "    <tr>\n",
       "      <th>249</th>\n",
       "      <td>Y3</td>\n",
       "      <td>NaN</td>\n",
       "      <td>NaN</td>\n",
       "      <td>Serbia, Province of Serbia and Montenegro</td>\n",
       "      <td>NaN</td>\n",
       "      <td>NaN</td>\n",
       "      <td>NaN</td>\n",
       "    </tr>\n",
       "    <tr>\n",
       "      <th>250</th>\n",
       "      <td>YU</td>\n",
       "      <td>NaN</td>\n",
       "      <td>NaN</td>\n",
       "      <td>Serbia and Montenegro</td>\n",
       "      <td>NaN</td>\n",
       "      <td>NaN</td>\n",
       "      <td>NaN</td>\n",
       "    </tr>\n",
       "    <tr>\n",
       "      <th>251</th>\n",
       "      <td>ZR</td>\n",
       "      <td>NaN</td>\n",
       "      <td>NaN</td>\n",
       "      <td>Zaire</td>\n",
       "      <td>NaN</td>\n",
       "      <td>NaN</td>\n",
       "      <td>NaN</td>\n",
       "    </tr>\n",
       "  </tbody>\n",
       "</table>\n",
       "<p>252 rows × 7 columns</p>\n",
       "</div>"
      ],
      "text/plain": [
       "    countryofexploitation ISO3               Country  \\\n",
       "0                      AD  AND               Andorra   \n",
       "1                      AE  ARE  United Arab Emirates   \n",
       "2                      AF  AFG           Afghanistan   \n",
       "3                      AG  ATG   Antigua and Barbuda   \n",
       "4                      AI  AIA              Anguilla   \n",
       "..                    ...  ...                   ...   \n",
       "247                    TP  NaN                   NaN   \n",
       "248                    Y2  NaN                   NaN   \n",
       "249                    Y3  NaN                   NaN   \n",
       "250                    YU  NaN                   NaN   \n",
       "251                    ZR  NaN                   NaN   \n",
       "\n",
       "                            Countrydescription  UNRegion      UNSubRegion  \\\n",
       "0                                      Andorra    Europe  Southern Europe   \n",
       "1                         United Arab Emirates      Asia     Western Asia   \n",
       "2                                  Afghanistan      Asia    Southern Asia   \n",
       "3                          Antigua and Barbuda  Americas        Caribbean   \n",
       "4                                     Anguilla  Americas        Caribbean   \n",
       "..                                         ...       ...              ...   \n",
       "247                                Timor-Leste       NaN              NaN   \n",
       "248                                 Montenegro       NaN              NaN   \n",
       "249  Serbia, Province of Serbia and Montenegro       NaN              NaN   \n",
       "250                      Serbia and Montenegro       NaN              NaN   \n",
       "251                                      Zaire       NaN              NaN   \n",
       "\n",
       "       IOMRegion  \n",
       "0    RO Brussels  \n",
       "1       RO Cairo  \n",
       "2     RO Bangkok  \n",
       "3    RO San Jose  \n",
       "4    RO San Jose  \n",
       "..           ...  \n",
       "247          NaN  \n",
       "248          NaN  \n",
       "249          NaN  \n",
       "250          NaN  \n",
       "251          NaN  \n",
       "\n",
       "[252 rows x 7 columns]"
      ]
     },
     "execution_count": 171,
     "metadata": {},
     "output_type": "execute_result"
    }
   ],
   "source": [
    "sheets"
   ]
  },
  {
   "cell_type": "code",
   "execution_count": 172,
   "id": "ee6c6587",
   "metadata": {},
   "outputs": [
    {
     "data": {
      "text/html": [
       "<div>\n",
       "<style scoped>\n",
       "    .dataframe tbody tr th:only-of-type {\n",
       "        vertical-align: middle;\n",
       "    }\n",
       "\n",
       "    .dataframe tbody tr th {\n",
       "        vertical-align: top;\n",
       "    }\n",
       "\n",
       "    .dataframe thead th {\n",
       "        text-align: right;\n",
       "    }\n",
       "</style>\n",
       "<table border=\"1\" class=\"dataframe\">\n",
       "  <thead>\n",
       "    <tr style=\"text-align: right;\">\n",
       "      <th></th>\n",
       "      <th>countryofexploitation</th>\n",
       "      <th>iso3</th>\n",
       "      <th>country</th>\n",
       "      <th>countrydescription</th>\n",
       "      <th>unregion</th>\n",
       "      <th>unsubregion</th>\n",
       "      <th>iomregion</th>\n",
       "    </tr>\n",
       "  </thead>\n",
       "  <tbody>\n",
       "    <tr>\n",
       "      <th>0</th>\n",
       "      <td>AD</td>\n",
       "      <td>AND</td>\n",
       "      <td>Andorra</td>\n",
       "      <td>Andorra</td>\n",
       "      <td>Europe</td>\n",
       "      <td>Southern Europe</td>\n",
       "      <td>RO Brussels</td>\n",
       "    </tr>\n",
       "    <tr>\n",
       "      <th>1</th>\n",
       "      <td>AE</td>\n",
       "      <td>ARE</td>\n",
       "      <td>United Arab Emirates</td>\n",
       "      <td>United Arab Emirates</td>\n",
       "      <td>Asia</td>\n",
       "      <td>Western Asia</td>\n",
       "      <td>RO Cairo</td>\n",
       "    </tr>\n",
       "    <tr>\n",
       "      <th>2</th>\n",
       "      <td>AF</td>\n",
       "      <td>AFG</td>\n",
       "      <td>Afghanistan</td>\n",
       "      <td>Afghanistan</td>\n",
       "      <td>Asia</td>\n",
       "      <td>Southern Asia</td>\n",
       "      <td>RO Bangkok</td>\n",
       "    </tr>\n",
       "    <tr>\n",
       "      <th>3</th>\n",
       "      <td>AG</td>\n",
       "      <td>ATG</td>\n",
       "      <td>Antigua and Barbuda</td>\n",
       "      <td>Antigua and Barbuda</td>\n",
       "      <td>Americas</td>\n",
       "      <td>Caribbean</td>\n",
       "      <td>RO San Jose</td>\n",
       "    </tr>\n",
       "    <tr>\n",
       "      <th>4</th>\n",
       "      <td>AI</td>\n",
       "      <td>AIA</td>\n",
       "      <td>Anguilla</td>\n",
       "      <td>Anguilla</td>\n",
       "      <td>Americas</td>\n",
       "      <td>Caribbean</td>\n",
       "      <td>RO San Jose</td>\n",
       "    </tr>\n",
       "    <tr>\n",
       "      <th>...</th>\n",
       "      <td>...</td>\n",
       "      <td>...</td>\n",
       "      <td>...</td>\n",
       "      <td>...</td>\n",
       "      <td>...</td>\n",
       "      <td>...</td>\n",
       "      <td>...</td>\n",
       "    </tr>\n",
       "    <tr>\n",
       "      <th>247</th>\n",
       "      <td>TP</td>\n",
       "      <td>NaN</td>\n",
       "      <td>NaN</td>\n",
       "      <td>Timor-Leste</td>\n",
       "      <td>NaN</td>\n",
       "      <td>NaN</td>\n",
       "      <td>NaN</td>\n",
       "    </tr>\n",
       "    <tr>\n",
       "      <th>248</th>\n",
       "      <td>Y2</td>\n",
       "      <td>NaN</td>\n",
       "      <td>NaN</td>\n",
       "      <td>Montenegro</td>\n",
       "      <td>NaN</td>\n",
       "      <td>NaN</td>\n",
       "      <td>NaN</td>\n",
       "    </tr>\n",
       "    <tr>\n",
       "      <th>249</th>\n",
       "      <td>Y3</td>\n",
       "      <td>NaN</td>\n",
       "      <td>NaN</td>\n",
       "      <td>Serbia, Province of Serbia and Montenegro</td>\n",
       "      <td>NaN</td>\n",
       "      <td>NaN</td>\n",
       "      <td>NaN</td>\n",
       "    </tr>\n",
       "    <tr>\n",
       "      <th>250</th>\n",
       "      <td>YU</td>\n",
       "      <td>NaN</td>\n",
       "      <td>NaN</td>\n",
       "      <td>Serbia and Montenegro</td>\n",
       "      <td>NaN</td>\n",
       "      <td>NaN</td>\n",
       "      <td>NaN</td>\n",
       "    </tr>\n",
       "    <tr>\n",
       "      <th>251</th>\n",
       "      <td>ZR</td>\n",
       "      <td>NaN</td>\n",
       "      <td>NaN</td>\n",
       "      <td>Zaire</td>\n",
       "      <td>NaN</td>\n",
       "      <td>NaN</td>\n",
       "      <td>NaN</td>\n",
       "    </tr>\n",
       "  </tbody>\n",
       "</table>\n",
       "<p>252 rows × 7 columns</p>\n",
       "</div>"
      ],
      "text/plain": [
       "    countryofexploitation iso3               country  \\\n",
       "0                      AD  AND               Andorra   \n",
       "1                      AE  ARE  United Arab Emirates   \n",
       "2                      AF  AFG           Afghanistan   \n",
       "3                      AG  ATG   Antigua and Barbuda   \n",
       "4                      AI  AIA              Anguilla   \n",
       "..                    ...  ...                   ...   \n",
       "247                    TP  NaN                   NaN   \n",
       "248                    Y2  NaN                   NaN   \n",
       "249                    Y3  NaN                   NaN   \n",
       "250                    YU  NaN                   NaN   \n",
       "251                    ZR  NaN                   NaN   \n",
       "\n",
       "                            countrydescription  unregion      unsubregion  \\\n",
       "0                                      Andorra    Europe  Southern Europe   \n",
       "1                         United Arab Emirates      Asia     Western Asia   \n",
       "2                                  Afghanistan      Asia    Southern Asia   \n",
       "3                          Antigua and Barbuda  Americas        Caribbean   \n",
       "4                                     Anguilla  Americas        Caribbean   \n",
       "..                                         ...       ...              ...   \n",
       "247                                Timor-Leste       NaN              NaN   \n",
       "248                                 Montenegro       NaN              NaN   \n",
       "249  Serbia, Province of Serbia and Montenegro       NaN              NaN   \n",
       "250                      Serbia and Montenegro       NaN              NaN   \n",
       "251                                      Zaire       NaN              NaN   \n",
       "\n",
       "       iomregion  \n",
       "0    RO Brussels  \n",
       "1       RO Cairo  \n",
       "2     RO Bangkok  \n",
       "3    RO San Jose  \n",
       "4    RO San Jose  \n",
       "..           ...  \n",
       "247          NaN  \n",
       "248          NaN  \n",
       "249          NaN  \n",
       "250          NaN  \n",
       "251          NaN  \n",
       "\n",
       "[252 rows x 7 columns]"
      ]
     },
     "execution_count": 172,
     "metadata": {},
     "output_type": "execute_result"
    }
   ],
   "source": [
    "cols = []\n",
    "for i in range(len(sheets.columns)):\n",
    "    cols.append(sheets.columns[i].lower().replace(' ', '_'))\n",
    "sheets.columns = cols\n",
    "\n",
    "sheets"
   ]
  },
  {
   "cell_type": "code",
   "execution_count": 173,
   "id": "2000ea28",
   "metadata": {},
   "outputs": [
    {
     "name": "stdout",
     "output_type": "stream",
     "text": [
      "<class 'pandas.core.frame.DataFrame'>\n",
      "RangeIndex: 252 entries, 0 to 251\n",
      "Data columns (total 7 columns):\n",
      " #   Column                 Non-Null Count  Dtype \n",
      "---  ------                 --------------  ----- \n",
      " 0   countryofexploitation  251 non-null    object\n",
      " 1   iso3                   244 non-null    object\n",
      " 2   country                246 non-null    object\n",
      " 3   countrydescription     249 non-null    object\n",
      " 4   unregion               237 non-null    object\n",
      " 5   unsubregion            237 non-null    object\n",
      " 6   iomregion              236 non-null    object\n",
      "dtypes: object(7)\n",
      "memory usage: 13.9+ KB\n"
     ]
    }
   ],
   "source": [
    "sheets.info()"
   ]
  },
  {
   "cell_type": "code",
   "execution_count": 174,
   "id": "f87d7331",
   "metadata": {},
   "outputs": [
    {
     "data": {
      "text/plain": [
       "countryofexploitation     1\n",
       "iso3                      8\n",
       "country                   6\n",
       "countrydescription        3\n",
       "unregion                 15\n",
       "unsubregion              15\n",
       "iomregion                16\n",
       "dtype: int64"
      ]
     },
     "execution_count": 174,
     "metadata": {},
     "output_type": "execute_result"
    }
   ],
   "source": [
    "sheets.isna().sum()"
   ]
  },
  {
   "cell_type": "code",
   "execution_count": 175,
   "id": "ed59db67",
   "metadata": {},
   "outputs": [],
   "source": [
    "sheets['countryofexploitation'].fillna(sheets['countryofexploitation'].mode()[0], inplace=True)"
   ]
  },
  {
   "cell_type": "code",
   "execution_count": 176,
   "id": "44062da2",
   "metadata": {},
   "outputs": [],
   "source": [
    "sheets['iso3'].fillna(sheets['iso3'].mode()[0], inplace=True)"
   ]
  },
  {
   "cell_type": "code",
   "execution_count": 177,
   "id": "5e14904f",
   "metadata": {},
   "outputs": [],
   "source": [
    "sheets['country'].fillna(sheets['country'].mode()[0], inplace=True)"
   ]
  },
  {
   "cell_type": "code",
   "execution_count": 178,
   "id": "80408516",
   "metadata": {},
   "outputs": [],
   "source": [
    "sheets['countrydescription'].fillna(sheets['countrydescription'].mode()[0], inplace=True)"
   ]
  },
  {
   "cell_type": "code",
   "execution_count": 179,
   "id": "10e68b10",
   "metadata": {},
   "outputs": [],
   "source": [
    "sheets['unregion'].fillna(sheets['unregion'].mode()[0], inplace=True)"
   ]
  },
  {
   "cell_type": "code",
   "execution_count": 180,
   "id": "52c5394c",
   "metadata": {},
   "outputs": [],
   "source": [
    "sheets['unsubregion'].fillna(sheets['unsubregion'].mode()[0], inplace=True)"
   ]
  },
  {
   "cell_type": "code",
   "execution_count": 181,
   "id": "bddcd7e8",
   "metadata": {},
   "outputs": [],
   "source": [
    "sheets['iomregion'].fillna(sheets['iomregion'].mode()[0], inplace=True)"
   ]
  },
  {
   "cell_type": "code",
   "execution_count": 182,
   "id": "dba0c795",
   "metadata": {},
   "outputs": [
    {
     "data": {
      "text/plain": [
       "countryofexploitation    0\n",
       "iso3                     0\n",
       "country                  0\n",
       "countrydescription       0\n",
       "unregion                 0\n",
       "unsubregion              0\n",
       "iomregion                0\n",
       "dtype: int64"
      ]
     },
     "execution_count": 182,
     "metadata": {},
     "output_type": "execute_result"
    }
   ],
   "source": [
    "sheets.isna().sum()"
   ]
  },
  {
   "cell_type": "code",
   "execution_count": 183,
   "id": "4fb06ff0",
   "metadata": {},
   "outputs": [
    {
     "data": {
      "text/plain": [
       "countryofexploitation    0\n",
       "iso3                     0\n",
       "country                  0\n",
       "countrydescription       0\n",
       "unregion                 0\n",
       "unsubregion              0\n",
       "iomregion                0\n",
       "dtype: int64"
      ]
     },
     "execution_count": 183,
     "metadata": {},
     "output_type": "execute_result"
    }
   ],
   "source": [
    "sheets.isnull().sum()"
   ]
  },
  {
   "cell_type": "code",
   "execution_count": 184,
   "id": "5f8d6f46",
   "metadata": {},
   "outputs": [
    {
     "data": {
      "text/html": [
       "<div>\n",
       "<style scoped>\n",
       "    .dataframe tbody tr th:only-of-type {\n",
       "        vertical-align: middle;\n",
       "    }\n",
       "\n",
       "    .dataframe tbody tr th {\n",
       "        vertical-align: top;\n",
       "    }\n",
       "\n",
       "    .dataframe thead th {\n",
       "        text-align: right;\n",
       "    }\n",
       "</style>\n",
       "<table border=\"1\" class=\"dataframe\">\n",
       "  <thead>\n",
       "    <tr style=\"text-align: right;\">\n",
       "      <th></th>\n",
       "      <th>countryofexploitation</th>\n",
       "      <th>iso3</th>\n",
       "      <th>country</th>\n",
       "      <th>countrydescription</th>\n",
       "      <th>unregion</th>\n",
       "      <th>unsubregion</th>\n",
       "      <th>iomregion</th>\n",
       "    </tr>\n",
       "  </thead>\n",
       "  <tbody>\n",
       "    <tr>\n",
       "      <th>0</th>\n",
       "      <td>AD</td>\n",
       "      <td>AND</td>\n",
       "      <td>Andorra</td>\n",
       "      <td>Andorra</td>\n",
       "      <td>Europe</td>\n",
       "      <td>Southern Europe</td>\n",
       "      <td>RO Brussels</td>\n",
       "    </tr>\n",
       "    <tr>\n",
       "      <th>1</th>\n",
       "      <td>AE</td>\n",
       "      <td>ARE</td>\n",
       "      <td>United Arab Emirates</td>\n",
       "      <td>United Arab Emirates</td>\n",
       "      <td>Asia</td>\n",
       "      <td>Western Asia</td>\n",
       "      <td>RO Cairo</td>\n",
       "    </tr>\n",
       "    <tr>\n",
       "      <th>2</th>\n",
       "      <td>AF</td>\n",
       "      <td>AFG</td>\n",
       "      <td>Afghanistan</td>\n",
       "      <td>Afghanistan</td>\n",
       "      <td>Asia</td>\n",
       "      <td>Southern Asia</td>\n",
       "      <td>RO Bangkok</td>\n",
       "    </tr>\n",
       "    <tr>\n",
       "      <th>3</th>\n",
       "      <td>AG</td>\n",
       "      <td>ATG</td>\n",
       "      <td>Antigua and Barbuda</td>\n",
       "      <td>Antigua and Barbuda</td>\n",
       "      <td>Americas</td>\n",
       "      <td>Caribbean</td>\n",
       "      <td>RO San Jose</td>\n",
       "    </tr>\n",
       "    <tr>\n",
       "      <th>4</th>\n",
       "      <td>AI</td>\n",
       "      <td>AIA</td>\n",
       "      <td>Anguilla</td>\n",
       "      <td>Anguilla</td>\n",
       "      <td>Americas</td>\n",
       "      <td>Caribbean</td>\n",
       "      <td>RO San Jose</td>\n",
       "    </tr>\n",
       "    <tr>\n",
       "      <th>...</th>\n",
       "      <td>...</td>\n",
       "      <td>...</td>\n",
       "      <td>...</td>\n",
       "      <td>...</td>\n",
       "      <td>...</td>\n",
       "      <td>...</td>\n",
       "      <td>...</td>\n",
       "    </tr>\n",
       "    <tr>\n",
       "      <th>247</th>\n",
       "      <td>TP</td>\n",
       "      <td>CHN</td>\n",
       "      <td>Afghanistan</td>\n",
       "      <td>Timor-Leste</td>\n",
       "      <td>Africa</td>\n",
       "      <td>Caribbean</td>\n",
       "      <td>RO Bangkok</td>\n",
       "    </tr>\n",
       "    <tr>\n",
       "      <th>248</th>\n",
       "      <td>Y2</td>\n",
       "      <td>CHN</td>\n",
       "      <td>Afghanistan</td>\n",
       "      <td>Montenegro</td>\n",
       "      <td>Africa</td>\n",
       "      <td>Caribbean</td>\n",
       "      <td>RO Bangkok</td>\n",
       "    </tr>\n",
       "    <tr>\n",
       "      <th>249</th>\n",
       "      <td>Y3</td>\n",
       "      <td>CHN</td>\n",
       "      <td>Afghanistan</td>\n",
       "      <td>Serbia, Province of Serbia and Montenegro</td>\n",
       "      <td>Africa</td>\n",
       "      <td>Caribbean</td>\n",
       "      <td>RO Bangkok</td>\n",
       "    </tr>\n",
       "    <tr>\n",
       "      <th>250</th>\n",
       "      <td>YU</td>\n",
       "      <td>CHN</td>\n",
       "      <td>Afghanistan</td>\n",
       "      <td>Serbia and Montenegro</td>\n",
       "      <td>Africa</td>\n",
       "      <td>Caribbean</td>\n",
       "      <td>RO Bangkok</td>\n",
       "    </tr>\n",
       "    <tr>\n",
       "      <th>251</th>\n",
       "      <td>ZR</td>\n",
       "      <td>CHN</td>\n",
       "      <td>Afghanistan</td>\n",
       "      <td>Zaire</td>\n",
       "      <td>Africa</td>\n",
       "      <td>Caribbean</td>\n",
       "      <td>RO Bangkok</td>\n",
       "    </tr>\n",
       "  </tbody>\n",
       "</table>\n",
       "<p>252 rows × 7 columns</p>\n",
       "</div>"
      ],
      "text/plain": [
       "    countryofexploitation iso3               country  \\\n",
       "0                      AD  AND               Andorra   \n",
       "1                      AE  ARE  United Arab Emirates   \n",
       "2                      AF  AFG           Afghanistan   \n",
       "3                      AG  ATG   Antigua and Barbuda   \n",
       "4                      AI  AIA              Anguilla   \n",
       "..                    ...  ...                   ...   \n",
       "247                    TP  CHN           Afghanistan   \n",
       "248                    Y2  CHN           Afghanistan   \n",
       "249                    Y3  CHN           Afghanistan   \n",
       "250                    YU  CHN           Afghanistan   \n",
       "251                    ZR  CHN           Afghanistan   \n",
       "\n",
       "                            countrydescription  unregion      unsubregion  \\\n",
       "0                                      Andorra    Europe  Southern Europe   \n",
       "1                         United Arab Emirates      Asia     Western Asia   \n",
       "2                                  Afghanistan      Asia    Southern Asia   \n",
       "3                          Antigua and Barbuda  Americas        Caribbean   \n",
       "4                                     Anguilla  Americas        Caribbean   \n",
       "..                                         ...       ...              ...   \n",
       "247                                Timor-Leste    Africa        Caribbean   \n",
       "248                                 Montenegro    Africa        Caribbean   \n",
       "249  Serbia, Province of Serbia and Montenegro    Africa        Caribbean   \n",
       "250                      Serbia and Montenegro    Africa        Caribbean   \n",
       "251                                      Zaire    Africa        Caribbean   \n",
       "\n",
       "       iomregion  \n",
       "0    RO Brussels  \n",
       "1       RO Cairo  \n",
       "2     RO Bangkok  \n",
       "3    RO San Jose  \n",
       "4    RO San Jose  \n",
       "..           ...  \n",
       "247   RO Bangkok  \n",
       "248   RO Bangkok  \n",
       "249   RO Bangkok  \n",
       "250   RO Bangkok  \n",
       "251   RO Bangkok  \n",
       "\n",
       "[252 rows x 7 columns]"
      ]
     },
     "execution_count": 184,
     "metadata": {},
     "output_type": "execute_result"
    }
   ],
   "source": [
    "sheets"
   ]
  },
  {
   "cell_type": "code",
   "execution_count": null,
   "id": "cca08588",
   "metadata": {},
   "outputs": [],
   "source": [
    "# X_test['ISO2'].unique()"
   ]
  },
  {
   "cell_type": "code",
   "execution_count": null,
   "id": "16c5a6dc",
   "metadata": {},
   "outputs": [],
   "source": [
    "# X_train['ISO2'] =X_train['ISO2'].map({'NU':1 , 'AM':1, 'KG':1, 'PH':1, 'KN':1, 'RE':1, 'SM':1,'VI':1,'AQ':1,'BT':1,'EC':1,\n",
    "#        'TN':1, 'UG':1, 'NG':1, 'FJ':1, 'MT':1, 'SJ':1, 'AZ':1, 'IO':1, 'BJ':1, 'GS':1, 'BE':1,\n",
    "#        'KR':1, 'LI':1, 'BY':1, 'YT':1, 'RU':1, 'TO':1, 'AR':1, 'NO':1, 'ML':1, 'HU':1, 'LK':1,\n",
    "# #        'GN':1, 'TH':1, 'BM':1, 'JP':1, 'BD':1, 'SV':1, 'QA':1, 'FI':1, 'MA':1, 'NC':1, 'MO':1,\n",
    "#        'CN':1, 'PS':1, 'BA':1, 'ET':1, 'MN':1, 'PM':1, 'CF':1})"
   ]
  },
  {
   "cell_type": "code",
   "execution_count": null,
   "id": "552bc0e3",
   "metadata": {},
   "outputs": [],
   "source": [
    "# X_test['ISO2'] =X_test['ISO2'].map({'NU':1 , 'AM':1, 'KG':1, 'PH':1, 'KN':1, 'RE':1, 'SM':1,'VI':1,'AQ':1,'BT':1,'EC':1,\n",
    "#        'TN':1, 'UG':1, 'NG':1, 'FJ':1, 'MT':1, 'SJ':1, 'AZ':1, 'IO':1, 'BJ':1, 'GS':1, 'BE':1,\n",
    "#        'KR':1, 'LI':1, 'BY':1, 'YT':1, 'RU':1, 'TO':1, 'AR':1, 'NO':1, 'ML':1, 'HU':1, 'LK':1,\n",
    "#        'GN':1, 'TH':1, 'BM':1, 'JP':1, 'BD':1, 'SV':1, 'QA':1, 'FI':1, 'MA':1, 'NC':1, 'MO':1,\n",
    "#        'CN':1, 'PS':1, 'BA':1, 'ET':1, 'MN':1, 'PM':1, 'CF':1})"
   ]
  },
  {
   "cell_type": "code",
   "execution_count": 185,
   "id": "de97d6f8",
   "metadata": {},
   "outputs": [
    {
     "data": {
      "text/plain": [
       "AD    2\n",
       "PK    1\n",
       "NI    1\n",
       "NL    1\n",
       "NO    1\n",
       "     ..\n",
       "GU    1\n",
       "GW    1\n",
       "GY    1\n",
       "HK    1\n",
       "ZR    1\n",
       "Name: countryofexploitation, Length: 251, dtype: int64"
      ]
     },
     "execution_count": 185,
     "metadata": {},
     "output_type": "execute_result"
    }
   ],
   "source": [
    "unique_counts = sheets['countryofexploitation'].value_counts()\n",
    "unique_counts"
   ]
  },
  {
   "cell_type": "code",
   "execution_count": 186,
   "id": "bd7da007",
   "metadata": {},
   "outputs": [
    {
     "data": {
      "text/plain": [
       "CHN    10\n",
       "SRB     2\n",
       "NAM     1\n",
       "NER     1\n",
       "NFK     1\n",
       "       ..\n",
       "SGS     1\n",
       "GTM     1\n",
       "GUM     1\n",
       "GNB     1\n",
       "ZWE     1\n",
       "Name: iso3, Length: 242, dtype: int64"
      ]
     },
     "execution_count": 186,
     "metadata": {},
     "output_type": "execute_result"
    }
   ],
   "source": [
    "unique_counts = sheets['iso3'].value_counts()\n",
    "unique_counts"
   ]
  },
  {
   "cell_type": "code",
   "execution_count": 187,
   "id": "dccf235c",
   "metadata": {},
   "outputs": [
    {
     "data": {
      "text/plain": [
       "Afghanistan         7\n",
       "Andorra             1\n",
       "French Polynesia    1\n",
       "Niger               1\n",
       "Norfolk Island      1\n",
       "                   ..\n",
       "Guatemala           1\n",
       "Guam                1\n",
       "Guinea-Bissau       1\n",
       "Guyana              1\n",
       "Zimbabwe            1\n",
       "Name: country, Length: 246, dtype: int64"
      ]
     },
     "execution_count": 187,
     "metadata": {},
     "output_type": "execute_result"
    }
   ],
   "source": [
    "unique_counts = sheets['country'].value_counts()\n",
    "unique_counts"
   ]
  },
  {
   "cell_type": "code",
   "execution_count": 188,
   "id": "6551765d",
   "metadata": {},
   "outputs": [
    {
     "data": {
      "text/plain": [
       "Montenegro                                      5\n",
       "Timor-Leste                                     2\n",
       "Andorra                                         1\n",
       "French Polynesia                                1\n",
       "Nigeria                                         1\n",
       "                                               ..\n",
       "South Georgia and the South Sandwich Islands    1\n",
       "Guatemala                                       1\n",
       "Guam                                            1\n",
       "Guinea-Bissau                                   1\n",
       "Zaire                                           1\n",
       "Name: countrydescription, Length: 247, dtype: int64"
      ]
     },
     "execution_count": 188,
     "metadata": {},
     "output_type": "execute_result"
    }
   ],
   "source": [
    "unique_counts = sheets['countrydescription'].value_counts()\n",
    "unique_counts"
   ]
  },
  {
   "cell_type": "code",
   "execution_count": 189,
   "id": "7bb81099",
   "metadata": {},
   "outputs": [
    {
     "data": {
      "text/plain": [
       "Africa      73\n",
       "Americas    54\n",
       "Asia        51\n",
       "Europe      49\n",
       "Oceania     25\n",
       "Name: unregion, dtype: int64"
      ]
     },
     "execution_count": 189,
     "metadata": {},
     "output_type": "execute_result"
    }
   ],
   "source": [
    "unique_counts = sheets['unregion'].value_counts()\n",
    "unique_counts"
   ]
  },
  {
   "cell_type": "code",
   "execution_count": 190,
   "id": "479d504d",
   "metadata": {},
   "outputs": [
    {
     "data": {
      "text/plain": [
       "Caribbean                    42\n",
       "Eastern Africa               20\n",
       "Western Asia                 18\n",
       "Western Africa               17\n",
       "Southern Europe              17\n",
       "South America                14\n",
       "Northern Europe              12\n",
       "Eastern Europe               11\n",
       "South-Eastern Asia           11\n",
       "Polynesia                    10\n",
       "Middle Africa                 9\n",
       "Southern Asia                 9\n",
       "Western Europe                9\n",
       "Central America               8\n",
       "Eastern Asia                  8\n",
       "Northern Africa               7\n",
       "Micronesia                    7\n",
       "Northern America              5\n",
       "Southern Africa               5\n",
       "Melanesia                     5\n",
       "Central Asia                  5\n",
       "Australia and New Zealand     3\n",
       "Name: unsubregion, dtype: int64"
      ]
     },
     "execution_count": 190,
     "metadata": {},
     "output_type": "execute_result"
    }
   ],
   "source": [
    "unique_counts = sheets['unsubregion'].value_counts()\n",
    "unique_counts"
   ]
  },
  {
   "cell_type": "code",
   "execution_count": 191,
   "id": "6ceeb525",
   "metadata": {},
   "outputs": [
    {
     "data": {
      "text/plain": [
       "RO Bangkok         70\n",
       "RO San Jose        42\n",
       "RO Brussels        40\n",
       "RO Dakar           23\n",
       "RO Vienna          20\n",
       "RO Cairo           19\n",
       "RO Pretoria        16\n",
       "RO Buenos Aires    11\n",
       "RO Nairobi         11\n",
       "Name: iomregion, dtype: int64"
      ]
     },
     "execution_count": 191,
     "metadata": {},
     "output_type": "execute_result"
    }
   ],
   "source": [
    "unique_counts = sheets['iomregion'].value_counts()\n",
    "unique_counts"
   ]
  },
  {
   "cell_type": "code",
   "execution_count": 192,
   "id": "d77281c3",
   "metadata": {},
   "outputs": [],
   "source": [
    "y = sheets['country']\n",
    "X = sheets.drop(['country'], axis=1)"
   ]
  },
  {
   "cell_type": "code",
   "execution_count": 193,
   "id": "8ced1999",
   "metadata": {},
   "outputs": [],
   "source": [
    "from sklearn.model_selection import train_test_split\n",
    "X_train, X_test, y_train, y_test = train_test_split(X, y, test_size=0.2, random_state=42)"
   ]
  },
  {
   "cell_type": "code",
   "execution_count": 194,
   "id": "2ea588e7",
   "metadata": {},
   "outputs": [
    {
     "name": "stdout",
     "output_type": "stream",
     "text": [
      "(201, 6)\n",
      "(51, 6)\n",
      "(201,)\n",
      "(51,)\n"
     ]
    }
   ],
   "source": [
    "print(X_train.shape)\n",
    "print(X_test.shape)\n",
    "print(y_train.shape)\n",
    "print(y_test.shape)"
   ]
  },
  {
   "cell_type": "code",
   "execution_count": 195,
   "id": "da708cf4",
   "metadata": {},
   "outputs": [],
   "source": [
    "df1= pd.merge(data, sheets, how='left', on='countryofexploitation') "
   ]
  },
  {
   "cell_type": "code",
   "execution_count": 196,
   "id": "b57109a1",
   "metadata": {},
   "outputs": [
    {
     "data": {
      "text/html": [
       "<div>\n",
       "<style scoped>\n",
       "    .dataframe tbody tr th:only-of-type {\n",
       "        vertical-align: middle;\n",
       "    }\n",
       "\n",
       "    .dataframe tbody tr th {\n",
       "        vertical-align: top;\n",
       "    }\n",
       "\n",
       "    .dataframe thead th {\n",
       "        text-align: right;\n",
       "    }\n",
       "</style>\n",
       "<table border=\"1\" class=\"dataframe\">\n",
       "  <thead>\n",
       "    <tr style=\"text-align: right;\">\n",
       "      <th></th>\n",
       "      <th>yearofregistration</th>\n",
       "      <th>gender</th>\n",
       "      <th>agebroad</th>\n",
       "      <th>majoritystatus</th>\n",
       "      <th>majorityentry</th>\n",
       "      <th>citizenship</th>\n",
       "      <th>meansofcontroldebtbondage</th>\n",
       "      <th>meansofcontroltakesearnings</th>\n",
       "      <th>meansofcontrolrestrictsfinancialaccess</th>\n",
       "      <th>meansofcontrolthreats</th>\n",
       "      <th>...</th>\n",
       "      <th>isabduction</th>\n",
       "      <th>recruiterrelationship</th>\n",
       "      <th>countryofexploitation</th>\n",
       "      <th>recruiterrelationunknown</th>\n",
       "      <th>iso3</th>\n",
       "      <th>country</th>\n",
       "      <th>countrydescription</th>\n",
       "      <th>unregion</th>\n",
       "      <th>unsubregion</th>\n",
       "      <th>iomregion</th>\n",
       "    </tr>\n",
       "  </thead>\n",
       "  <tbody>\n",
       "    <tr>\n",
       "      <th>0</th>\n",
       "      <td>2002</td>\n",
       "      <td>Female</td>\n",
       "      <td>18--20</td>\n",
       "      <td>Adult</td>\n",
       "      <td>unknown</td>\n",
       "      <td>CO</td>\n",
       "      <td>unknown</td>\n",
       "      <td>unknown</td>\n",
       "      <td>unknown</td>\n",
       "      <td>unknown</td>\n",
       "      <td>...</td>\n",
       "      <td>unknown</td>\n",
       "      <td>unknown</td>\n",
       "      <td>unknown</td>\n",
       "      <td>1</td>\n",
       "      <td>NaN</td>\n",
       "      <td>NaN</td>\n",
       "      <td>NaN</td>\n",
       "      <td>NaN</td>\n",
       "      <td>NaN</td>\n",
       "      <td>NaN</td>\n",
       "    </tr>\n",
       "    <tr>\n",
       "      <th>1</th>\n",
       "      <td>2002</td>\n",
       "      <td>Female</td>\n",
       "      <td>18--20</td>\n",
       "      <td>Adult</td>\n",
       "      <td>unknown</td>\n",
       "      <td>CO</td>\n",
       "      <td>unknown</td>\n",
       "      <td>unknown</td>\n",
       "      <td>unknown</td>\n",
       "      <td>unknown</td>\n",
       "      <td>...</td>\n",
       "      <td>unknown</td>\n",
       "      <td>unknown</td>\n",
       "      <td>unknown</td>\n",
       "      <td>1</td>\n",
       "      <td>NaN</td>\n",
       "      <td>NaN</td>\n",
       "      <td>NaN</td>\n",
       "      <td>NaN</td>\n",
       "      <td>NaN</td>\n",
       "      <td>NaN</td>\n",
       "    </tr>\n",
       "    <tr>\n",
       "      <th>2</th>\n",
       "      <td>2002</td>\n",
       "      <td>Female</td>\n",
       "      <td>18--20</td>\n",
       "      <td>Adult</td>\n",
       "      <td>unknown</td>\n",
       "      <td>CO</td>\n",
       "      <td>unknown</td>\n",
       "      <td>unknown</td>\n",
       "      <td>unknown</td>\n",
       "      <td>unknown</td>\n",
       "      <td>...</td>\n",
       "      <td>unknown</td>\n",
       "      <td>unknown</td>\n",
       "      <td>unknown</td>\n",
       "      <td>1</td>\n",
       "      <td>NaN</td>\n",
       "      <td>NaN</td>\n",
       "      <td>NaN</td>\n",
       "      <td>NaN</td>\n",
       "      <td>NaN</td>\n",
       "      <td>NaN</td>\n",
       "    </tr>\n",
       "    <tr>\n",
       "      <th>3</th>\n",
       "      <td>2002</td>\n",
       "      <td>Female</td>\n",
       "      <td>18--20</td>\n",
       "      <td>Adult</td>\n",
       "      <td>unknown</td>\n",
       "      <td>CO</td>\n",
       "      <td>unknown</td>\n",
       "      <td>unknown</td>\n",
       "      <td>unknown</td>\n",
       "      <td>unknown</td>\n",
       "      <td>...</td>\n",
       "      <td>unknown</td>\n",
       "      <td>unknown</td>\n",
       "      <td>unknown</td>\n",
       "      <td>1</td>\n",
       "      <td>NaN</td>\n",
       "      <td>NaN</td>\n",
       "      <td>NaN</td>\n",
       "      <td>NaN</td>\n",
       "      <td>NaN</td>\n",
       "      <td>NaN</td>\n",
       "    </tr>\n",
       "    <tr>\n",
       "      <th>4</th>\n",
       "      <td>2002</td>\n",
       "      <td>Female</td>\n",
       "      <td>18--20</td>\n",
       "      <td>Adult</td>\n",
       "      <td>unknown</td>\n",
       "      <td>CO</td>\n",
       "      <td>unknown</td>\n",
       "      <td>unknown</td>\n",
       "      <td>unknown</td>\n",
       "      <td>unknown</td>\n",
       "      <td>...</td>\n",
       "      <td>unknown</td>\n",
       "      <td>unknown</td>\n",
       "      <td>unknown</td>\n",
       "      <td>1</td>\n",
       "      <td>NaN</td>\n",
       "      <td>NaN</td>\n",
       "      <td>NaN</td>\n",
       "      <td>NaN</td>\n",
       "      <td>NaN</td>\n",
       "      <td>NaN</td>\n",
       "    </tr>\n",
       "    <tr>\n",
       "      <th>...</th>\n",
       "      <td>...</td>\n",
       "      <td>...</td>\n",
       "      <td>...</td>\n",
       "      <td>...</td>\n",
       "      <td>...</td>\n",
       "      <td>...</td>\n",
       "      <td>...</td>\n",
       "      <td>...</td>\n",
       "      <td>...</td>\n",
       "      <td>...</td>\n",
       "      <td>...</td>\n",
       "      <td>...</td>\n",
       "      <td>...</td>\n",
       "      <td>...</td>\n",
       "      <td>...</td>\n",
       "      <td>...</td>\n",
       "      <td>...</td>\n",
       "      <td>...</td>\n",
       "      <td>...</td>\n",
       "      <td>...</td>\n",
       "      <td>...</td>\n",
       "    </tr>\n",
       "    <tr>\n",
       "      <th>48796</th>\n",
       "      <td>2019</td>\n",
       "      <td>Female</td>\n",
       "      <td>unknown</td>\n",
       "      <td>unknown</td>\n",
       "      <td>unknown</td>\n",
       "      <td>UG</td>\n",
       "      <td>0</td>\n",
       "      <td>0</td>\n",
       "      <td>0</td>\n",
       "      <td>0</td>\n",
       "      <td>...</td>\n",
       "      <td>0</td>\n",
       "      <td>unknown</td>\n",
       "      <td>UG</td>\n",
       "      <td>unknown</td>\n",
       "      <td>UGA</td>\n",
       "      <td>Uganda</td>\n",
       "      <td>Uganda</td>\n",
       "      <td>Africa</td>\n",
       "      <td>Eastern Africa</td>\n",
       "      <td>RO Nairobi</td>\n",
       "    </tr>\n",
       "    <tr>\n",
       "      <th>48797</th>\n",
       "      <td>2019</td>\n",
       "      <td>Female</td>\n",
       "      <td>unknown</td>\n",
       "      <td>unknown</td>\n",
       "      <td>unknown</td>\n",
       "      <td>UG</td>\n",
       "      <td>0</td>\n",
       "      <td>0</td>\n",
       "      <td>0</td>\n",
       "      <td>0</td>\n",
       "      <td>...</td>\n",
       "      <td>0</td>\n",
       "      <td>unknown</td>\n",
       "      <td>UG</td>\n",
       "      <td>unknown</td>\n",
       "      <td>UGA</td>\n",
       "      <td>Uganda</td>\n",
       "      <td>Uganda</td>\n",
       "      <td>Africa</td>\n",
       "      <td>Eastern Africa</td>\n",
       "      <td>RO Nairobi</td>\n",
       "    </tr>\n",
       "    <tr>\n",
       "      <th>48798</th>\n",
       "      <td>2019</td>\n",
       "      <td>Female</td>\n",
       "      <td>unknown</td>\n",
       "      <td>unknown</td>\n",
       "      <td>unknown</td>\n",
       "      <td>UG</td>\n",
       "      <td>0</td>\n",
       "      <td>0</td>\n",
       "      <td>0</td>\n",
       "      <td>0</td>\n",
       "      <td>...</td>\n",
       "      <td>0</td>\n",
       "      <td>unknown</td>\n",
       "      <td>UG</td>\n",
       "      <td>unknown</td>\n",
       "      <td>UGA</td>\n",
       "      <td>Uganda</td>\n",
       "      <td>Uganda</td>\n",
       "      <td>Africa</td>\n",
       "      <td>Eastern Africa</td>\n",
       "      <td>RO Nairobi</td>\n",
       "    </tr>\n",
       "    <tr>\n",
       "      <th>48799</th>\n",
       "      <td>2019</td>\n",
       "      <td>Female</td>\n",
       "      <td>unknown</td>\n",
       "      <td>unknown</td>\n",
       "      <td>unknown</td>\n",
       "      <td>UG</td>\n",
       "      <td>0</td>\n",
       "      <td>0</td>\n",
       "      <td>0</td>\n",
       "      <td>0</td>\n",
       "      <td>...</td>\n",
       "      <td>0</td>\n",
       "      <td>unknown</td>\n",
       "      <td>UG</td>\n",
       "      <td>unknown</td>\n",
       "      <td>UGA</td>\n",
       "      <td>Uganda</td>\n",
       "      <td>Uganda</td>\n",
       "      <td>Africa</td>\n",
       "      <td>Eastern Africa</td>\n",
       "      <td>RO Nairobi</td>\n",
       "    </tr>\n",
       "    <tr>\n",
       "      <th>48800</th>\n",
       "      <td>2019</td>\n",
       "      <td>Female</td>\n",
       "      <td>unknown</td>\n",
       "      <td>unknown</td>\n",
       "      <td>unknown</td>\n",
       "      <td>UG</td>\n",
       "      <td>0</td>\n",
       "      <td>0</td>\n",
       "      <td>0</td>\n",
       "      <td>0</td>\n",
       "      <td>...</td>\n",
       "      <td>0</td>\n",
       "      <td>unknown</td>\n",
       "      <td>UG</td>\n",
       "      <td>unknown</td>\n",
       "      <td>UGA</td>\n",
       "      <td>Uganda</td>\n",
       "      <td>Uganda</td>\n",
       "      <td>Africa</td>\n",
       "      <td>Eastern Africa</td>\n",
       "      <td>RO Nairobi</td>\n",
       "    </tr>\n",
       "  </tbody>\n",
       "</table>\n",
       "<p>48801 rows × 39 columns</p>\n",
       "</div>"
      ],
      "text/plain": [
       "      yearofregistration  gender agebroad majoritystatus majorityentry  \\\n",
       "0                   2002  Female   18--20          Adult       unknown   \n",
       "1                   2002  Female   18--20          Adult       unknown   \n",
       "2                   2002  Female   18--20          Adult       unknown   \n",
       "3                   2002  Female   18--20          Adult       unknown   \n",
       "4                   2002  Female   18--20          Adult       unknown   \n",
       "...                  ...     ...      ...            ...           ...   \n",
       "48796               2019  Female  unknown        unknown       unknown   \n",
       "48797               2019  Female  unknown        unknown       unknown   \n",
       "48798               2019  Female  unknown        unknown       unknown   \n",
       "48799               2019  Female  unknown        unknown       unknown   \n",
       "48800               2019  Female  unknown        unknown       unknown   \n",
       "\n",
       "      citizenship meansofcontroldebtbondage meansofcontroltakesearnings  \\\n",
       "0              CO                   unknown                     unknown   \n",
       "1              CO                   unknown                     unknown   \n",
       "2              CO                   unknown                     unknown   \n",
       "3              CO                   unknown                     unknown   \n",
       "4              CO                   unknown                     unknown   \n",
       "...           ...                       ...                         ...   \n",
       "48796          UG                         0                           0   \n",
       "48797          UG                         0                           0   \n",
       "48798          UG                         0                           0   \n",
       "48799          UG                         0                           0   \n",
       "48800          UG                         0                           0   \n",
       "\n",
       "      meansofcontrolrestrictsfinancialaccess meansofcontrolthreats  ...  \\\n",
       "0                                    unknown               unknown  ...   \n",
       "1                                    unknown               unknown  ...   \n",
       "2                                    unknown               unknown  ...   \n",
       "3                                    unknown               unknown  ...   \n",
       "4                                    unknown               unknown  ...   \n",
       "...                                      ...                   ...  ...   \n",
       "48796                                      0                     0  ...   \n",
       "48797                                      0                     0  ...   \n",
       "48798                                      0                     0  ...   \n",
       "48799                                      0                     0  ...   \n",
       "48800                                      0                     0  ...   \n",
       "\n",
       "      isabduction recruiterrelationship countryofexploitation  \\\n",
       "0         unknown               unknown               unknown   \n",
       "1         unknown               unknown               unknown   \n",
       "2         unknown               unknown               unknown   \n",
       "3         unknown               unknown               unknown   \n",
       "4         unknown               unknown               unknown   \n",
       "...           ...                   ...                   ...   \n",
       "48796           0               unknown                    UG   \n",
       "48797           0               unknown                    UG   \n",
       "48798           0               unknown                    UG   \n",
       "48799           0               unknown                    UG   \n",
       "48800           0               unknown                    UG   \n",
       "\n",
       "      recruiterrelationunknown iso3 country countrydescription unregion  \\\n",
       "0                            1  NaN     NaN                NaN      NaN   \n",
       "1                            1  NaN     NaN                NaN      NaN   \n",
       "2                            1  NaN     NaN                NaN      NaN   \n",
       "3                            1  NaN     NaN                NaN      NaN   \n",
       "4                            1  NaN     NaN                NaN      NaN   \n",
       "...                        ...  ...     ...                ...      ...   \n",
       "48796                  unknown  UGA  Uganda             Uganda   Africa   \n",
       "48797                  unknown  UGA  Uganda             Uganda   Africa   \n",
       "48798                  unknown  UGA  Uganda             Uganda   Africa   \n",
       "48799                  unknown  UGA  Uganda             Uganda   Africa   \n",
       "48800                  unknown  UGA  Uganda             Uganda   Africa   \n",
       "\n",
       "          unsubregion   iomregion  \n",
       "0                 NaN         NaN  \n",
       "1                 NaN         NaN  \n",
       "2                 NaN         NaN  \n",
       "3                 NaN         NaN  \n",
       "4                 NaN         NaN  \n",
       "...               ...         ...  \n",
       "48796  Eastern Africa  RO Nairobi  \n",
       "48797  Eastern Africa  RO Nairobi  \n",
       "48798  Eastern Africa  RO Nairobi  \n",
       "48799  Eastern Africa  RO Nairobi  \n",
       "48800  Eastern Africa  RO Nairobi  \n",
       "\n",
       "[48801 rows x 39 columns]"
      ]
     },
     "execution_count": 196,
     "metadata": {},
     "output_type": "execute_result"
    }
   ],
   "source": [
    "df1"
   ]
  },
  {
   "cell_type": "code",
   "execution_count": 197,
   "id": "d36569c0",
   "metadata": {},
   "outputs": [
    {
     "data": {
      "text/plain": [
       "yearofregistration                            0\n",
       "gender                                        0\n",
       "agebroad                                      0\n",
       "majoritystatus                                0\n",
       "majorityentry                                 0\n",
       "citizenship                                   0\n",
       "meansofcontroldebtbondage                     0\n",
       "meansofcontroltakesearnings                   0\n",
       "meansofcontrolrestrictsfinancialaccess        0\n",
       "meansofcontrolthreats                         0\n",
       "meansofcontrolpsychologicalabuse              0\n",
       "meansofcontrolphysicalabuse                   0\n",
       "meansofcontrolsexualabuse                     0\n",
       "meansofcontrolfalsepromises                   0\n",
       "meansofcontrolpsychoactivesubstances          0\n",
       "meansofcontrolrestrictsmovement               0\n",
       "meansofcontrolrestrictsmedicalcare            0\n",
       "meansofcontrolexcessiveworkinghours           0\n",
       "meansofcontroluseschildren                    0\n",
       "meansofcontrolthreatoflawenforcement          0\n",
       "meansofcontrolwithholdsnecessities            0\n",
       "meansofcontrolwithholdsdocuments              0\n",
       "meansofcontrolother                           0\n",
       "meansofcontrolnotspecified                    0\n",
       "meansofcontrolconcatenated                    0\n",
       "isorganremoval                                0\n",
       "typeofexploitconcatenated                     0\n",
       "typeoflabourconcatenated                      0\n",
       "typeofsexconcatenated                         0\n",
       "isabduction                                   0\n",
       "recruiterrelationship                         0\n",
       "countryofexploitation                         0\n",
       "recruiterrelationunknown                      0\n",
       "iso3                                      11019\n",
       "country                                   11019\n",
       "countrydescription                        11019\n",
       "unregion                                  11019\n",
       "unsubregion                               11019\n",
       "iomregion                                 11019\n",
       "dtype: int64"
      ]
     },
     "execution_count": 197,
     "metadata": {},
     "output_type": "execute_result"
    }
   ],
   "source": [
    "df1.isna().sum()"
   ]
  },
  {
   "cell_type": "code",
   "execution_count": 198,
   "id": "a30b58b5",
   "metadata": {},
   "outputs": [],
   "source": [
    "df1.replace('np.NAN','unknown', inplace=True)\n",
    "df1.replace('np.NAN', 'unknown', inplace=True)"
   ]
  },
  {
   "cell_type": "code",
   "execution_count": 199,
   "id": "5ef8499f",
   "metadata": {},
   "outputs": [
    {
     "data": {
      "text/html": [
       "<div>\n",
       "<style scoped>\n",
       "    .dataframe tbody tr th:only-of-type {\n",
       "        vertical-align: middle;\n",
       "    }\n",
       "\n",
       "    .dataframe tbody tr th {\n",
       "        vertical-align: top;\n",
       "    }\n",
       "\n",
       "    .dataframe thead th {\n",
       "        text-align: right;\n",
       "    }\n",
       "</style>\n",
       "<table border=\"1\" class=\"dataframe\">\n",
       "  <thead>\n",
       "    <tr style=\"text-align: right;\">\n",
       "      <th></th>\n",
       "      <th>yearofregistration</th>\n",
       "      <th>gender</th>\n",
       "      <th>agebroad</th>\n",
       "      <th>majoritystatus</th>\n",
       "      <th>majorityentry</th>\n",
       "      <th>citizenship</th>\n",
       "      <th>meansofcontroldebtbondage</th>\n",
       "      <th>meansofcontroltakesearnings</th>\n",
       "      <th>meansofcontrolrestrictsfinancialaccess</th>\n",
       "      <th>meansofcontrolthreats</th>\n",
       "      <th>...</th>\n",
       "      <th>isabduction</th>\n",
       "      <th>recruiterrelationship</th>\n",
       "      <th>countryofexploitation</th>\n",
       "      <th>recruiterrelationunknown</th>\n",
       "      <th>iso3</th>\n",
       "      <th>country</th>\n",
       "      <th>countrydescription</th>\n",
       "      <th>unregion</th>\n",
       "      <th>unsubregion</th>\n",
       "      <th>iomregion</th>\n",
       "    </tr>\n",
       "  </thead>\n",
       "  <tbody>\n",
       "    <tr>\n",
       "      <th>0</th>\n",
       "      <td>2002</td>\n",
       "      <td>Female</td>\n",
       "      <td>18--20</td>\n",
       "      <td>Adult</td>\n",
       "      <td>unknown</td>\n",
       "      <td>CO</td>\n",
       "      <td>unknown</td>\n",
       "      <td>unknown</td>\n",
       "      <td>unknown</td>\n",
       "      <td>unknown</td>\n",
       "      <td>...</td>\n",
       "      <td>unknown</td>\n",
       "      <td>unknown</td>\n",
       "      <td>unknown</td>\n",
       "      <td>1</td>\n",
       "      <td>NaN</td>\n",
       "      <td>NaN</td>\n",
       "      <td>NaN</td>\n",
       "      <td>NaN</td>\n",
       "      <td>NaN</td>\n",
       "      <td>NaN</td>\n",
       "    </tr>\n",
       "    <tr>\n",
       "      <th>1</th>\n",
       "      <td>2002</td>\n",
       "      <td>Female</td>\n",
       "      <td>18--20</td>\n",
       "      <td>Adult</td>\n",
       "      <td>unknown</td>\n",
       "      <td>CO</td>\n",
       "      <td>unknown</td>\n",
       "      <td>unknown</td>\n",
       "      <td>unknown</td>\n",
       "      <td>unknown</td>\n",
       "      <td>...</td>\n",
       "      <td>unknown</td>\n",
       "      <td>unknown</td>\n",
       "      <td>unknown</td>\n",
       "      <td>1</td>\n",
       "      <td>NaN</td>\n",
       "      <td>NaN</td>\n",
       "      <td>NaN</td>\n",
       "      <td>NaN</td>\n",
       "      <td>NaN</td>\n",
       "      <td>NaN</td>\n",
       "    </tr>\n",
       "    <tr>\n",
       "      <th>2</th>\n",
       "      <td>2002</td>\n",
       "      <td>Female</td>\n",
       "      <td>18--20</td>\n",
       "      <td>Adult</td>\n",
       "      <td>unknown</td>\n",
       "      <td>CO</td>\n",
       "      <td>unknown</td>\n",
       "      <td>unknown</td>\n",
       "      <td>unknown</td>\n",
       "      <td>unknown</td>\n",
       "      <td>...</td>\n",
       "      <td>unknown</td>\n",
       "      <td>unknown</td>\n",
       "      <td>unknown</td>\n",
       "      <td>1</td>\n",
       "      <td>NaN</td>\n",
       "      <td>NaN</td>\n",
       "      <td>NaN</td>\n",
       "      <td>NaN</td>\n",
       "      <td>NaN</td>\n",
       "      <td>NaN</td>\n",
       "    </tr>\n",
       "    <tr>\n",
       "      <th>3</th>\n",
       "      <td>2002</td>\n",
       "      <td>Female</td>\n",
       "      <td>18--20</td>\n",
       "      <td>Adult</td>\n",
       "      <td>unknown</td>\n",
       "      <td>CO</td>\n",
       "      <td>unknown</td>\n",
       "      <td>unknown</td>\n",
       "      <td>unknown</td>\n",
       "      <td>unknown</td>\n",
       "      <td>...</td>\n",
       "      <td>unknown</td>\n",
       "      <td>unknown</td>\n",
       "      <td>unknown</td>\n",
       "      <td>1</td>\n",
       "      <td>NaN</td>\n",
       "      <td>NaN</td>\n",
       "      <td>NaN</td>\n",
       "      <td>NaN</td>\n",
       "      <td>NaN</td>\n",
       "      <td>NaN</td>\n",
       "    </tr>\n",
       "    <tr>\n",
       "      <th>4</th>\n",
       "      <td>2002</td>\n",
       "      <td>Female</td>\n",
       "      <td>18--20</td>\n",
       "      <td>Adult</td>\n",
       "      <td>unknown</td>\n",
       "      <td>CO</td>\n",
       "      <td>unknown</td>\n",
       "      <td>unknown</td>\n",
       "      <td>unknown</td>\n",
       "      <td>unknown</td>\n",
       "      <td>...</td>\n",
       "      <td>unknown</td>\n",
       "      <td>unknown</td>\n",
       "      <td>unknown</td>\n",
       "      <td>1</td>\n",
       "      <td>NaN</td>\n",
       "      <td>NaN</td>\n",
       "      <td>NaN</td>\n",
       "      <td>NaN</td>\n",
       "      <td>NaN</td>\n",
       "      <td>NaN</td>\n",
       "    </tr>\n",
       "    <tr>\n",
       "      <th>...</th>\n",
       "      <td>...</td>\n",
       "      <td>...</td>\n",
       "      <td>...</td>\n",
       "      <td>...</td>\n",
       "      <td>...</td>\n",
       "      <td>...</td>\n",
       "      <td>...</td>\n",
       "      <td>...</td>\n",
       "      <td>...</td>\n",
       "      <td>...</td>\n",
       "      <td>...</td>\n",
       "      <td>...</td>\n",
       "      <td>...</td>\n",
       "      <td>...</td>\n",
       "      <td>...</td>\n",
       "      <td>...</td>\n",
       "      <td>...</td>\n",
       "      <td>...</td>\n",
       "      <td>...</td>\n",
       "      <td>...</td>\n",
       "      <td>...</td>\n",
       "    </tr>\n",
       "    <tr>\n",
       "      <th>48796</th>\n",
       "      <td>2019</td>\n",
       "      <td>Female</td>\n",
       "      <td>unknown</td>\n",
       "      <td>unknown</td>\n",
       "      <td>unknown</td>\n",
       "      <td>UG</td>\n",
       "      <td>0</td>\n",
       "      <td>0</td>\n",
       "      <td>0</td>\n",
       "      <td>0</td>\n",
       "      <td>...</td>\n",
       "      <td>0</td>\n",
       "      <td>unknown</td>\n",
       "      <td>UG</td>\n",
       "      <td>unknown</td>\n",
       "      <td>UGA</td>\n",
       "      <td>Uganda</td>\n",
       "      <td>Uganda</td>\n",
       "      <td>Africa</td>\n",
       "      <td>Eastern Africa</td>\n",
       "      <td>RO Nairobi</td>\n",
       "    </tr>\n",
       "    <tr>\n",
       "      <th>48797</th>\n",
       "      <td>2019</td>\n",
       "      <td>Female</td>\n",
       "      <td>unknown</td>\n",
       "      <td>unknown</td>\n",
       "      <td>unknown</td>\n",
       "      <td>UG</td>\n",
       "      <td>0</td>\n",
       "      <td>0</td>\n",
       "      <td>0</td>\n",
       "      <td>0</td>\n",
       "      <td>...</td>\n",
       "      <td>0</td>\n",
       "      <td>unknown</td>\n",
       "      <td>UG</td>\n",
       "      <td>unknown</td>\n",
       "      <td>UGA</td>\n",
       "      <td>Uganda</td>\n",
       "      <td>Uganda</td>\n",
       "      <td>Africa</td>\n",
       "      <td>Eastern Africa</td>\n",
       "      <td>RO Nairobi</td>\n",
       "    </tr>\n",
       "    <tr>\n",
       "      <th>48798</th>\n",
       "      <td>2019</td>\n",
       "      <td>Female</td>\n",
       "      <td>unknown</td>\n",
       "      <td>unknown</td>\n",
       "      <td>unknown</td>\n",
       "      <td>UG</td>\n",
       "      <td>0</td>\n",
       "      <td>0</td>\n",
       "      <td>0</td>\n",
       "      <td>0</td>\n",
       "      <td>...</td>\n",
       "      <td>0</td>\n",
       "      <td>unknown</td>\n",
       "      <td>UG</td>\n",
       "      <td>unknown</td>\n",
       "      <td>UGA</td>\n",
       "      <td>Uganda</td>\n",
       "      <td>Uganda</td>\n",
       "      <td>Africa</td>\n",
       "      <td>Eastern Africa</td>\n",
       "      <td>RO Nairobi</td>\n",
       "    </tr>\n",
       "    <tr>\n",
       "      <th>48799</th>\n",
       "      <td>2019</td>\n",
       "      <td>Female</td>\n",
       "      <td>unknown</td>\n",
       "      <td>unknown</td>\n",
       "      <td>unknown</td>\n",
       "      <td>UG</td>\n",
       "      <td>0</td>\n",
       "      <td>0</td>\n",
       "      <td>0</td>\n",
       "      <td>0</td>\n",
       "      <td>...</td>\n",
       "      <td>0</td>\n",
       "      <td>unknown</td>\n",
       "      <td>UG</td>\n",
       "      <td>unknown</td>\n",
       "      <td>UGA</td>\n",
       "      <td>Uganda</td>\n",
       "      <td>Uganda</td>\n",
       "      <td>Africa</td>\n",
       "      <td>Eastern Africa</td>\n",
       "      <td>RO Nairobi</td>\n",
       "    </tr>\n",
       "    <tr>\n",
       "      <th>48800</th>\n",
       "      <td>2019</td>\n",
       "      <td>Female</td>\n",
       "      <td>unknown</td>\n",
       "      <td>unknown</td>\n",
       "      <td>unknown</td>\n",
       "      <td>UG</td>\n",
       "      <td>0</td>\n",
       "      <td>0</td>\n",
       "      <td>0</td>\n",
       "      <td>0</td>\n",
       "      <td>...</td>\n",
       "      <td>0</td>\n",
       "      <td>unknown</td>\n",
       "      <td>UG</td>\n",
       "      <td>unknown</td>\n",
       "      <td>UGA</td>\n",
       "      <td>Uganda</td>\n",
       "      <td>Uganda</td>\n",
       "      <td>Africa</td>\n",
       "      <td>Eastern Africa</td>\n",
       "      <td>RO Nairobi</td>\n",
       "    </tr>\n",
       "  </tbody>\n",
       "</table>\n",
       "<p>48801 rows × 39 columns</p>\n",
       "</div>"
      ],
      "text/plain": [
       "      yearofregistration  gender agebroad majoritystatus majorityentry  \\\n",
       "0                   2002  Female   18--20          Adult       unknown   \n",
       "1                   2002  Female   18--20          Adult       unknown   \n",
       "2                   2002  Female   18--20          Adult       unknown   \n",
       "3                   2002  Female   18--20          Adult       unknown   \n",
       "4                   2002  Female   18--20          Adult       unknown   \n",
       "...                  ...     ...      ...            ...           ...   \n",
       "48796               2019  Female  unknown        unknown       unknown   \n",
       "48797               2019  Female  unknown        unknown       unknown   \n",
       "48798               2019  Female  unknown        unknown       unknown   \n",
       "48799               2019  Female  unknown        unknown       unknown   \n",
       "48800               2019  Female  unknown        unknown       unknown   \n",
       "\n",
       "      citizenship meansofcontroldebtbondage meansofcontroltakesearnings  \\\n",
       "0              CO                   unknown                     unknown   \n",
       "1              CO                   unknown                     unknown   \n",
       "2              CO                   unknown                     unknown   \n",
       "3              CO                   unknown                     unknown   \n",
       "4              CO                   unknown                     unknown   \n",
       "...           ...                       ...                         ...   \n",
       "48796          UG                         0                           0   \n",
       "48797          UG                         0                           0   \n",
       "48798          UG                         0                           0   \n",
       "48799          UG                         0                           0   \n",
       "48800          UG                         0                           0   \n",
       "\n",
       "      meansofcontrolrestrictsfinancialaccess meansofcontrolthreats  ...  \\\n",
       "0                                    unknown               unknown  ...   \n",
       "1                                    unknown               unknown  ...   \n",
       "2                                    unknown               unknown  ...   \n",
       "3                                    unknown               unknown  ...   \n",
       "4                                    unknown               unknown  ...   \n",
       "...                                      ...                   ...  ...   \n",
       "48796                                      0                     0  ...   \n",
       "48797                                      0                     0  ...   \n",
       "48798                                      0                     0  ...   \n",
       "48799                                      0                     0  ...   \n",
       "48800                                      0                     0  ...   \n",
       "\n",
       "      isabduction recruiterrelationship countryofexploitation  \\\n",
       "0         unknown               unknown               unknown   \n",
       "1         unknown               unknown               unknown   \n",
       "2         unknown               unknown               unknown   \n",
       "3         unknown               unknown               unknown   \n",
       "4         unknown               unknown               unknown   \n",
       "...           ...                   ...                   ...   \n",
       "48796           0               unknown                    UG   \n",
       "48797           0               unknown                    UG   \n",
       "48798           0               unknown                    UG   \n",
       "48799           0               unknown                    UG   \n",
       "48800           0               unknown                    UG   \n",
       "\n",
       "      recruiterrelationunknown iso3 country countrydescription unregion  \\\n",
       "0                            1  NaN     NaN                NaN      NaN   \n",
       "1                            1  NaN     NaN                NaN      NaN   \n",
       "2                            1  NaN     NaN                NaN      NaN   \n",
       "3                            1  NaN     NaN                NaN      NaN   \n",
       "4                            1  NaN     NaN                NaN      NaN   \n",
       "...                        ...  ...     ...                ...      ...   \n",
       "48796                  unknown  UGA  Uganda             Uganda   Africa   \n",
       "48797                  unknown  UGA  Uganda             Uganda   Africa   \n",
       "48798                  unknown  UGA  Uganda             Uganda   Africa   \n",
       "48799                  unknown  UGA  Uganda             Uganda   Africa   \n",
       "48800                  unknown  UGA  Uganda             Uganda   Africa   \n",
       "\n",
       "          unsubregion   iomregion  \n",
       "0                 NaN         NaN  \n",
       "1                 NaN         NaN  \n",
       "2                 NaN         NaN  \n",
       "3                 NaN         NaN  \n",
       "4                 NaN         NaN  \n",
       "...               ...         ...  \n",
       "48796  Eastern Africa  RO Nairobi  \n",
       "48797  Eastern Africa  RO Nairobi  \n",
       "48798  Eastern Africa  RO Nairobi  \n",
       "48799  Eastern Africa  RO Nairobi  \n",
       "48800  Eastern Africa  RO Nairobi  \n",
       "\n",
       "[48801 rows x 39 columns]"
      ]
     },
     "execution_count": 199,
     "metadata": {},
     "output_type": "execute_result"
    }
   ],
   "source": [
    "df1"
   ]
  },
  {
   "cell_type": "code",
   "execution_count": 200,
   "id": "bc63d261",
   "metadata": {},
   "outputs": [
    {
     "data": {
      "image/png": "[encoded data removed]",
      "text/plain": [
       "<Figure size 700x700 with 1 Axes>"
      ]
     },
     "metadata": {},
     "output_type": "display_data"
    }
   ],
   "source": [
    "import matplotlib.pyplot as plt\n",
    "fig = plt.figure(figsize=(7,7))\n",
    "ax = fig.add_axes([0,0,1,1])\n",
    "citi = dict(df1['country'].value_counts())\n",
    "ax.barh(list(citi.keys()), citi.values())\n",
    "ax.invert_yaxis()\n",
    "plt.show()"
   ]
  },
  {
   "cell_type": "code",
   "execution_count": 201,
   "id": "315ad828",
   "metadata": {},
   "outputs": [
    {
     "data": {
      "image/png": "[encoded data removed]",
      "text/plain": [
       "<Figure size 640x480 with 1 Axes>"
      ]
     },
     "metadata": {},
     "output_type": "display_data"
    }
   ],
   "source": [
    "sns.countplot(x=sheets['unregion'])\n",
    "plt.show()\n",
    "   "
   ]
  },
  {
   "cell_type": "code",
   "execution_count": 203,
   "id": "580ddc93",
   "metadata": {},
   "outputs": [
    {
     "data": {
      "text/plain": [
       "<Axes: xlabel='citizenship', ylabel='Count'>"
      ]
     },
     "execution_count": 203,
     "metadata": {},
     "output_type": "execute_result"
    },
    {
     "data": {
      "image/png": "[encoded data removed]",
      "text/plain": [
       "<Figure size 640x480 with 1 Axes>"
      ]
     },
     "metadata": {},
     "output_type": "display_data"
    }
   ],
   "source": [
    "import seaborn as sns\n",
    "import matplotlib.pyplot as plt\n",
    "%matplotlib inline\n",
    "\n",
    "sns.histplot(binwidth=0.5, x=\"citizenship\", hue=\"gender\", data=data, stat=\"count\", multiple=\"stack\")"
   ]
  },
  {
   "cell_type": "code",
   "execution_count": null,
   "id": "ff991616",
   "metadata": {},
   "outputs": [],
   "source": [
    "data.to_csv('data_vers2.csv')"
   ]
  },
  {
   "cell_type": "code",
   "execution_count": null,
   "id": "ed3ac7ba",
   "metadata": {},
   "outputs": [],
   "source": [
    "sheets.to_excel('sheets_vers2.xlsx')"
   ]
  },
  {
   "cell_type": "code",
   "execution_count": null,
   "id": "44bbddeb",
   "metadata": {},
   "outputs": [],
   "source": [
    "df1.to_excel('df1_vers2.xlsx')"
   ]
  },
  {
   "cell_type": "markdown",
   "id": "6dec6ee7",
   "metadata": {},
   "source": [
    "https://www.analyticslane.com/2021/03/15/truco-python-importar-todas-las-hojas-de-un-libro-excel-con-pandas/"
   ]
  },
  {
   "cell_type": "markdown",
   "id": "e8e8945d",
   "metadata": {},
   "source": [
    "https://seaborn.pydata.org/generated/seaborn.objects.Bar.html"
   ]
  },
  {
   "cell_type": "markdown",
   "id": "6378c75b",
   "metadata": {},
   "source": [
    "https://seaborn.pydata.org/tutorial/categorical.html"
   ]
  },
  {
   "cell_type": "code",
   "execution_count": null,
   "id": "f1d1a942",
   "metadata": {},
   "outputs": [],
   "source": []
  }
 ],
 "metadata": {
  "kernelspec": {
   "display_name": "Python 3 (ipykernel)",
   "language": "python",
   "name": "python3"
  },
  "language_info": {
   "codemirror_mode": {
    "name": "ipython",
    "version": 3
   },
   "file_extension": ".py",
   "mimetype": "text/x-python",
   "name": "python",
   "nbconvert_exporter": "python",
   "pygments_lexer": "ipython3",
   "version": "3.10.9"
  }
 },
 "nbformat": 4,
 "nbformat_minor": 5
}
